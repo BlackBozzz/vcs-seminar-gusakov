{
 "cells": [
  {
   "cell_type": "markdown",
   "id": "31963a08",
   "metadata": {
    "pycharm": {
     "name": "#%% md\n"
    }
   },
   "source": [
    "<img src=\"../Img/Python_SQL_PI.png\" style=\"width:100%\">\n",
    "\n",
    "\n",
    "<p style=\"font-size:160%;text-align:center\">Семинар 6.1. Соединение таблиц с помощью оператора LEFT OUTER JOIN</p> \n",
    "\n",
    "<a id = Home></a>\n",
    "\n",
    "**21 апреля 2022 года, чт**<br>\n",
    "5-я пара, 15:40 - 17:10<br>\n",
    "В4/3411(кк) (4-й Вешняковский проезд, 4)<br>\n",
    "ПИ20-1, ПИ20-2, ПИ20-3, ПИ20-4, ПИ20-5, ПИ20-6 (2 подгруппа)<br>\n",
    "\n",
    "\n",
    "**25 апреля 2022 года, пн**<br>\n",
    "2-я пара, 10:10 - 11:40<br>\n",
    "Щ38/509(кк) (ул. Щербаковская, 38)<br>\n",
    "ПИ20-1, ПИ20-2, ПИ20-3, ПИ20-4, ПИ20-5, ПИ20-6 (4 подгруппа)<br>\n",
    "\n",
    "3-я пара, 11:50 - 13:20<br>\n",
    "Щ38/509(кк) (ул. Щербаковская, 38)<br>\n",
    "Поток:ПИ20-1, ПИ20-2, ПИ20-3, ПИ20-4, ПИ20-5, ПИ20-6 (3 подгруппа)\n",
    "\n",
    "\n",
    "**28 апреля 2022 года, чт**<br>\n",
    "6-я пара, 17:20 - 18:50<br>\n",
    "В4/3411(кк) (4-й Вешняковский проезд, 4)<br>\n",
    "ПИ20-1, ПИ20-2, ПИ20-3, ПИ20-4, ПИ20-5, ПИ20-6 (1 подгруппа)<br>\n",
    "\n",
    "\n"
   ]
  },
  {
   "cell_type": "markdown",
   "id": "f6575b35",
   "metadata": {
    "pycharm": {
     "name": "#%% md\n"
    }
   },
   "source": [
    "\n",
    "```\n",
    "STUDENT\n",
    "STUDENT_ID — числовой код, идентифицирующий студента (идентификатор студента),\n",
    "SURNAME — фамилия студента,\n",
    "NAME — имя студента,\n",
    "STIPEND — стипендия, которую получает студент,\n",
    "KURS — курс, на котором учится студент,\n",
    "CITY — город, в котором живет студент,\n",
    "BIRTHDAY — дата рождения студента,\n",
    "UNIV_ID — идентификатор университета, в котором учится студент.\n",
    "\n",
    "\n",
    "LECTURER\n",
    "LECTURER_ID — идентификатор преподавателя,\n",
    "SURNAME — фамилия преподавателя,\n",
    "NAME — имя преподавателя,\n",
    "CITY — город, в котором живет преподаватель,\n",
    "UNIV_ID — идентификатор университета, в котором работает преподаватель\n",
    "\n",
    "\n",
    "SUBJECT\n",
    "SUBJ_ID — идентификатор предмета обучения,\n",
    "SUBJ_NAME — наименование предмета обучения,\n",
    "HOUR — количество часов, отводимых на изучение предмета,\n",
    "SEMESTER — семестр, в котором изучается данный предмет.\n",
    "\n",
    "\n",
    "UNIVERSITY\n",
    "UNIV_ID — идентификатор университета,\n",
    "UNIV_NAME — название университета,\n",
    "RATING — рейтинг университета,\n",
    "CITY — город, в котором расположен университет.\n",
    "\n",
    "\n",
    "EXAM_MARKS\n",
    "EXAM_ID — идентификатор экзамена,\n",
    "STUDENT_ID — идентификатор студента,\n",
    "SUBJ_ID — идентификатор предмета обучения,\n",
    "MARK — экзаменационная оценка,\n",
    "EXAM_DATE — дата экзамена.\n",
    "\n",
    "\n",
    "SUBJ_LECT\n",
    "LECTURER_ID — идентификатор преподавателя,\n",
    "SUBJ_ID — идентификатор предмета обучения.\n",
    "```\n",
    "\n",
    "<img src=\"../Img/Students_Schema.png\" style=\"width:60%\">"
   ]
  },
  {
   "cell_type": "code",
   "execution_count": 2,
   "id": "b43644d8",
   "metadata": {
    "pycharm": {
     "name": "#%%\n"
    }
   },
   "outputs": [],
   "source": [
    "#! pip install sqlalchemy"
   ]
  },
  {
   "cell_type": "code",
   "execution_count": 1,
   "id": "37e97907",
   "metadata": {
    "pycharm": {
     "name": "#%%\n"
    }
   },
   "outputs": [],
   "source": [
    "from sqlalchemy import MetaData, Table, create_engine, select, and_, or_, not_, text\n",
    "from sqlalchemy.sql import func, distinct, exists"
   ]
  },
  {
   "cell_type": "code",
   "execution_count": 2,
   "id": "eb4393e8",
   "metadata": {
    "pycharm": {
     "name": "#%%\n"
    }
   },
   "outputs": [],
   "source": [
    "engine = create_engine('sqlite:///Students.db')\n",
    "metadata_obj = MetaData() # Объект-контейнер, содержит информацию о схеме данных\n",
    "metadata_obj.reflect(bind=engine) # Отображение БД"
   ]
  },
  {
   "cell_type": "markdown",
   "id": "3797f17f",
   "metadata": {
    "pycharm": {
     "name": "#%% md\n"
    }
   },
   "source": [
    "Создание объектов таблиц"
   ]
  },
  {
   "cell_type": "code",
   "execution_count": 3,
   "id": "6e812caf",
   "metadata": {
    "pycharm": {
     "name": "#%%\n"
    }
   },
   "outputs": [],
   "source": [
    "exam_marks=Table(\"exam_marks\", metadata_obj, autoload=True, autoload_with=\"engine\")\n",
    "lecturer=Table(\"lecturer\", metadata_obj, autoload=True, autoload_with=\"engine\")\n",
    "student=Table(\"student\", metadata_obj, autoload=True, autoload_with=\"engine\")\n",
    "subj_lect=Table(\"subj_lect\", metadata_obj, autoload=True, autoload_with=\"engine\")\n",
    "subject=Table(\"subject\", metadata_obj, autoload=True, autoload_with=\"engine\")\n",
    "university=Table(\"university\", metadata_obj, autolad=True, autolad_with=\"engine\")"
   ]
  },
  {
   "cell_type": "code",
   "execution_count": 4,
   "id": "5e0c68fe",
   "metadata": {
    "pycharm": {
     "name": "#%%\n"
    }
   },
   "outputs": [],
   "source": [
    "conn=engine.connect() # Соединение"
   ]
  },
  {
   "cell_type": "markdown",
   "id": "fb742d9f",
   "metadata": {
    "pycharm": {
     "name": "#%% md\n"
    }
   },
   "source": [
    "<img src=../Img/pencil.png style=\"width:190px;height:190px\">\n",
    "<p style=\"background-color:powderblue; font-size:125%; color: rebeccapurple;\">Выполните задания</p>\n",
    "<p>Выполните задания с помощью соедиинения таблиц в Jupyter Notebook </p>\n",
    "\n",
    "1. Напишите запрос, который выполняет вывод фамилий студентов, сдавших экзамены, вместе с идентификаторами сданных ими предметов обучения. Отсортируйте результат по фамилии студента.\n",
    "\n",
    "2. Напишите запрос, который выполняет выборку фамилий всех студентов, с указанием для студентов, сдававших экзамены, идентификаторов предметов обучения. Отсортируйте результат по фамилии студента.\n",
    "\n",
    "3. Напишите запрос, который выполняет вывод фамилий студентов, сдавших экзамены, вместе с наименованиями каждого сданного ими предмета обучения. Отсортируйте результат по фамилии студента.\n",
    "\n",
    "4. Напишите запрос на выдачу списка всех студентов. Для студентов, сдававших экзамены, укажите названия соответствующих предметов обучения. Отсортируйте результат по фамилии студента.\n",
    "\n",
    "5. Напишите запрос на выдачу названий всех предметов, по которым студенты получили только хорошие (4 и 5) оценки. В выходных данных должны быть приведены фамилии студентов, названия предметов и оценка. Отсортируйте результат по фамилии студента.\n",
    "\n",
    "6. Напишите запрос, который выполняет вывод списка университетов с рейтингом, превышающим 300, вместе со значением максимального размера стипендии, получаемой студентами в этих университетах. Результат должен содержать название университета, значение рейтинга, значение макисмальной стипендии. Отсортируйте по значению максимальной стипендии.\n",
    "\n",
    "7. Напишите запрос на выдачу списка студентов (в алфавитном порядке фамилий) вместе со значением рейтинга университета, где каждый из них учится, включив в список и тех студентов, место учебы которых в базе данных не указано.\n",
    "\n",
    "8. Напишите запрос для получения списка всех университетов вместе с фамилиями студентов, в них обучающихся. Отдельным запросом получите записи, расширяющие данный список по сравнению с тем, который был бы получен внутренним соединением. Выполните такой отдельный запрос двумя способами: с помощью оператора EXISTS() и без.\n",
    "\n",
    "9. Напишите запрос для получения списка всех студентов вместе с названиями университетов, в которых они учатся. Отдельным запросом получите записи, расширяющие данный список по сравнению с тем, который был бы получен внутренним соединением.\n",
    "\n",
    "10. Напишите запрос для получения списка всех университетов вместе с фамилиями преподавателей, в них работающих. Отдельным запросом получите записи, расширяющие данный список по сравнению с тем, который был бы получен внутренним соединением.\n",
    "\n",
    "11. Напишите запрос для получения списка всех преподавателей вместе с университетами, в которых они работают. Есть ли отличие списка от того, который был бы получен внутренним соединением? Подтвердите отдельным запросом ваш вывод.\n",
    "\n",
    "12. Напишите запрос для получения списка всех студентов и оценок, полученных ими на экзаменах. Отдельным запросом получите записи, расширяющие данный список по сравнению с тем, который был бы получен внутренним соединением.\n",
    "\n",
    "13. Напишите запрос для получения списка всех экзаменационных оценок вместе с фамилиями получивших их студентов. Есть ли отличие списка от того, который был бы получен внутренним соединением? Подтвердите отдельным запросом ваш вывод.\n",
    "\n",
    "14. Напишите запрос для получения полного списка предметов с соответствующими экзаменационными оценками. Есть ли отличие списка от того, который был бы получен внутренним соединением? Подтвердите отдельным запросом ваш вывод.\n",
    "\n",
    "15. Напишите запрос для получения полного списка оценок вместе с названиями предметов, по которым они получены. Есть ли отличие списка от того, который был бы получен внутренним соединением? Подтвердите отдельным запросом ваш вывод."
   ]
  },
  {
   "cell_type": "markdown",
   "id": "5002382e",
   "metadata": {
    "pycharm": {
     "name": "#%% md\n"
    }
   },
   "source": [
    "# Решение"
   ]
  },
  {
   "cell_type": "code",
   "execution_count": 5,
   "id": "60777279",
   "metadata": {
    "pycharm": {
     "name": "#%%\n"
    }
   },
   "outputs": [],
   "source": [
    "st = student.alias('st')\n",
    "em = exam_marks.alias('em')\n",
    "u = university.alias('u')\n",
    "l = lecturer.alias('l')\n",
    "sl = subj_lect.alias('sl')\n",
    "su = subject.alias('su')"
   ]
  },
  {
   "cell_type": "code",
   "execution_count": 9,
   "id": "59941c96",
   "metadata": {
    "scrolled": true,
    "pycharm": {
     "name": "#%%\n"
    }
   },
   "outputs": [
    {
     "name": "stdout",
     "output_type": "stream",
     "text": [
      "SELECT st.surname, em.exam_id \n",
      "FROM student AS st JOIN exam_marks AS em ON st.student_id = em.student_id \n",
      "WHERE em.mark > :mark_1 ORDER BY st.surname\n",
      "26\n"
     ]
    },
    {
     "data": {
      "text/plain": [
       "[('Антонов', 22),\n",
       " ('Белкин', 75),\n",
       " ('Блохина', 9),\n",
       " ('Борисова', 17),\n",
       " ('Васильев', 19),\n",
       " ('Васильев', 27),\n",
       " ('Жданова', 12),\n",
       " ('Жук', 3),\n",
       " ('Зайцева', 238),\n",
       " ('Казакова', 2)]"
      ]
     },
     "execution_count": 9,
     "metadata": {},
     "output_type": "execute_result"
    }
   ],
   "source": [
    "\"\"\" 1.Напишите запрос, который выполняет вывод фамилий студентов, \n",
    "сдавших экзамены, вместе с идентификаторами сданных ими предметов обучения. \n",
    "Отсортируйте результат по фамилии студента.\"\"\"\n",
    "\n",
    "s = select(st.c.surname, em.c.exam_id)\n",
    "s = s.join_from(st, em)\n",
    "s = s.where(em.c.mark>2)\n",
    "s = s.order_by(st.c.surname)\n",
    "\n",
    "print(s)\n",
    "result = conn.execute(s).fetchall()\n",
    "print(len(result))\n",
    "result[:10]"
   ]
  },
  {
   "cell_type": "code",
   "execution_count": 11,
   "id": "6da42468",
   "metadata": {
    "pycharm": {
     "name": "#%%\n"
    }
   },
   "outputs": [
    {
     "name": "stdout",
     "output_type": "stream",
     "text": [
      "SELECT st.surname, em.exam_id \n",
      "FROM student AS st LEFT OUTER JOIN exam_marks AS em ON st.student_id = em.student_id ORDER BY st.surname\n",
      "100\n"
     ]
    },
    {
     "data": {
      "text/plain": [
       "[('Агафонов', None),\n",
       " ('Аксенов', None),\n",
       " ('Антонов', 22),\n",
       " ('Архипов', None),\n",
       " ('Афанасьева', 7),\n",
       " ('Баранов', None),\n",
       " ('Белкин', 75),\n",
       " ('Белкин', 639),\n",
       " ('Бирюков', None),\n",
       " ('Бирюков', None)]"
      ]
     },
     "execution_count": 11,
     "metadata": {},
     "output_type": "execute_result"
    }
   ],
   "source": [
    "\"\"\"\n",
    "2. Напишите запрос, который выполняет выборку фамилий всех студентов, \n",
    "с указанием для студентов, сдававших экзамены, идентификаторов предметов обучения. \n",
    "Отсортируйте результат по фамилии студента.\n",
    "\"\"\"\n",
    "\n",
    "s = select(st.c.surname, em.c.exam_id)\n",
    "s = s.join_from(st, em, isouter=True)\n",
    "s = s.order_by(st.c.surname)\n",
    "\n",
    "print(s)\n",
    "result = conn.execute(s).fetchall()\n",
    "print(len(result))\n",
    "result[:10]"
   ]
  },
  {
   "cell_type": "code",
   "execution_count": 13,
   "id": "5e7b3611",
   "metadata": {
    "pycharm": {
     "name": "#%%\n"
    }
   },
   "outputs": [
    {
     "name": "stdout",
     "output_type": "stream",
     "text": [
      "SELECT st.surname, su.subj_name \n",
      "FROM student AS st JOIN exam_marks AS em ON st.student_id = em.student_id JOIN subject AS su ON su.subj_id = em.subj_id \n",
      "WHERE em.mark > :mark_1 ORDER BY st.surname\n",
      "26\n"
     ]
    },
    {
     "data": {
      "text/plain": [
       "[('Антонов', 'Информатика'),\n",
       " ('Белкин', 'Информатика'),\n",
       " ('Блохина', 'Физика'),\n",
       " ('Борисова', 'Английский язык'),\n",
       " ('Васильев', 'Физкультура'),\n",
       " ('Васильев', 'ОБЖ'),\n",
       " ('Жданова', 'История'),\n",
       " ('Жук', 'Физкультура'),\n",
       " ('Зайцева', 'Информатика'),\n",
       " ('Казакова', 'Физкультура')]"
      ]
     },
     "execution_count": 13,
     "metadata": {},
     "output_type": "execute_result"
    }
   ],
   "source": [
    "\"\"\"\n",
    "3. Напишите запрос, который выполняет вывод фамилий студентов, \n",
    "сдавших экзамены, вместе с наименованиями каждого сданного ими предмета обучения.\n",
    "Отсортируйте результат по фамилии студента.\n",
    "\"\"\"\n",
    "s = select(st.c.surname, su.c.subj_name)\n",
    "s = s.join_from(st, em).join(su)\n",
    "s = s.where(em.c.mark>2)\n",
    "s = s.order_by(st.c.surname)\n",
    "\n",
    "print(s)\n",
    "result = conn.execute(s).fetchall()\n",
    "print(len(result))\n",
    "result[:10]"
   ]
  },
  {
   "cell_type": "code",
   "execution_count": 15,
   "id": "87011ab1",
   "metadata": {
    "scrolled": true,
    "pycharm": {
     "name": "#%%\n"
    }
   },
   "outputs": [
    {
     "name": "stdout",
     "output_type": "stream",
     "text": [
      "SELECT st.surname, su.subj_name \n",
      "FROM student AS st LEFT OUTER JOIN exam_marks AS em ON st.student_id = em.student_id LEFT OUTER JOIN subject AS su ON su.subj_id = em.subj_id ORDER BY st.surname\n",
      "100\n"
     ]
    },
    {
     "data": {
      "text/plain": [
       "[('Агафонов', None),\n",
       " ('Аксенов', None),\n",
       " ('Антонов', 'Информатика'),\n",
       " ('Архипов', None),\n",
       " ('Афанасьева', 'Анализ данных'),\n",
       " ('Баранов', None),\n",
       " ('Белкин', 'Информатика'),\n",
       " ('Белкин', 'Информатика'),\n",
       " ('Бирюков', None),\n",
       " ('Бирюков', None)]"
      ]
     },
     "execution_count": 15,
     "metadata": {},
     "output_type": "execute_result"
    }
   ],
   "source": [
    "\"\"\"\n",
    "4. Напишите запрос на выдачу списка всех студентов.\n",
    "Для студентов, сдававших экзамены, укажите названия соответствующих предметов обучения.\n",
    "Отсортируйте результат по фамилии студента\n",
    "\"\"\"\n",
    "\n",
    "s = select(st.c.surname, su.c.subj_name)\n",
    "s = s.join_from(st, em, isouter=True).join(su, isouter=True)\n",
    "s = s.order_by(st.c.surname)\n",
    "\n",
    "print(s)\n",
    "result = conn.execute(s).fetchall()\n",
    "print(len(result))\n",
    "result[:10]"
   ]
  },
  {
   "cell_type": "code",
   "execution_count": 17,
   "id": "557eb20f",
   "metadata": {
    "scrolled": true,
    "pycharm": {
     "name": "#%%\n"
    }
   },
   "outputs": [
    {
     "name": "stdout",
     "output_type": "stream",
     "text": [
      "SELECT st.surname, su.subj_name, em.mark \n",
      "FROM student AS st JOIN exam_marks AS em ON st.student_id = em.student_id JOIN subject AS su ON su.subj_id = em.subj_id \n",
      "WHERE em.mark IN ([POSTCOMPILE_mark_1]) ORDER BY st.surname\n",
      "20\n"
     ]
    },
    {
     "data": {
      "text/plain": [
       "[('Белкин', 'Информатика', 5),\n",
       " ('Блохина', 'Физика', 5),\n",
       " ('Борисова', 'Английский язык', 5),\n",
       " ('Васильев', 'ОБЖ', 5),\n",
       " ('Жданова', 'История', 5),\n",
       " ('Жук', 'Физкультура', 4),\n",
       " ('Зайцева', 'Информатика', 5),\n",
       " ('Казакова', 'Физкультура', 4),\n",
       " ('Костина', 'Физика', 4),\n",
       " ('Котов', 'Информатика', 4)]"
      ]
     },
     "execution_count": 17,
     "metadata": {},
     "output_type": "execute_result"
    }
   ],
   "source": [
    "\"\"\"\n",
    "5. Напишите запрос на выдачу названий всех предметов, по которым студенты получили\n",
    "только хорошие (4 и 5) оценки. В выходных данных должны быть приведены фамилии студентов,\n",
    "названия предметов и оценка. Отсортируйте результат по фамилии студента.\n",
    "\"\"\"\n",
    "\n",
    "s = select(st.c.surname, su.c.subj_name, em.c.mark)\n",
    "s = s.select_from(st).join(em).join(su)\n",
    "s = s.where(em.c.mark.in_([4, 5]))\n",
    "s = s.order_by(st.c.surname)\n",
    "\n",
    "print(s)\n",
    "result = conn.execute(s).fetchall()\n",
    "print(len(result))\n",
    "result[:10]"
   ]
  },
  {
   "cell_type": "code",
   "execution_count": 21,
   "id": "7b916590",
   "metadata": {
    "pycharm": {
     "name": "#%%\n"
    }
   },
   "outputs": [
    {
     "name": "stdout",
     "output_type": "stream",
     "text": [
      "SELECT university.univ_name, university.rating, max(student.stipend) AS max_1 \n",
      "FROM university JOIN student ON university.univ_id = student.univ_id \n",
      "WHERE university.rating > :rating_1 AND student.stipend != :stipend_1 GROUP BY university.univ_name ORDER BY max(student.stipend)\n",
      "9\n"
     ]
    },
    {
     "data": {
      "text/plain": [
       "[('ВГМА', 327, 200),\n",
       " ('МГТУ им. Баумана', 372, 200),\n",
       " ('ФГБОУ \"Политех\"', 304, 200),\n",
       " ('БГУ', 326, 250),\n",
       " ('МГУ', 606, 250),\n",
       " ('НГУ', 345, 250),\n",
       " ('РГУ', 416, 250),\n",
       " ('ТГУ', 368, 250),\n",
       " ('ФинУ', 330, 250)]"
      ]
     },
     "execution_count": 21,
     "metadata": {},
     "output_type": "execute_result"
    }
   ],
   "source": [
    "\"\"\"\n",
    "6. Напишите запрос, который выполняет вывод списка университетов с рейтингом, \n",
    "превышающим 300, вместе со значением максимального размера стипендии, \n",
    "получаемой студентами в этих университетах. Результат должен содержать \n",
    "название университета, значение рейтинга, значение макисмальной стипендии. \n",
    "Отсортируйте по значению максимальной стипендии.\n",
    "\"\"\"\n",
    "\n",
    "s = select(university.c.univ_name, university.c.rating, func.max(student.c.stipend))\n",
    "\n",
    "s = s.join(student)\n",
    "s = s.group_by(university.c.univ_name)\n",
    "s = s.where(and_(university.c.rating > 300,student.c.stipend != \"None\"))\n",
    "s = s.order_by(func.max(student.c.stipend))\n",
    "\n",
    "print(s)\n",
    "result = conn.execute(s).fetchall()\n",
    "print(len(result))\n",
    "result"
   ]
  },
  {
   "cell_type": "code",
   "execution_count": 23,
   "id": "e2eea612",
   "metadata": {
    "pycharm": {
     "name": "#%%\n"
    }
   },
   "outputs": [
    {
     "name": "stdout",
     "output_type": "stream",
     "text": [
      "SELECT student.surname, student.name, university.univ_name, university.rating \n",
      "FROM student LEFT OUTER JOIN university ON university.univ_id = student.univ_id ORDER BY student.surname\n",
      "90\n"
     ]
    },
    {
     "data": {
      "text/plain": [
       "[('Агафонов', 'Василий', 'ВГУ', 296),\n",
       " ('Аксенов', 'Валерий', 'ВГУ', 296),\n",
       " ('Антонов', 'Анатолий', 'МГУ', 606),\n",
       " ('Архипов', 'Андрей', 'МГУ', 606),\n",
       " ('Афанасьева', 'Анжелика', 'РГУ', 416),\n",
       " ('Баранов', 'Александр', 'ФинУ', 330),\n",
       " ('Белкин', 'Вадим', 'ВГУ', 296),\n",
       " ('Бирюков', 'Герасим', 'ФинУ', 330),\n",
       " ('Бирюков', 'Мартин', 'КФУ', None),\n",
       " ('Блохина', 'Ираида', 'МГУ', 606)]"
      ]
     },
     "execution_count": 23,
     "metadata": {},
     "output_type": "execute_result"
    }
   ],
   "source": [
    "\"\"\"\n",
    "7.Напишите запрос на выдачу списка студентов (в алфавитном порядке фамилий) \n",
    "вместе со значением рейтинга университета, где каждый из них учится, \n",
    "включив в список и тех студентов, место учебы которых в базе данных не указано.\n",
    "\"\"\"\n",
    "\n",
    "s = select(student.c.surname, student.c.name, university.c.univ_name, university.c.rating)\n",
    "\n",
    "s = s.select_from(student)\n",
    "s = s.join(university, isouter = True)\n",
    "s = s.order_by(student.c.surname)\n",
    "\n",
    "\n",
    "print(s)\n",
    "result = conn.execute(s).fetchall()\n",
    "print(len(result))\n",
    "result[:10]"
   ]
  },
  {
   "cell_type": "code",
   "execution_count": 6,
   "id": "ba6e3d59",
   "metadata": {
    "pycharm": {
     "name": "#%%\n"
    }
   },
   "outputs": [
    {
     "name": "stdout",
     "output_type": "stream",
     "text": [
      "SELECT university.univ_name, student.surname \n",
      "FROM university LEFT OUTER JOIN student ON university.univ_id = student.univ_id\n",
      "91\n"
     ]
    },
    {
     "data": {
      "text/plain": "[('ВГУ', 'Агафонов'),\n ('ВГУ', 'Аксенов'),\n ('ВГУ', 'Белкин'),\n ('ВГУ', 'Борисова'),\n ('ВГУ', 'Жданова'),\n ('ВГУ', 'Зайцева'),\n ('ВГУ', 'Иванов'),\n ('ВГУ', 'Кузнецов'),\n ('ВГУ', 'Лукин'),\n ('ВГУ', 'Мельникова'),\n ('ВГУ', 'Некрасова'),\n ('ВГУ', 'Павлов'),\n ('ВГУ', 'Петров'),\n ('ВГУ', 'Семенова'),\n ('ВГУ', 'Сергеева'),\n ('ВГУ', 'Федоров'),\n ('НГУ', 'Веселов'),\n ('НГУ', 'Жуков'),\n ('НГУ', 'Журавлева'),\n ('НГУ', 'Трофимов'),\n ('МФТИ', None),\n ('БГУ', 'Владимиров'),\n ('БГУ', 'Вячеслав'),\n ('БГУ', 'Комаров'),\n ('БГУ', 'Кондратьев'),\n ('БГУ', 'Костина'),\n ('БГУ', 'Котов'),\n ('БГУ', 'Кудряшова'),\n ('БГУ', 'Петрова'),\n ('БГУ', 'Суханов'),\n ('ТГУ', 'Мельникова'),\n ('ТГУ', 'Пак'),\n ('ВГМА', 'Валерия'),\n ('ВГМА', 'Журавлев'),\n ('ВГМА', 'Кондрат'),\n ('ВГМА', 'Мишина'),\n ('ВГМА', 'Ордуханян'),\n ('ВГМА', 'Соколова'),\n ('ВГМА', 'Юдин'),\n ('МГУ', 'Антонов'),\n ('МГУ', 'Архипов'),\n ('МГУ', 'Блохина'),\n ('МГУ', 'Гуляева'),\n ('МГУ', 'Ершов'),\n ('МГУ', 'Жуковский'),\n ('МГУ', 'Игнатова'),\n ('МГУ', 'Петров'),\n ('МГУ', 'Сидоров'),\n ('МГУ', 'Симонов'),\n ('РГУ', 'Афанасьева'),\n ('РГУ', 'Васильева'),\n ('РГУ', 'Ефимов'),\n ('РГУ', 'Иванова'),\n ('РГУ', 'Казакова'),\n ('РГУ', 'Кудряшов'),\n ('РГУ', 'Панов'),\n ('ФинУ', 'Баранов'),\n ('ФинУ', 'Бирюков'),\n ('ФинУ', 'Гуляев'),\n ('ФинУ', 'Казакова'),\n ('ФинУ', 'Киселев'),\n ('ФинУ', 'Морозов'),\n ('ФинУ', 'Одинцова'),\n ('ФинУ', 'Петров'),\n ('ФинУ', 'Пономарев'),\n ('ФинУ', 'Фролова'),\n ('МГТУ им. Баумана', 'Лапина'),\n ('МГТУ им. Баумана', 'Миронова'),\n ('МГТУ им. Баумана', 'Сорокина'),\n ('МГТУ им. Баумана', 'Тимофеева'),\n ('МГТУ им. Баумана', 'Шубина'),\n ('ФГБОУ \"Политех\"', 'Васильев'),\n ('ФГБОУ \"Политех\"', 'Вишнякова'),\n ('ФГБОУ \"Политех\"', 'Воронова'),\n ('ФГБОУ \"Политех\"', 'Жукова'),\n ('ФГБОУ \"Политех\"', 'Захаров'),\n ('ФГБОУ \"Политех\"', 'Кулаков'),\n ('ФГБОУ \"Политех\"', 'Миронова'),\n ('ФГБОУ \"Политех\"', 'Ситников'),\n ('ФГБОУ \"Политех\"', 'Ширяев'),\n ('КФУ', 'Бирюков'),\n ('КФУ', 'Жук'),\n ('КФУ', 'Ковалев'),\n ('КФУ', 'Лазарев'),\n ('КФУ', 'Назаров'),\n ('КФУ', 'Русаков'),\n ('УЛГУ', 'Дуб'),\n ('УЛГУ', 'Калашников'),\n ('УЛГУ', 'Пономарева'),\n ('УЛГУ', 'Рожкова'),\n ('УЛГУ', 'Сорокина')]"
     },
     "execution_count": 6,
     "metadata": {},
     "output_type": "execute_result"
    }
   ],
   "source": [
    "\"\"\"\n",
    "8. Напишите запрос для получения списка всех университетов вместе с фамилиями студентов, \n",
    "в них обучающихся. Отдельным запросом получите записи, расширяющие данный список \n",
    "по сравнению с тем, который был бы получен внутренним соединением. \n",
    "Выполните такой отдельный запрос двумя способами: с помощью оператора EXISTS() и без.\n",
    "\"\"\"\n",
    "\n",
    "s = select(university.c.univ_name, student.c.surname)\n",
    "s = s.outerjoin_from(university, student)\n",
    "\n",
    "print(s)\n",
    "result = conn.execute(s).fetchall()\n",
    "print(len(result))\n",
    "result[:]"
   ]
  },
  {
   "cell_type": "code",
   "execution_count": 7,
   "id": "9d68b588",
   "metadata": {
    "pycharm": {
     "name": "#%%\n"
    }
   },
   "outputs": [
    {
     "name": "stdout",
     "output_type": "stream",
     "text": [
      "SELECT university.univ_name, student.surname \n",
      "FROM university LEFT OUTER JOIN student ON university.univ_id = student.univ_id \n",
      "WHERE NOT (EXISTS (SELECT u2.univ_name, st2.surname \n",
      "FROM university AS u2 JOIN student AS st2 ON u2.univ_id = st2.univ_id \n",
      "WHERE u2.univ_id = university.univ_id))\n",
      "1\n"
     ]
    },
    {
     "data": {
      "text/plain": "[('МФТИ', None)]"
     },
     "execution_count": 7,
     "metadata": {},
     "output_type": "execute_result"
    }
   ],
   "source": [
    "\"\"\"\n",
    "8 a\n",
    "\"\"\"\n",
    "\n",
    "university2 = university.alias(\"u2\")\n",
    "student2 = student.alias(\"st2\")\n",
    "\n",
    "subq = select(university2.c.univ_name, student2.c.surname)\n",
    "subq = subq.join_from(university2, student2)\n",
    "subq = subq.where(university2.c.univ_id == university.c.univ_id).exists()\n",
    "\n",
    "s = select(university.c.univ_name, student.c.surname)\n",
    "s = s.outerjoin_from(university, student)\n",
    "s = s.where(~subq)\n",
    "\n",
    "print(s)\n",
    "result = conn.execute(s).fetchall()\n",
    "print(len(result))\n",
    "result[:]"
   ]
  },
  {
   "cell_type": "code",
   "execution_count": 8,
   "id": "ce5cd4b3",
   "metadata": {
    "pycharm": {
     "name": "#%%\n"
    }
   },
   "outputs": [
    {
     "name": "stdout",
     "output_type": "stream",
     "text": [
      "SELECT university.univ_name, student.surname \n",
      "FROM university LEFT OUTER JOIN student ON university.univ_id = student.univ_id \n",
      "WHERE student.surname IS NULL\n",
      "1\n"
     ]
    },
    {
     "data": {
      "text/plain": "[('МФТИ', None)]"
     },
     "execution_count": 8,
     "metadata": {},
     "output_type": "execute_result"
    }
   ],
   "source": [
    "\"\"\"\n",
    "8 а (2 вариант)\n",
    "\"\"\"\n",
    "\n",
    "s = select(university.c.univ_name, student.c.surname)\n",
    "s = s.outerjoin_from(university, student)\n",
    "s = s.where(student.c.surname == None)\n",
    "\n",
    "print(s)\n",
    "result = conn.execute(s).fetchall()\n",
    "print(len(result))\n",
    "result[:]"
   ]
  },
  {
   "cell_type": "code",
   "execution_count": 9,
   "id": "70ee7532",
   "metadata": {
    "pycharm": {
     "name": "#%%\n"
    }
   },
   "outputs": [
    {
     "name": "stdout",
     "output_type": "stream",
     "text": [
      "SELECT university.univ_name, student.surname \n",
      "FROM student LEFT OUTER JOIN university ON university.univ_id = student.univ_id\n",
      "90\n"
     ]
    },
    {
     "data": {
      "text/plain": "[('ВГУ', 'Иванов'),\n ('ВГУ', 'Петров'),\n ('МГУ', 'Сидоров'),\n ('ВГУ', 'Кузнецов'),\n ('ВГУ', 'Зайцева'),\n ('ВГМА', 'Ордуханян'),\n ('БГУ', 'Котов'),\n ('ВГУ', 'Белкин'),\n ('УЛГУ', 'Дуб'),\n ('БГУ', 'Кудряшова'),\n ('НГУ', 'Журавлева'),\n ('УЛГУ', 'Рожкова'),\n ('ВГМА', 'Соколова'),\n ('ВГУ', 'Семенова'),\n ('ТГУ', 'Пак'),\n ('КФУ', 'Жук'),\n ('ВГУ', 'Сергеева'),\n ('ВГУ', 'Некрасова'),\n ('ФинУ', 'Казакова'),\n ('МГТУ им. Баумана', 'Шубина'),\n ('ФГБОУ \"Политех\"', 'Миронова'),\n ('ВГМА', 'Кондрат'),\n ('УЛГУ', 'Пономарева'),\n ('ФинУ', 'Одинцова'),\n ('МГУ', 'Гуляева'),\n ('МГУ', 'Игнатова'),\n ('ВГУ', 'Мельникова'),\n ('ВГМА', 'Мишина'),\n ('ВГУ', 'Агафонов'),\n ('РГУ', 'Афанасьева'),\n ('ФинУ', 'Фролова'),\n ('МГТУ им. Баумана', 'Лапина'),\n ('УЛГУ', 'Сорокина'),\n ('РГУ', 'Казакова'),\n ('ФГБОУ \"Политех\"', 'Жукова'),\n ('ВГУ', 'Жданова'),\n ('ВГМА', 'Валерия'),\n ('БГУ', 'Костина'),\n ('МГУ', 'Блохина'),\n ('ТГУ', 'Мельникова'),\n ('РГУ', 'Васильева'),\n ('МГТУ им. Баумана', 'Сорокина'),\n ('МГТУ им. Баумана', 'Тимофеева'),\n ('ФГБОУ \"Политех\"', 'Вишнякова'),\n ('ВГУ', 'Борисова'),\n ('УЛГУ', 'Калашников'),\n ('НГУ', 'Трофимов'),\n ('ФинУ', 'Бирюков'),\n ('МГУ', 'Антонов'),\n ('ФинУ', 'Морозов'),\n ('КФУ', 'Назаров'),\n ('БГУ', 'Суханов'),\n ('ФГБОУ \"Политех\"', 'Захаров'),\n ('ВГУ', 'Аксенов'),\n ('РГУ', 'Панов'),\n ('ВГУ', 'Федоров'),\n ('КФУ', 'Лазарев'),\n ('БГУ', 'Кондратьев'),\n ('ФГБОУ \"Политех\"', 'Воронова'),\n ('НГУ', 'Веселов'),\n ('ВГМА', 'Юдин'),\n ('ФинУ', 'Пономарев'),\n ('НГУ', 'Жуков'),\n ('ФГБОУ \"Политех\"', 'Васильев'),\n ('РГУ', 'Кудряшов'),\n ('КФУ', 'Ковалев'),\n ('МГУ', 'Жуковский'),\n ('БГУ', 'Комаров'),\n ('РГУ', 'Ефимов'),\n ('ФГБОУ \"Политех\"', 'Кулаков'),\n ('ВГМА', 'Журавлев'),\n ('ФГБОУ \"Политех\"', 'Ширяев'),\n ('МГУ', 'Ершов'),\n ('КФУ', 'Бирюков'),\n ('ФГБОУ \"Политех\"', 'Ситников'),\n ('КФУ', 'Русаков'),\n ('МГУ', 'Симонов'),\n ('ФинУ', 'Гуляев'),\n ('БГУ', 'Вячеслав'),\n ('ФинУ', 'Баранов'),\n ('МГУ', 'Архипов'),\n ('БГУ', 'Владимиров'),\n ('БГУ', 'Петрова'),\n ('ФинУ', 'Петров'),\n ('РГУ', 'Иванова'),\n ('ФинУ', 'Киселев'),\n ('МГТУ им. Баумана', 'Миронова'),\n ('ВГУ', 'Павлов'),\n ('МГУ', 'Петров'),\n ('ВГУ', 'Лукин')]"
     },
     "execution_count": 9,
     "metadata": {},
     "output_type": "execute_result"
    }
   ],
   "source": [
    "\"\"\"\n",
    "9. Напишите запрос для получения списка всех студентов\n",
    "вместе с названиями университетов, в которых они учатся.\n",
    "Отдельным запросом получите записи, расширяющие данный список по сравнению с тем,\n",
    "который был бы получен внутренним соединением.\n",
    "\"\"\"\n",
    "\n",
    "s = select(university.c.univ_name, student.c.surname)\n",
    "s = s.outerjoin_from(student, university)\n",
    "\n",
    "print(s)\n",
    "result = conn.execute(s).fetchall()\n",
    "print(len(result))\n",
    "result[:]"
   ]
  },
  {
   "cell_type": "code",
   "execution_count": 11,
   "id": "2afae529",
   "metadata": {
    "pycharm": {
     "name": "#%%\n"
    }
   },
   "outputs": [
    {
     "name": "stdout",
     "output_type": "stream",
     "text": [
      "SELECT university.univ_name, student.surname \n",
      "FROM student LEFT OUTER JOIN university ON university.univ_id = student.univ_id \n",
      "WHERE university.univ_name IS NULL\n",
      "0\n"
     ]
    },
    {
     "data": {
      "text/plain": "[]"
     },
     "execution_count": 11,
     "metadata": {},
     "output_type": "execute_result"
    }
   ],
   "source": [
    "\"\"\"\n",
    "9 a\n",
    "\"\"\"\n",
    "\n",
    "s = select(university.c.univ_name, student.c.surname)\n",
    "s = s.outerjoin_from(student, university)\n",
    "s = s.where(university.c.univ_name == None)\n",
    "\n",
    "print(s)\n",
    "result = conn.execute(s).fetchall()\n",
    "print(len(result))\n",
    "result[:]"
   ]
  },
  {
   "cell_type": "code",
   "execution_count": 12,
   "id": "3950102c",
   "metadata": {
    "pycharm": {
     "name": "#%%\n"
    }
   },
   "outputs": [
    {
     "name": "stdout",
     "output_type": "stream",
     "text": [
      "SELECT university.univ_name, lecturer.surname \n",
      "FROM university LEFT OUTER JOIN lecturer ON university.univ_id = lecturer.univ_id\n",
      "32\n",
      "[('ВГУ', 'Алексеев'), ('ВГУ', 'Зайцева'), ('ВГУ', 'Зыкова'), ('ВГУ', 'Колесников'), ('ВГУ', 'Максимова'), ('ВГУ', 'Николаев'), ('ВГУ', 'Никонов'), ('ВГУ', 'Сорокин'), ('НГУ', 'Мамонтова'), ('МФТИ', None), ('БГУ', None), ('ТГУ', 'Беспалов'), ('ТГУ', 'Тихонов'), ('ВГМА', 'Артемьева'), ('ВГМА', 'Богданова'), ('ВГМА', 'Крюкова'), ('ВГМА', 'Сафонов'), ('ВГМА', 'Ситникова'), ('МГУ', 'Лагутин'), ('МГУ', 'Струков'), ('РГУ', 'Беляков'), ('РГУ', 'Дорофеев'), ('ФинУ', None), ('МГТУ им. Баумана', 'Волков'), ('ФГБОУ \"Политех\"', 'Зимин'), ('ФГБОУ \"Политех\"', 'Сафонова'), ('ФГБОУ \"Политех\"', 'Стрелков'), ('КФУ', 'Кудрявцева'), ('КФУ', 'Куликова'), ('УЛГУ', 'Брагина'), ('УЛГУ', 'Дмитриева'), ('УЛГУ', 'Елисеев')]\n",
      "SELECT university.univ_name, lecturer.surname \n",
      "FROM university LEFT OUTER JOIN lecturer ON university.univ_id = lecturer.univ_id \n",
      "WHERE lecturer.surname IS NULL\n",
      "3\n",
      "[('МФТИ', None), ('БГУ', None), ('ФинУ', None)]\n"
     ]
    }
   ],
   "source": [
    "\"\"\"\n",
    "10. Напишите запрос для получения списка всех университетов вместе с фамилиями преподавателей,\n",
    "в них работающих. Отдельным запросом получите записи, расширяющие данный список по сравнению с тем,\n",
    "который был бы получен внутренним соединением.\n",
    "\"\"\"\n",
    "\n",
    "s = select(university.c.univ_name, lecturer.c.surname)\n",
    "s = s.outerjoin_from(university, lecturer)\n",
    "\n",
    "print(s)\n",
    "result = conn.execute(s).fetchall()\n",
    "print(len(result))\n",
    "print(result)\n",
    "\n",
    "s2 = select(university.c.univ_name, lecturer.c.surname)\n",
    "s2 = s2.outerjoin_from(university, lecturer)\n",
    "s2 = s2.where(lecturer.c.surname == None)\n",
    "\n",
    "print(s2)\n",
    "result2 = conn.execute(s2).fetchall()\n",
    "print(len(result2))\n",
    "print(result2)"
   ]
  },
  {
   "cell_type": "code",
   "execution_count": 13,
   "outputs": [
    {
     "name": "stdout",
     "output_type": "stream",
     "text": [
      "SELECT university.univ_name, lecturer.surname \n",
      "FROM lecturer LEFT OUTER JOIN university ON university.univ_id = lecturer.univ_id\n",
      "29\n",
      "[('ФГБОУ \"Политех\"', 'Сафонова'), ('ВГУ', 'Зайцева'), ('НГУ', 'Мамонтова'), ('ВГМА', 'Богданова'), ('УЛГУ', 'Брагина'), ('ВГУ', 'Максимова'), ('УЛГУ', 'Дмитриева'), ('ВГМА', 'Ситникова'), ('ВГМА', 'Крюкова'), ('ВГМА', 'Артемьева'), ('КФУ', 'Куликова'), ('КФУ', 'Кудрявцева'), ('ВГУ', 'Зыкова'), ('ФГБОУ \"Политех\"', 'Стрелков'), ('РГУ', 'Дорофеев'), ('МГТУ им. Баумана', 'Волков'), ('ВГМА', 'Сафонов'), ('ФГБОУ \"Политех\"', 'Зимин'), ('ВГУ', 'Алексеев'), ('ТГУ', 'Тихонов'), ('УЛГУ', 'Елисеев'), ('ТГУ', 'Беспалов'), ('РГУ', 'Беляков'), ('ВГУ', 'Колесников'), ('ВГУ', 'Никонов'), ('МГУ', 'Лагутин'), ('МГУ', 'Струков'), ('ВГУ', 'Николаев'), ('ВГУ', 'Сорокин')]\n",
      "SELECT university.univ_name, lecturer.surname \n",
      "FROM lecturer LEFT OUTER JOIN university ON university.univ_id = lecturer.univ_id \n",
      "WHERE university.univ_name IS NULL\n",
      "0\n",
      "[]\n"
     ]
    }
   ],
   "source": [
    "\"\"\"\n",
    "11. Напишите запрос для получения списка всех преподавателей вместе с университетами, в которых они работают.\n",
    "Есть ли отличие списка от того, который был бы получен внутренним соединением?\n",
    "Подтвердите отдельным запросом ваш вывод.\n",
    "\"\"\"\n",
    "\n",
    "s = select(university.c.univ_name, lecturer.c.surname)\n",
    "s = s.outerjoin_from(lecturer, university)\n",
    "\n",
    "print(s)\n",
    "result = conn.execute(s).fetchall()\n",
    "print(len(result))\n",
    "print(result)\n",
    "\n",
    "s2 = select(university.c.univ_name, lecturer.c.surname)\n",
    "s2 = s2.outerjoin_from(lecturer, university)\n",
    "s2 = s2.where(university.c.univ_name == None)\n",
    "\n",
    "print(s2)\n",
    "result2 = conn.execute(s2).fetchall()\n",
    "print(len(result2))\n",
    "print(result2)"
   ],
   "metadata": {
    "collapsed": false,
    "pycharm": {
     "name": "#%%\n"
    }
   }
  },
  {
   "cell_type": "code",
   "execution_count": 14,
   "outputs": [
    {
     "name": "stdout",
     "output_type": "stream",
     "text": [
      "SELECT student.surname, exam_marks.mark \n",
      "FROM student LEFT OUTER JOIN exam_marks ON student.student_id = exam_marks.student_id\n",
      "100\n",
      "[('Иванов', 1), ('Петров', None), ('Сидоров', 4), ('Кузнецов', 5), ('Зайцева', 2), ('Зайцева', 5), ('Ордуханян', 2), ('Котов', 4), ('Белкин', None), ('Белкин', 5), ('Дуб', None), ('Кудряшова', None), ('Журавлева', None), ('Рожкова', None), ('Соколова', None), ('Семенова', 4), ('Пак', 3), ('Пак', 4), ('Пак', 5), ('Жук', 4), ('Сергеева', 1), ('Некрасова', None), ('Казакова', None), ('Шубина', None), ('Миронова', None), ('Кондрат', 3), ('Пономарева', None), ('Одинцова', 1), ('Гуляева', None), ('Игнатова', None), ('Мельникова', 2), ('Мельникова', 2), ('Мишина', 1), ('Агафонов', None), ('Афанасьева', 1), ('Фролова', None), ('Лапина', 5), ('Сорокина', 1), ('Казакова', 1), ('Казакова', 4), ('Жукова', None), ('Жданова', 5), ('Валерия', None), ('Костина', 4), ('Блохина', 5), ('Мельникова', 3), ('Мельникова', 4), ('Мельникова', 5), ('Васильева', None), ('Сорокина', None), ('Тимофеева', None), ('Вишнякова', 1), ('Борисова', 5), ('Калашников', 2), ('Калашников', 2), ('Трофимов', 2), ('Бирюков', None), ('Антонов', 3), ('Морозов', None), ('Назаров', None), ('Суханов', 1), ('Захаров', None), ('Аксенов', None), ('Панов', None), ('Федоров', 1), ('Лазарев', 4), ('Кондратьев', None), ('Воронова', None), ('Веселов', 2), ('Юдин', None), ('Пономарев', None), ('Жуков', 1), ('Васильев', 3), ('Васильев', 5), ('Кудряшов', None), ('Ковалев', None), ('Жуковский', None), ('Комаров', None), ('Ефимов', None), ('Кулаков', None), ('Журавлев', None), ('Ширяев', None), ('Ершов', None), ('Бирюков', None), ('Ситников', None), ('Русаков', None), ('Симонов', None), ('Гуляев', None), ('Вячеслав', 2), ('Баранов', None), ('Архипов', None), ('Владимиров', None), ('Петрова', 3), ('Петров', None), ('Иванова', None), ('Киселев', None), ('Миронова', None), ('Павлов', None), ('Петров', None), ('Лукин', 4)]\n",
      "SELECT student.surname, exam_marks.mark \n",
      "FROM student LEFT OUTER JOIN exam_marks ON student.student_id = exam_marks.student_id \n",
      "WHERE exam_marks.mark IS NULL\n",
      "54\n",
      "[('Петров', None), ('Белкин', None), ('Дуб', None), ('Кудряшова', None), ('Журавлева', None), ('Рожкова', None), ('Соколова', None), ('Некрасова', None), ('Казакова', None), ('Шубина', None), ('Миронова', None), ('Пономарева', None), ('Гуляева', None), ('Игнатова', None), ('Агафонов', None), ('Фролова', None), ('Жукова', None), ('Валерия', None), ('Васильева', None), ('Сорокина', None), ('Тимофеева', None), ('Бирюков', None), ('Морозов', None), ('Назаров', None), ('Захаров', None), ('Аксенов', None), ('Панов', None), ('Кондратьев', None), ('Воронова', None), ('Юдин', None), ('Пономарев', None), ('Кудряшов', None), ('Ковалев', None), ('Жуковский', None), ('Комаров', None), ('Ефимов', None), ('Кулаков', None), ('Журавлев', None), ('Ширяев', None), ('Ершов', None), ('Бирюков', None), ('Ситников', None), ('Русаков', None), ('Симонов', None), ('Гуляев', None), ('Баранов', None), ('Архипов', None), ('Владимиров', None), ('Петров', None), ('Иванова', None), ('Киселев', None), ('Миронова', None), ('Павлов', None), ('Петров', None)]\n"
     ]
    }
   ],
   "source": [
    "\"\"\"\n",
    "12. Напишите запрос для получения списка всех студентов и оценок, полученных ими на экзаменах.\n",
    "Отдельным запросом получите записи, расширяющие данный список по сравнению с тем,\n",
    "который был бы получен внутренним соединением.\n",
    "\"\"\"\n",
    "\n",
    "s = select(student.c.surname, exam_marks.c.mark)\n",
    "s = s.outerjoin_from(student, exam_marks)\n",
    "\n",
    "print(s)\n",
    "result = conn.execute(s).fetchall()\n",
    "print(len(result))\n",
    "print(result)\n",
    "\n",
    "s2 = select(student.c.surname, exam_marks.c.mark)\n",
    "s2 = s2.outerjoin_from(student, exam_marks)\n",
    "s2 = s2.where(exam_marks.c.mark == None)\n",
    "\n",
    "print(s2)\n",
    "result2 = conn.execute(s2).fetchall()\n",
    "print(len(result2))\n",
    "print(result2)"
   ],
   "metadata": {
    "collapsed": false,
    "pycharm": {
     "name": "#%%\n"
    }
   }
  },
  {
   "cell_type": "code",
   "execution_count": 15,
   "outputs": [
    {
     "name": "stdout",
     "output_type": "stream",
     "text": [
      "SELECT student.surname, exam_marks.mark \n",
      "FROM exam_marks LEFT OUTER JOIN student ON student.student_id = exam_marks.student_id\n",
      "47\n",
      "[('Вишнякова', 1), ('Казакова', 4), ('Жук', 4), ('Жуков', 1), ('Кондрат', 3), ('Лазарев', 4), ('Афанасьева', 1), ('Федоров', 1), ('Блохина', 5), ('Суханов', 1), ('Мельникова', 2), ('Жданова', 5), ('Мельникова', 2), ('Казакова', 1), ('Семенова', 4), ('Мельникова', 5), ('Борисова', 5), ('Калашников', 2), ('Васильев', 3), ('Петрова', 3), ('Веселов', 2), ('Антонов', 3), ('Костина', 4), ('Калашников', 2), ('Мишина', 1), ('Сорокина', 1), ('Васильев', 5), ('Кузнецов', 5), ('Иванов', 1), ('Лапина', 5), ('Одинцова', 1), ('Сергеева', 1), ('Трофимов', 2), ('Котов', 4), ('Сидоров', 4), ('Белкин', 5), ('Вячеслав', 2), ('Ордуханян', 2), ('Лукин', 4), ('Пак', 5), ('Пак', 4), ('Пак', 3), ('Мельникова', 4), ('Мельникова', 3), ('Зайцева', 2), ('Зайцева', 5), ('Белкин', None)]\n",
      "SELECT student.surname, exam_marks.mark \n",
      "FROM exam_marks LEFT OUTER JOIN student ON student.student_id = exam_marks.student_id \n",
      "WHERE student.surname IS NULL\n",
      "0\n",
      "[]\n"
     ]
    }
   ],
   "source": [
    "\"\"\"\n",
    "13. Напишите запрос для получения списка всех экзаменационных оценок вместе с\n",
    "фамилиями получивших их студентов. Есть ли отличие списка от того,\n",
    "который был бы получен внутренним соединением? Подтвердите отдельным запросом ваш вывод.\n",
    "\"\"\"\n",
    "\n",
    "s = select(student.c.surname, exam_marks.c.mark)\n",
    "s = s.outerjoin_from(exam_marks, student)\n",
    "\n",
    "print(s)\n",
    "result = conn.execute(s).fetchall()\n",
    "print(len(result))\n",
    "print(result)\n",
    "\n",
    "s2 = select(student.c.surname, exam_marks.c.mark)\n",
    "s2 = s2.outerjoin_from(exam_marks, student)\n",
    "s2 = s2.where(student.c.surname == None)\n",
    "\n",
    "print(s2)\n",
    "result2 = conn.execute(s2).fetchall()\n",
    "print(len(result2))\n",
    "print(result2)"
   ],
   "metadata": {
    "collapsed": false,
    "pycharm": {
     "name": "#%%\n"
    }
   }
  },
  {
   "cell_type": "code",
   "execution_count": 17,
   "outputs": [
    {
     "name": "stdout",
     "output_type": "stream",
     "text": [
      "SELECT subject.subj_name, exam_marks.mark \n",
      "FROM subject LEFT OUTER JOIN exam_marks ON subject.subj_id = exam_marks.subj_id\n",
      "49\n",
      "[('Анализ данных', 1), ('Анализ данных', 1), ('Анализ данных', 1), ('Анализ данных', 2), ('Анализ данных', 5), ('Английский язык', 2), ('Английский язык', 4), ('Английский язык', 4), ('Английский язык', 5), ('Информатика', None), ('Информатика', 1), ('Информатика', 2), ('Информатика', 2), ('Информатика', 3), ('Информатика', 3), ('Информатика', 4), ('Информатика', 5), ('Информатика', 5), ('Информатика', 5), ('История', 1), ('История', 2), ('История', 2), ('История', 3), ('История', 4), ('История', 5), ('История', 5), ('Математика', 1), ('Математика', 3), ('ОБЖ', 1), ('ОБЖ', 2), ('ОБЖ', 2), ('ОБЖ', 5), ('Обработка данных и моделирование в Excel', 4), ('Программирование на языках Python и SQL', 1), ('Программирование на языках Python и SQL', 4), ('Программирование на языках Python и SQL', 5), ('Теория вероятностей и математическая статистика', None), ('Физика', 1), ('Физика', 1), ('Физика', 2), ('Физика', 4), ('Физика', 4), ('Физика', 5), ('Физкультура', None), ('Физкультура', 1), ('Физкультура', 3), ('Физкультура', 3), ('Физкультура', 4), ('Физкультура', 4)]\n",
      "SELECT subject.subj_name, exam_marks.mark \n",
      "FROM subject LEFT OUTER JOIN exam_marks ON subject.subj_id = exam_marks.subj_id \n",
      "WHERE exam_marks.mark IS NULL\n",
      "3\n",
      "[('Информатика', None), ('Теория вероятностей и математическая статистика', None), ('Физкультура', None)]\n"
     ]
    }
   ],
   "source": [
    "\"\"\"\n",
    "14. Напишите запрос для получения полного списка предметов с соответствующими экзаменационными оценками.\n",
    "Есть ли отличие списка от того, который был бы получен внутренним соединением?\n",
    "Подтвердите отдельным запросом ваш вывод.\n",
    "\"\"\"\n",
    "\n",
    "s = select(subject.c.subj_name, exam_marks.c.mark)\n",
    "s = s.outerjoin_from(subject, exam_marks)\n",
    "\n",
    "print(s)\n",
    "result = conn.execute(s).fetchall()\n",
    "print(len(result))\n",
    "print(result)\n",
    "\n",
    "s2 = select(subject.c.subj_name, exam_marks.c.mark)\n",
    "s2 = s2.outerjoin_from(subject, exam_marks)\n",
    "s2 = s2.where(exam_marks.c.mark == None)\n",
    "\n",
    "print(s2)\n",
    "result2 = conn.execute(s2).fetchall()\n",
    "print(len(result2))\n",
    "print(result2)"
   ],
   "metadata": {
    "collapsed": false,
    "pycharm": {
     "name": "#%%\n"
    }
   }
  },
  {
   "cell_type": "code",
   "execution_count": 18,
   "outputs": [
    {
     "name": "stdout",
     "output_type": "stream",
     "text": [
      "SELECT subject.subj_name, exam_marks.mark \n",
      "FROM exam_marks LEFT OUTER JOIN subject ON subject.subj_id = exam_marks.subj_id\n",
      "47\n",
      "[('Информатика', 1), ('Физкультура', 4), ('Физкультура', 4), ('История', 1), ('Информатика', 3), ('История', 4), ('Анализ данных', 1), ('Анализ данных', 1), ('Физика', 5), ('Физика', 1), ('История', 2), ('История', 5), ('Анализ данных', 2), ('ОБЖ', 1), ('Английский язык', 4), ('Информатика', 5), ('Английский язык', 5), ('Английский язык', 2), ('Физкультура', 3), ('Математика', 3), ('История', 2), ('Информатика', 3), ('Физика', 4), ('ОБЖ', 2), ('Анализ данных', 1), ('Физика', 1), ('ОБЖ', 5), ('Анализ данных', 5), ('Математика', 1), ('История', 5), ('Программирование на языках Python и SQL', 1), ('Физкультура', 1), ('Физика', 2), ('Информатика', 4), ('Физика', 4), ('Информатика', 5), ('ОБЖ', 2), ('Информатика', 2), ('Программирование на языках Python и SQL', 4), ('Программирование на языках Python и SQL', 5), ('Английский язык', 4), ('Физкультура', 3), ('Обработка данных и моделирование в Excel', 4), ('История', 3), ('Информатика', 2), ('Информатика', 5), ('Информатика', None)]\n",
      "SELECT subject.subj_name, exam_marks.mark \n",
      "FROM exam_marks LEFT OUTER JOIN subject ON subject.subj_id = exam_marks.subj_id \n",
      "WHERE subject.subj_name IS NULL\n",
      "0\n",
      "[]\n"
     ]
    }
   ],
   "source": [
    "\"\"\"\n",
    "15. Напишите запрос для получения полного списка оценок вместе с названиями предметов,\n",
    "по которым они получены. Есть ли отличие списка от того, который был бы получен внутренним соединением?\n",
    "Подтвердите отдельным запросом ваш вывод.\n",
    "\"\"\"\n",
    "\n",
    "s = select(subject.c.subj_name, exam_marks.c.mark)\n",
    "s = s.outerjoin_from(exam_marks, subject)\n",
    "\n",
    "print(s)\n",
    "result = conn.execute(s).fetchall()\n",
    "print(len(result))\n",
    "print(result)\n",
    "\n",
    "s2 = select(subject.c.subj_name, exam_marks.c.mark)\n",
    "s2 = s2.outerjoin_from(exam_marks, subject)\n",
    "s2 = s2.where(subject.c.subj_name == None)\n",
    "\n",
    "print(s2)\n",
    "result2 = conn.execute(s2).fetchall()\n",
    "print(len(result2))\n",
    "print(result2)\n"
   ],
   "metadata": {
    "collapsed": false,
    "pycharm": {
     "name": "#%%\n"
    }
   }
  }
 ],
 "metadata": {
  "kernelspec": {
   "display_name": "Python 3 (ipykernel)",
   "language": "python",
   "name": "python3"
  },
  "language_info": {
   "codemirror_mode": {
    "name": "ipython",
    "version": 3
   },
   "file_extension": ".py",
   "mimetype": "text/x-python",
   "name": "python",
   "nbconvert_exporter": "python",
   "pygments_lexer": "ipython3",
   "version": "3.9.7"
  }
 },
 "nbformat": 4,
 "nbformat_minor": 5
}