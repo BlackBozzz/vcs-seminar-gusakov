{
 "cells": [
  {
   "cell_type": "markdown",
   "id": "31963a08",
   "metadata": {
    "pycharm": {
     "name": "#%% md\n"
    }
   },
   "source": [
    "<img src=\"../Img/Python_SQL_PI.png\" style=\"width:100%\">\n",
    "\n",
    "\n",
    "<p style=\"font-size:22px;text-align:center\">Семинар 5.1. Соединение таблиц. Оператор JOIN</p> \n",
    "\n",
    "<a id = Home></a>\n",
    "\n",
    "**11 апреля 2022 года, пн**<br>\n",
    "10:10 - 11:40<br>\n",
    "Щ38/509(кк) (ул. Щербаковская, 38)<br>\n",
    "ПИ20-1, ПИ20-2, ПИ20-3, ПИ20-4, ПИ20-5, ПИ20-6 (4 подгруппа)<br>\n",
    "\n",
    "11:50 - 13:20<br>\n",
    "Щ38/509(кк) (ул. Щербаковская, 38)<br>\n",
    "Поток:ПИ20-1, ПИ20-2, ПИ20-3, ПИ20-4, ПИ20-5, ПИ20-6 (3 подгруппа)\n",
    "\n",
    "\n",
    "**14 апреля 2022 года, чт**<br>\n",
    "17:20 - 18:50<br>\n",
    "В4/3411(кк) (4-й Вешняковский проезд, 4)<br>\n",
    "ПИ20-1, ПИ20-2, ПИ20-3, ПИ20-4, ПИ20-5, ПИ20-6 (2 подгруппа)<br>\n",
    "\n",
    "\n",
    "**21 апреля 2022 года, чт**<br>\n",
    "18:55 - 20:25<br>\n",
    "В4/3411(кк) (4-й Вешняковский проезд, 4)<br>\n",
    "ПИ20-1, ПИ20-2, ПИ20-3, ПИ20-4, ПИ20-5, ПИ20-6 (1 подгруппа)<br>"
   ]
  },
  {
   "cell_type": "markdown",
   "id": "20042f4c",
   "metadata": {
    "pycharm": {
     "name": "#%% md\n"
    }
   },
   "source": [
    "<p style=\"font-size:22px;text-align:center\">Семинар 5.2. Соединение таблиц. Оператор JOIN</p>\n",
    "\n",
    "**14 апреля 2022 года, чт**<br>\n",
    "18:55 - 20:25<br>\n",
    "В4/3411(кк) (4-й Вешняковский проезд, 4)<br>\n",
    "ПИ20-1, ПИ20-2, ПИ20-3, ПИ20-4, ПИ20-5, ПИ20-6 (2 подгруппа)<br>\n",
    "\n",
    "**18 апреля 2022 года, пн**<br>\n",
    "10:10 - 11:40<br>\n",
    "Щ38/509(кк) (ул. Щербаковская, 38)<br>\n",
    "ПИ20-1, ПИ20-2, ПИ20-3, ПИ20-4, ПИ20-5, ПИ20-6 (3 подгруппа)<br>\n",
    "\n",
    "11:50 - 13:20<br>\n",
    "Щ38/509(кк) (ул. Щербаковская, 38)<br>\n",
    "Поток:ПИ20-1, ПИ20-2, ПИ20-3, ПИ20-4, ПИ20-5, ПИ20-6 (4 подгруппа)<br>\n",
    "\n",
    "**28 апреля 2022 года, чт**<br>\n",
    "17:20 - 18:50<br>\n",
    "В4/3411(кк) (4-й Вешняковский проезд, 4)<br>\n",
    "ПИ20-1, ПИ20-2, ПИ20-3, ПИ20-4, ПИ20-5, ПИ20-6 (1 подгруппа)<br>"
   ]
  },
  {
   "cell_type": "markdown",
   "id": "f6575b35",
   "metadata": {
    "pycharm": {
     "name": "#%% md\n"
    }
   },
   "source": [
    "\n",
    "```\n",
    "STUDENT\n",
    "STUDENT_ID — числовой код, идентифицирующий студента (идентификатор студента),\n",
    "SURNAME — фамилия студента,\n",
    "NAME — имя студента,\n",
    "STIPEND — стипендия, которую получает студент,\n",
    "KURS — курс, на котором учится студент,\n",
    "CITY — город, в котором живет студент,\n",
    "BIRTHDAY — дата рождения студента,\n",
    "UNIV_ID — идентификатор университета, в котором учится студент.\n",
    "\n",
    "\n",
    "LECTURER\n",
    "LECTURER_ID — идентификатор преподавателя,\n",
    "SURNAME — фамилия преподавателя,\n",
    "NAME — имя преподавателя,\n",
    "CITY — город, в котором живет преподаватель,\n",
    "UNIV_ID — идентификатор университета, в котором работает преподаватель\n",
    "\n",
    "\n",
    "SUBJECT\n",
    "SUBJ_ID — идентификатор предмета обучения,\n",
    "SUBJ_NAME — наименование предмета обучения,\n",
    "HOUR — количество часов, отводимых на изучение предмета,\n",
    "SEMESTER — семестр, в котором изучается данный предмет.\n",
    "\n",
    "\n",
    "UNIVERSITY\n",
    "UNIV_ID — идентификатор университета,\n",
    "UNIV_NAME — название университета,\n",
    "RATING — рейтинг университета,\n",
    "CITY — город, в котором расположен университет.\n",
    "\n",
    "\n",
    "EXAM_MARKS\n",
    "EXAM_ID — идентификатор экзамена,\n",
    "STUDENT_ID — идентификатор студента,\n",
    "SUBJ_ID — идентификатор предмета обучения,\n",
    "MARK — экзаменационная оценка,\n",
    "EXAM_DATE — дата экзамена.\n",
    "\n",
    "\n",
    "SUBJ_LECT\n",
    "LECTURER_ID — идентификатор преподавателя,\n",
    "SUBJ_ID — идентификатор предмета обучения.\n",
    "```\n",
    "\n",
    "<img src=\"Students_Schema.png\" style=\"width:60%\">"
   ]
  },
  {
   "cell_type": "code",
   "execution_count": 2,
   "id": "b43644d8",
   "metadata": {
    "pycharm": {
     "name": "#%%\n"
    }
   },
   "outputs": [],
   "source": [
    "#! pip install sqlalchemy"
   ]
  },
  {
   "cell_type": "code",
   "execution_count": 2,
   "id": "37e97907",
   "metadata": {
    "pycharm": {
     "name": "#%%\n"
    }
   },
   "outputs": [],
   "source": [
    "from sqlalchemy import MetaData, Table, create_engine, select, and_, or_, not_, text\n",
    "from sqlalchemy.sql import func, distinct, exists"
   ]
  },
  {
   "cell_type": "code",
   "execution_count": 3,
   "id": "eb4393e8",
   "metadata": {
    "pycharm": {
     "name": "#%%\n"
    }
   },
   "outputs": [],
   "source": [
    "engine = create_engine('sqlite:///Students.db')\n",
    "metadata_obj = MetaData() # Объект-контейнер, содержит информацию о схеме данных\n",
    "metadata_obj.reflect(bind=engine) # Отображение БД"
   ]
  },
  {
   "cell_type": "markdown",
   "id": "3797f17f",
   "metadata": {
    "pycharm": {
     "name": "#%% md\n"
    }
   },
   "source": [
    "Создание объектов таблиц"
   ]
  },
  {
   "cell_type": "code",
   "execution_count": 4,
   "id": "6e812caf",
   "metadata": {
    "pycharm": {
     "name": "#%%\n"
    }
   },
   "outputs": [],
   "source": [
    "exam_marks=Table(\"exam_marks\", metadata_obj, autoload=True, autoload_with=\"engine\")\n",
    "lecturer=Table(\"lecturer\", metadata_obj, autoload=True, autoload_with=\"engine\")\n",
    "student=Table(\"student\", metadata_obj, autoload=True, autoload_with=\"engine\")\n",
    "subj_lect=Table(\"subj_lect\", metadata_obj, autoload=True, autoload_with=\"engine\")\n",
    "subject=Table(\"subject\", metadata_obj, autoload=True, autoload_with=\"engine\")\n",
    "university=Table(\"university\", metadata_obj, autolad=True, autolad_with=\"engine\")"
   ]
  },
  {
   "cell_type": "code",
   "execution_count": 5,
   "id": "5e0c68fe",
   "metadata": {
    "pycharm": {
     "name": "#%%\n"
    }
   },
   "outputs": [],
   "source": [
    "conn=engine.connect() # Соединение"
   ]
  },
  {
   "cell_type": "markdown",
   "id": "fb742d9f",
   "metadata": {
    "pycharm": {
     "name": "#%% md\n"
    }
   },
   "source": [
    "<img src=../Img/pencil.png style=\"width:190px;height:190px\">\n",
    "<p style=\"background-color:powderblue; font-size:125%; color: rebeccapurple;\">Выполните задания</p>\n",
    "<p>Выполните задания с помощью соедиинения таблиц в Jupyter Notebook </p>\n",
    "\n",
    "1. Составьте список названий университетов с указанием суммарного количества аудиторных часов на изучение каждого предмета.\n",
    "\n",
    "2. Получите список названий университетов вместе с фамилиями и именами студентов, получающих максимальную для каждого университета стипендию.\n",
    "\n",
    "3. Напишите запрос для получения списка преподавателей, преподающих только один предмет. Отсортируйте результат по фамилии преподавателя. Результат должен содержать имя и фамилию преподавателя, название предмета.\n",
    "\n",
    "4. Напишите запрос для получения списка университетов вместе с фамилиями студентов, получивших хотя бы одну отличную оценку. Результат отсортируйте по названию университета.\n",
    "\n",
    "5. Напишите запрос, выполняющий вывод имен и фамилий преподавателей, проводящих занятия на первом курсе. Отсортируйте результат по фаимилии преподавателя.\n",
    "\n",
    "6. Напишите запрос, выполняющий вывод наименований предметов обучения, читаемых двумя или более преподавателями. Результат должен состоять из одного столбца названий предметов, без повторов, в алфавитном порядке по возрастанию."
   ]
  },
  {
   "cell_type": "markdown",
   "id": "5002382e",
   "metadata": {
    "pycharm": {
     "name": "#%% md\n"
    }
   },
   "source": [
    "# Решение"
   ]
  },
  {
   "cell_type": "code",
   "execution_count": 37,
   "id": "59941c96",
   "metadata": {
    "scrolled": false,
    "pycharm": {
     "name": "#%%\n"
    }
   },
   "outputs": [
    {
     "name": "stdout",
     "output_type": "stream",
     "text": [
      "SELECT university.univ_name, subject.subj_name, subject.hour \n",
      "FROM university JOIN lecturer ON university.univ_id = lecturer.univ_id JOIN subj_lect ON lecturer.lecturer_id = subj_lect.lecturer_id JOIN subject ON subject.subj_id = subj_lect.subj_id ORDER BY university.univ_name\n",
      "24\n"
     ]
    },
    {
     "data": {
      "text/plain": "[('ВГУ', 'История', 34),\n ('ВГУ', 'ОБЖ', 34),\n ('ВГУ', 'История', 34),\n ('ВГУ', 'Анализ данных', 42),\n ('ВГУ', 'Программирование на языках Python и SQL', 34),\n ('ВГУ', 'Физика', 34),\n ('ВГУ', 'Теория вероятностей и математическая статистика', 72),\n ('КФУ', 'Математика', 56),\n ('КФУ', 'История', 34),\n ('КФУ', 'Информатика', 56),\n ('МГТУ им. Баумана', 'Английский язык', 56),\n ('МГТУ им. Баумана', 'Программирование на языках Python и SQL', 34),\n ('МГУ', 'Английский язык', 56),\n ('МГУ', 'ОБЖ', 34),\n ('МГУ', 'Информатика', 56),\n ('НГУ', 'Программирование на языках Python и SQL', 34),\n ('РГУ', 'Программирование на языках Python и SQL', 34),\n ('РГУ', 'Информатика', 56),\n ('ТГУ', 'Информатика', 56),\n ('ТГУ', 'Физкультура', 34),\n ('ТГУ', 'Информатика', 56),\n ('УЛГУ', 'ОБЖ', 34),\n ('ФГБОУ \"Политех\"', 'Программирование на языках Python и SQL', 34),\n ('ФГБОУ \"Политех\"', 'Английский язык', 56)]"
     },
     "execution_count": 37,
     "metadata": {},
     "output_type": "execute_result"
    }
   ],
   "source": [
    "#1. Составьте список названий университетов с указанием суммарного количества аудиторных часов на изучение каждого предмета.\n",
    "\n",
    "s = select(university.c.univ_name, subject.c.subj_name, subject.c.hour)\n",
    "s = s.select_from(university.join(lecturer).join(subj_lect).join(subject))\n",
    "s = s.order_by(university.c.univ_name)\n",
    "\n",
    "print(s)\n",
    "result = conn.execute(s).fetchall()\n",
    "print(len(result))\n",
    "result"
   ]
  },
  {
   "cell_type": "code",
   "execution_count": 7,
   "outputs": [
    {
     "name": "stdout",
     "output_type": "stream",
     "text": [
      "SELECT university.univ_name, student.surname, student.name \n",
      "FROM university JOIN student ON university.univ_id = student.univ_id GROUP BY university.univ_name \n",
      "HAVING student.stipend = max(student.stipend)\n",
      "12\n"
     ]
    },
    {
     "data": {
      "text/plain": "[('БГУ', 'Суханов', 'Константин'),\n ('ВГМА', 'Кондрат', 'Синицин'),\n ('ВГУ', 'Зайцева', 'Ольга'),\n ('КФУ', 'Жук', 'Оксана'),\n ('МГТУ им. Баумана', 'Миронова', 'Федор'),\n ('МГУ', 'Блохина', 'Ираида'),\n ('НГУ', 'Трофимов', 'Владислав'),\n ('РГУ', 'Панов', 'Арсений'),\n ('ТГУ', 'Мельникова', 'Светлана'),\n ('УЛГУ', 'Пономарева', 'Алина'),\n ('ФГБОУ \"Политех\"', 'Миронова', 'Анна'),\n ('ФинУ', 'Казакова', 'Ольга')]"
     },
     "execution_count": 7,
     "metadata": {},
     "output_type": "execute_result"
    }
   ],
   "source": [
    "#2. Получите список названий университетов вместе с фамилиями и именами студентов, получающих максимальную для каждого университета стипендию.\n",
    "\n",
    "s = select(university.c.univ_name, student.c.surname, student.c.name)\n",
    "s = s.select_from(university.join(student))\n",
    "s = s.group_by(university.c.univ_name)\n",
    "s = s.having(student.c.stipend == func.max(student.c.stipend))\n",
    "\n",
    "print(s)\n",
    "result = conn.execute(s).fetchall()\n",
    "print(len(result))\n",
    "result"
   ],
   "metadata": {
    "collapsed": false,
    "pycharm": {
     "name": "#%%\n"
    }
   }
  },
  {
   "cell_type": "code",
   "execution_count": 9,
   "outputs": [
    {
     "name": "stdout",
     "output_type": "stream",
     "text": [
      "SELECT lecturer.name, lecturer.surname, subject.subj_name \n",
      "FROM lecturer JOIN subj_lect ON lecturer.lecturer_id = subj_lect.lecturer_id JOIN subject ON subject.subj_id = subj_lect.subj_id GROUP BY lecturer.surname \n",
      "HAVING count(subj_lect.subj_id) = :count_1 ORDER BY lecturer.surname\n",
      "12\n"
     ]
    },
    {
     "data": {
      "text/plain": "[('Елисей', 'Алексеев', 'ОБЖ'),\n ('Мефодий', 'Беляков', 'Информатика'),\n ('Нинель', 'Брагина', 'ОБЖ'),\n ('Прокофий', 'Дорофеев', 'Программирование на языках Python и SQL'),\n ('Юлиан', 'Зимин', 'Программирование на языках Python и SQL'),\n ('Борис', 'Колесников', 'Физика'),\n ('Анна', 'Кудрявцева', 'Информатика'),\n ('Павел', 'Лагутин', 'Английский язык'),\n ('Акулина', 'Мамонтова', 'Программирование на языках Python и SQL'),\n ('Иван', 'Никонов', 'История'),\n ('Лукия', 'Сафонова', 'Английский язык'),\n ('Ладомир', 'Тихонов', 'Информатика')]"
     },
     "execution_count": 9,
     "metadata": {},
     "output_type": "execute_result"
    }
   ],
   "source": [
    "#3. Напишите запрос для получения списка преподавателей, преподающих только один предмет. Отсортируйте результат по фамилии преподавателя. Результат должен содержать имя и фамилию преподавателя, название предмета.\n",
    "\n",
    "s = select(lecturer.c.name, lecturer.c.surname, subject.c.subj_name)\n",
    "s = s.select_from(lecturer.join(subj_lect).join(subject))\n",
    "s = s.group_by(lecturer.c.surname)\n",
    "s = s.having(func.count(subj_lect.c.subj_id) == 1)\n",
    "s = s.order_by(lecturer.c.surname)\n",
    "\n",
    "print(s)\n",
    "result = conn.execute(s).fetchall()\n",
    "print(len(result))\n",
    "result"
   ],
   "metadata": {
    "collapsed": false,
    "pycharm": {
     "name": "#%%\n"
    }
   }
  },
  {
   "cell_type": "code",
   "execution_count": 26,
   "outputs": [
    {
     "name": "stdout",
     "output_type": "stream",
     "text": [
      "SELECT university.univ_name, student.surname, student.name, student.student_id, exam_marks.mark \n",
      "FROM university JOIN student ON university.univ_id = student.univ_id JOIN exam_marks ON student.student_id = exam_marks.student_id GROUP BY student.student_id \n",
      "HAVING max(exam_marks.mark) = :max_1 ORDER BY university.univ_name\n",
      "10\n"
     ]
    },
    {
     "data": {
      "text/plain": "[('ВГУ', 'Кузнецов', 'Борис', 10, 5),\n ('ВГУ', 'Зайцева', 'Ольга', 12, 5),\n ('ВГУ', 'Белкин', 'Вадим', 55, 5),\n ('ВГУ', 'Жданова', 'Ирина', 88, 5),\n ('ВГУ', 'Борисова', 'Марина', 99, 5),\n ('МГТУ им. Баумана', 'Лапина', 'Элеонора', 82, 5),\n ('МГУ', 'Блохина', 'Ираида', 91, 5),\n ('ТГУ', 'Пак', 'Ирина', 63, 5),\n ('ТГУ', 'Мельникова', 'Светлана', 92, 5),\n ('ФГБОУ \"Политех\"', 'Васильев', 'Матвей', 128, 5)]"
     },
     "execution_count": 26,
     "metadata": {},
     "output_type": "execute_result"
    }
   ],
   "source": [
    "#4. Напишите запрос для получения списка университетов вместе с фамилиями студентов, получивших хотя бы одну отличную оценку. Результат отсортируйте по названию университета.\n",
    "\n",
    "s = select(university.c.univ_name, student.c.surname, student.c.name, student.c.student_id, exam_marks.c.mark)\n",
    "s = s.select_from(university.join(student).join(exam_marks))\n",
    "s = s.group_by(student.c.student_id)\n",
    "s = s.having(func.max(exam_marks.c.mark) == 5)\n",
    "s = s.order_by(university.c.univ_name)\n",
    "\n",
    "print(s)\n",
    "result = conn.execute(s).fetchall()\n",
    "print(len(result))\n",
    "result"
   ],
   "metadata": {
    "collapsed": false,
    "pycharm": {
     "name": "#%%\n"
    }
   }
  },
  {
   "cell_type": "code",
   "execution_count": 29,
   "outputs": [
    {
     "name": "stdout",
     "output_type": "stream",
     "text": [
      "SELECT lecturer.name, lecturer.surname \n",
      "FROM lecturer JOIN university ON university.univ_id = lecturer.univ_id JOIN student ON university.univ_id = student.univ_id \n",
      "WHERE student.kurs = :kurs_1 GROUP BY lecturer.surname ORDER BY lecturer.surname\n",
      "26\n"
     ]
    },
    {
     "data": {
      "text/plain": "[('Елисей', 'Алексеев'),\n ('Майя', 'Артемьева'),\n ('Мефодий', 'Беляков'),\n ('Юлиан', 'Беспалов'),\n ('Оксана', 'Богданова'),\n ('Михаил', 'Волков'),\n ('Прокофий', 'Дорофеев'),\n ('Юлия', 'Зайцева'),\n ('Юлиан', 'Зимин'),\n ('Оксана', 'Зыкова'),\n ('Борис', 'Колесников'),\n ('Людмила', 'Крюкова'),\n ('Анна', 'Кудрявцева'),\n ('Ираида', 'Куликова'),\n ('Павел', 'Лагутин'),\n ('Иванна', 'Максимова'),\n ('Акулина', 'Мамонтова'),\n ('Виктор', 'Николаев'),\n ('Иван', 'Никонов'),\n ('Будимир', 'Сафонов'),\n ('Лукия', 'Сафонова'),\n ('Светлана', 'Ситникова'),\n ('Андрей', 'Сорокин'),\n ('Руслан', 'Стрелков'),\n ('Николай', 'Струков'),\n ('Ладомир', 'Тихонов')]"
     },
     "execution_count": 29,
     "metadata": {},
     "output_type": "execute_result"
    }
   ],
   "source": [
    "#5. Напишите запрос, выполняющий вывод имен и фамилий преподавателей, проводящих занятия на первом курсе. Отсортируйте результат по фаимилии преподавателя.\n",
    "\n",
    "s = select(lecturer.c.name, lecturer.c.surname)\n",
    "s = s.select_from(lecturer)\n",
    "s = s.join(student, student.c.univ_id == lecturer.c.univ_id)\n",
    "s = s.where(student.c.kurs == 1)\n",
    "s = s.group_by(lecturer.c.surname)\n",
    "s = s.order_by(lecturer.c.surname)\n",
    "\n",
    "print(s)\n",
    "result = conn.execute(s).fetchall()\n",
    "print(len(result))\n",
    "result"
   ],
   "metadata": {
    "collapsed": false,
    "pycharm": {
     "name": "#%%\n"
    }
   }
  },
  {
   "cell_type": "code",
   "execution_count": 30,
   "outputs": [
    {
     "name": "stdout",
     "output_type": "stream",
     "text": [
      "SELECT DISTINCT subject.subj_name \n",
      "FROM subj_lect JOIN subject ON subject.subj_id = subj_lect.subj_id GROUP BY subject.subj_name \n",
      "HAVING count(subj_lect.lecturer_id) >= :count_1 ORDER BY subject.subj_name\n",
      "5\n"
     ]
    },
    {
     "data": {
      "text/plain": "[('Английский язык',),\n ('Информатика',),\n ('История',),\n ('ОБЖ',),\n ('Программирование на языках Python и SQL',)]"
     },
     "execution_count": 30,
     "metadata": {},
     "output_type": "execute_result"
    }
   ],
   "source": [
    "#6. Напишите запрос, выполняющий вывод наименований предметов обучения, читаемых двумя или более преподавателями. Результат должен состоять из одного столбца названий предметов, без повторов, в алфавитном порядке по возрастанию.\n",
    "\n",
    "s = select(distinct(subject.c.subj_name))\n",
    "s = s.select_from(subj_lect.join(subject))\n",
    "s = s.group_by(subject.c.subj_name)\n",
    "s = s.having(func.count(subj_lect.c.lecturer_id) >= 2)\n",
    "s = s.order_by(subject.c.subj_name)\n",
    "\n",
    "print(s)\n",
    "result = conn.execute(s).fetchall()\n",
    "print(len(result))\n",
    "result"
   ],
   "metadata": {
    "collapsed": false,
    "pycharm": {
     "name": "#%%\n"
    }
   }
  },
  {
   "cell_type": "code",
   "execution_count": null,
   "outputs": [],
   "source": [],
   "metadata": {
    "collapsed": false,
    "pycharm": {
     "name": "#%%\n"
    }
   }
  }
 ],
 "metadata": {
  "kernelspec": {
   "display_name": "Python 3 (ipykernel)",
   "language": "python",
   "name": "python3"
  },
  "language_info": {
   "codemirror_mode": {
    "name": "ipython",
    "version": 3
   },
   "file_extension": ".py",
   "mimetype": "text/x-python",
   "name": "python",
   "nbconvert_exporter": "python",
   "pygments_lexer": "ipython3",
   "version": "3.9.7"
  }
 },
 "nbformat": 4,
 "nbformat_minor": 5
}