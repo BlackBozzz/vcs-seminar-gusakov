{
 "cells": [
  {
   "cell_type": "markdown",
   "metadata": {
    "pycharm": {
     "name": "#%% md\n"
    }
   },
   "source": [
    "<img src=\"../Img/Python_SQL_PI.png\" style=\"width:100%\">\n",
    "\n",
    "\n",
    "<p style=\"font-size:160%;text-align:center\">Семинар 6.2 (13). Оператор UNION</p> \n",
    "\n",
    "<a id = Home></a>\n",
    "\n",
    "**5 мая 2022 года, чт**<br>\n",
    "5-я пара, 15:40 - 17:10<br>\n",
    "В4/3411(кк) (4-й Вешняковский проезд, 4)<br>\n",
    "ПИ20-1, ПИ20-2, ПИ20-3, ПИ20-4, ПИ20-5, ПИ20-6 (2 подгруппа)<br>\n",
    "\n",
    "7-я пара, 18:55 - 20:25<br>\n",
    "В4/3411(кк) (4-й Вешняковский проезд, 4)<br>\n",
    "ПИ20-1, ПИ20-2, ПИ20-3, ПИ20-4, ПИ20-5, ПИ20-6 (1 подгруппа)<br>\n",
    "\n",
    "\n",
    "**16 мая 2022 года, пн**<br>\n",
    "1-я пара, 8:30 - 10:00<br>\n",
    "Щ38/509(кк) (ул. Щербаковская, 38)<br>\n",
    "ПИ20-1, ПИ20-2, ПИ20-3, ПИ20-4, ПИ20-5, ПИ20-6 (3 подгруппа)<br>\n",
    "\n",
    "2-я пара, 10:10 - 11:40<br>\n",
    "Щ38/509(кк) (ул. Щербаковская, 38)<br>\n",
    "Поток:ПИ20-1, ПИ20-2, ПИ20-3, ПИ20-4, ПИ20-5, ПИ20-6 (4 подгруппа)"
   ]
  },
  {
   "cell_type": "markdown",
   "metadata": {
    "pycharm": {
     "name": "#%% md\n"
    }
   },
   "source": [
    "<p style=\"font-size:150%;text-align:center\">Литература</p>\n",
    "\n",
    "- Астахова И.Ф., Мельников В.М., Толстобров А.П., Фертиков В.В. СУБД: язык SQL в примерах и задачах.—М.:ФИЗМАТЛИТ, 2009. — 168 с. — ISBN 978-5-9221-0816-4.\n",
    "- Essential SQLAlchemy: Mapping Python to Databases 2nd Edition. Jason Myers, Rick Copeland. O'Reilly Media, Inc. 2015.\n",
    "- Официальный сайт СУБД sqlite https://sqlite.org\n",
    "- Официальный сайт библиотеки SQLAlchemy https://www.sqlalchemy.org/"
   ]
  },
  {
   "cell_type": "markdown",
   "metadata": {
    "pycharm": {
     "name": "#%% md\n"
    }
   },
   "source": [
    "\n",
    "```\n",
    "STUDENT\n",
    "STUDENT_ID — числовой код, идентифицирующий студента (идентификатор студента),\n",
    "SURNAME — фамилия студента,\n",
    "NAME — имя студента,\n",
    "STIPEND — стипендия, которую получает студент,\n",
    "KURS — курс, на котором учится студент,\n",
    "CITY — город, в котором живет студент,\n",
    "BIRTHDAY — дата рождения студента,\n",
    "UNIV_ID — идентификатор университета, в котором учится студент.\n",
    "\n",
    "\n",
    "LECTURER\n",
    "LECTURER_ID — идентификатор преподавателя,\n",
    "SURNAME — фамилия преподавателя,\n",
    "NAME — имя преподавателя,\n",
    "CITY — город, в котором живет преподаватель,\n",
    "UNIV_ID — идентификатор университета, в котором работает преподаватель\n",
    "\n",
    "\n",
    "SUBJECT\n",
    "SUBJ_ID — идентификатор предмета обучения,\n",
    "SUBJ_NAME — наименование предмета обучения,\n",
    "HOUR — количество часов, отводимых на изучение предмета,\n",
    "SEMESTER — семестр, в котором изучается данный предмет.\n",
    "\n",
    "\n",
    "UNIVERSITY\n",
    "UNIV_ID — идентификатор университета,\n",
    "UNIV_NAME — название университета,\n",
    "RATING — рейтинг университета,\n",
    "CITY — город, в котором расположен университет.\n",
    "\n",
    "\n",
    "EXAM_MARKS\n",
    "EXAM_ID — идентификатор экзамена,\n",
    "STUDENT_ID — идентификатор студента,\n",
    "SUBJ_ID — идентификатор предмета обучения,\n",
    "MARK — экзаменационная оценка,\n",
    "EXAM_DATE — дата экзамена.\n",
    "\n",
    "\n",
    "SUBJ_LECT\n",
    "LECTURER_ID — идентификатор преподавателя,\n",
    "SUBJ_ID — идентификатор предмета обучения.\n",
    "```\n",
    "\n",
    "<img src=\"../Img/Students_Schema.png\" style=\"width:60%\">"
   ]
  },
  {
   "cell_type": "markdown",
   "metadata": {
    "pycharm": {
     "name": "#%% md\n"
    }
   },
   "source": [
    "<p style=\"font-size:150%\">Оператор UNION</p>\n",
    "\n",
    "Оператор UNION используется для объединения выходных данных двух или более SQL-запросов в единое множество строк и столбцов. Например, для того, чтобы получить в одной таблице фамилии и\n",
    "идентификаторы студентов и преподавателей из Москвы, можно использовать следующий запрос:\n",
    "\n",
    "```\n",
    "SELECT 'Студент' AS 'Роль', surname, student_id AS id\n",
    "FROM student\n",
    "WHERE city = 'Москва'\n",
    "UNION\n",
    "SELECT 'Преподаватель', surname, lecturer_id\n",
    "FROM lecturer\n",
    "WHERE city = 'Москва';\n",
    "```\n",
    "\n",
    "Обратите внимание на то, что символом “;” (точка с запятой) оканчивается только последний запрос. Отсутствие этого символа в конце SELECT-запроса означает, что этот запрос, как и следующий за ним, является частью общего запроса с UNION.\n",
    "\n",
    "Использование оператора UNION возможно только при объединении запросов, соответствующие столбцы которых совместимы по объединению. Совместимость по объединению означает, что столбцы, как минимум, должны относиться к одному типу. При этом если говорить о таких конкретных характеристиках типов, как, например, количество символов для полей символьного типа, размер и точность числовых полей, то возможность оператора UNION зависит от конкретной реализации СУБД. В одних системах задание оператора UNION требует полного совпадения характеристик типов столбцов, а в других возможно неявное приведение отличающихся характеристик.\n",
    "\n",
    "<p style=\"font-size:150%\">Управление дублированием строк при объединении</p>\n",
    "\n",
    "В отличие от обычных запросов, UNION автоматически исключает из выходных данных дубликаты строк: например, в запросе\n",
    "\n",
    "```\n",
    "SELECT city\n",
    "FROM student\n",
    "UNION\n",
    "SELECT city\n",
    "FROM lecturer;\n",
    "```\n",
    "\n",
    "совпадающие наименования городов будут исключены. Если все же необходимо в каждом запросе вывести все строки независимо от того, имеются ли такие же строки в других объединяемых запросах, то следует использовать во множественном запросе конструкцию с оператором UNION ALL.\n",
    "\n",
    "```\n",
    "SELECT city\n",
    "FROM student\n",
    "UNION ALL\n",
    "SELECT city\n",
    "FROM lecturer;\n",
    "```\n",
    "\n",
    "Приведем еще один пример использования оператора UNION. Пусть необходимо составить отчет, содержащий для каждой даты сдачи экзаменов сведения по каждому студенту, получившему максимальную или минимальную оценку.\n",
    "\n",
    "```\n",
    "SELECT 'макс оц', A.student_id, surname, mark, date(exam_date)\n",
    "FROM student A, exam_marks B\n",
    "WHERE (A.student_id = B.student_id\n",
    "AND B.mark =\n",
    "(SELECT max(mark)\n",
    "FROM exam_marks C\n",
    "WHERE C.exam_date = B.exam_date))\n",
    "UNION ALL\n",
    "SELECT 'мин оц', A.student_id, surname, mark, date(exam_date)\n",
    "FROM student A, exam_marks B\n",
    "WHERE (A.student_id = B.student_id\n",
    "AND B.mark =\n",
    "(SELECT min(mark)\n",
    "FROM exam_marks C\n",
    "WHERE C.exam_date = B.exam_date));\n",
    "```\n",
    "\n",
    "<p style=\"font-size:150%\">Упорядочивание результатов объединения</p>\n",
    "\n",
    "Предложение ORDER BY применяется для упорядочения выходных данных объединения запросов так же, как и для отдельных запросов.\n",
    "\n",
    "<p style=\"font-size:150%\">Специальное использование объединения</p>\n",
    "\n",
    "Часто полезна операция объединения двух запросов, в которой второй запрос выбирает строки, исключенные первым. Рассмотрим пример. Пусть в таблице STUDENT имеются записи о студентах без указания идентификатора университета. Требуется составить список студентов с указанием наименования университета для тех студентов, у которых эти данные есть, но при этом не отбрасывая и студентов, у которых университет не указан. Можно получить желаемые сведения, сформировав объединение двух запросов, один из которых выполняет выборку студентов с названиями их университетов,\n",
    "а второй выбирает студентов с NULL-значениями в поле UNIV_ID. В данном случае оказывается полезной возможность вставки в запрос констант, в нашем случае текстовой константы ‘неизвестен’, чтобы\n",
    "отметить в списке тех студентов, у которых отсутствует информация об университете.\n",
    "\n",
    "```\n",
    "SELECT surname, name, univ_name\n",
    "FROM student, university\n",
    "WHERE student.univ_id = university.univ_id\n",
    "UNION\n",
    "SELECT surname, name, ‘неизвестен’\n",
    "FROM student\n",
    "WHERE univ_id IS NULL\n",
    "ORDER BY 1;\n",
    "```\n",
    "\n",
    "Для совместимости столбцов объединяемых запросов константу 'неизвестен' во втором запросе следует дополнить пробелами так, чтобы ее длина соответствовала длине поля UNIV_NAME или использовать для согласования типов функцию CAST. В некоторых СУБД согласование типов поля и замещающей его текстовой константы осуществляется автоматически."
   ]
  },
  {
   "cell_type": "code",
   "execution_count": 9,
   "metadata": {
    "pycharm": {
     "name": "#%%\n"
    }
   },
   "outputs": [],
   "source": [
    "#! pip install sqlalchemy"
   ]
  },
  {
   "cell_type": "code",
   "execution_count": 1,
   "metadata": {
    "pycharm": {
     "name": "#%%\n"
    }
   },
   "outputs": [],
   "source": [
    "from sqlalchemy import MetaData, Table, create_engine, select, and_, or_, not_, text, desc\n",
    "from sqlalchemy import union, union_all\n",
    "from sqlalchemy.sql import func, distinct, exists"
   ]
  },
  {
   "cell_type": "code",
   "execution_count": 2,
   "metadata": {
    "pycharm": {
     "name": "#%%\n"
    }
   },
   "outputs": [],
   "source": [
    "engine = create_engine('sqlite:///Students.db')\n",
    "metadata_obj = MetaData() # Объект-контейнер, содержит информацию о схеме данных\n",
    "metadata_obj.reflect(bind=engine) # Отображение БД"
   ]
  },
  {
   "cell_type": "markdown",
   "metadata": {
    "pycharm": {
     "name": "#%% md\n"
    }
   },
   "source": [
    "Создание объектов таблиц"
   ]
  },
  {
   "cell_type": "code",
   "execution_count": 3,
   "metadata": {
    "pycharm": {
     "name": "#%%\n"
    }
   },
   "outputs": [],
   "source": [
    "exam_marks=Table(\"exam_marks\", metadata_obj, autoload=True, autoload_with=\"engine\")\n",
    "lecturer=Table(\"lecturer\", metadata_obj, autoload=True, autoload_with=\"engine\")\n",
    "student=Table(\"student\", metadata_obj, autoload=True, autoload_with=\"engine\")\n",
    "subj_lect=Table(\"subj_lect\", metadata_obj, autoload=True, autoload_with=\"engine\")\n",
    "subject=Table(\"subject\", metadata_obj, autoload=True, autoload_with=\"engine\")\n",
    "university=Table(\"university\", metadata_obj, autolad=True, autolad_with=\"engine\")"
   ]
  },
  {
   "cell_type": "code",
   "execution_count": 4,
   "metadata": {
    "pycharm": {
     "name": "#%%\n"
    }
   },
   "outputs": [],
   "source": [
    "conn=engine.connect() # Соединение"
   ]
  },
  {
   "cell_type": "markdown",
   "metadata": {
    "pycharm": {
     "name": "#%% md\n"
    }
   },
   "source": [
    "<img src=../Img/pencil.png style=\"width:190px;height:190px\">\n",
    "<p style=\"background-color:powderblue; font-size:125%; color: rebeccapurple;\">Выполните задания</p>\n",
    "<p>Выполните задания с помощью соедиинения таблиц в Jupyter Notebook </p>\n",
    "\n",
    "1. Создайте объединение двух запросов, которые выдают значения полей *univ_name*, *city*, *rating* для всех университетов. Те из них, у которых рейтинг равен или выше 300, должны иметь комментарий ‘высокий’, все остальные — ‘низкий’.\n",
    "\n",
    "2. Напишите команду, которая выдает список фамилий студентов с комментарием: 'успевает' у студентов, имеющих все положительные оценки; 'не успевает' для сдававших экзамены, но имеющих хотя бы одну неудовлетворительную оценку; 'не сдавал' — для всех остальных. В выводимом результате фамилии студентов упорядочите по алфавиту.\n",
    "\n",
    "3. Выведите объединенный список студентов и преподавателей, живущих в Москве, с соответствующими комментариями 'студент' или 'преподаватель'.\n",
    "\n",
    "4. Выведите объединенный список студентов и преподавателей ВГУ с соответствующими комментариями 'студент' или 'преподаватель'.\n",
    "\n",
    "5. Для каждого города выведите названия университетов с минимальным и максимальным для данного города рейтингом. Пометьте строки списка словами ‘min’ и ‘max’, поместив их в дополнительном столбце. Резулььтат должен содержать название города, название университета, рейтинг. Упорядочите результат по городу.\n",
    "\n",
    "6. Для каждого курса выведите фамилии студентов, получающих минимальные и максимальные на их курсе стипендии. Пометьте строки списка словами ‘min’ и ‘max’, поместив их в дополнительном столбце.\n",
    "\n",
    "7. Для каждого курса выведите фамилии самого старшего и самого младшего студентов. Пометьте строки списка словами 'младший' и 'старший', поместив их в дополнительном столбце.\n",
    "\n",
    "8. Напишите запрос для получения полного списка университетов вместе с количеством студентов, которые в них учатся. Для университетов, не имеющих студентов, поместите в список фразу ‘Студентов нет’. отсортируйте результат по убыванию числа студентов.\n",
    "\n",
    "9. Напишите запрос для получения полного списка университетов вместе с фамилиями преподавателей, в них работающих. Для университетов, не имеющих преподавателей, поместите в список фразу ‘Преподавателей нет’. результат должен содержать название университета, фамилию и имя преподавателя. отсортируйте результат по фамилии и имени преподавателя.\n",
    "\n",
    "10. Выведите полный список студентов вместе с оценками, полученными ими на экзаменах. Для студентов, не сдававших экзамены, в поле оценки поместите 0."
   ]
  },
  {
   "cell_type": "markdown",
   "metadata": {
    "pycharm": {
     "name": "#%% md\n"
    }
   },
   "source": [
    "# Решение"
   ]
  },
  {
   "cell_type": "code",
   "execution_count": 5,
   "metadata": {
    "pycharm": {
     "name": "#%%\n"
    }
   },
   "outputs": [],
   "source": [
    "st = student.alias('st')\n",
    "em = exam_marks.alias('em')\n",
    "u = university.alias('u')\n",
    "l = lecturer.alias('l')\n",
    "sl = subj_lect.alias('sl')\n",
    "su = subject.alias('su')"
   ]
  },
  {
   "cell_type": "code",
   "execution_count": 8,
   "metadata": {
    "pycharm": {
     "name": "#%%\n"
    }
   },
   "outputs": [
    {
     "name": "stdout",
     "output_type": "stream",
     "text": [
      "SELECT 'Высокий' as 'Category', u.univ_name, u.city, u.rating \n",
      "FROM university AS u \n",
      "WHERE u.rating > :rating_1 UNION SELECT 'Низкий', u.univ_name, u.city, u.rating \n",
      "FROM university AS u \n",
      "WHERE u.rating <= :rating_2\n",
      "12\n"
     ]
    },
    {
     "data": {
      "text/plain": "[('Высокий', 'БГУ', 'Белгород', 326),\n ('Высокий', 'ВГМА', 'Воронеж', 327),\n ('Высокий', 'МГТУ им. Баумана', 'Москва', 372),\n ('Высокий', 'МГУ', 'Москва', 606),\n ('Высокий', 'МФТИ', 'Москва', 500),\n ('Высокий', 'НГУ', 'Новосибирск', 345),\n ('Высокий', 'РГУ', 'Ростов', 416),\n ('Высокий', 'ТГУ', 'Томск', 368),\n ('Высокий', 'ФГБОУ \"Политех\"', 'Санкт-Петербург', 304),\n ('Высокий', 'ФинУ', 'Москва', 330),\n ('Низкий', 'ВГУ', 'Воронеж', 296),\n ('Низкий', 'УЛГУ', 'Ульяновск', 231)]"
     },
     "execution_count": 8,
     "metadata": {},
     "output_type": "execute_result"
    }
   ],
   "source": [
    "\"\"\"\n",
    "1. Создайте объединение двух запросов, которые выдают значения полей *univ_name*, *city*, *rating*\n",
    "для всех университетов. Те из них, у которых рейтинг равен или выше 300, должны иметь комментарий ‘высокий’,\n",
    "все остальные — ‘низкий’.\n",
    "\"\"\"\n",
    "\n",
    "s1 = select([text(\"'Высокий' as 'Category'\"), u.c.univ_name, u.c.city, u.c.rating])\n",
    "s1 = s1.where(u.c.rating > 300)\n",
    "s2 = select([text(\"'Низкий'\"), u.c.univ_name, u.c.city, u.c.rating])\n",
    "s2 = s2.where(u.c.rating <= 300) \n",
    "\n",
    "stmt = union(s1,s2)\n",
    "print(stmt)\n",
    "\n",
    "result = conn.execute(stmt).fetchall()\n",
    "print(len(result))\n",
    "result"
   ]
  },
  {
   "cell_type": "code",
   "execution_count": 11,
   "metadata": {
    "pycharm": {
     "name": "#%%\n"
    }
   },
   "outputs": [
    {
     "name": "stdout",
     "output_type": "stream",
     "text": [
      "SELECT DISTINCT 'Успевает' as 'Category', st.surname, st.name \n",
      "FROM student AS st \n",
      "WHERE NOT (EXISTS (SELECT em.exam_id \n",
      "FROM exam_marks AS em \n",
      "WHERE em.student_id = st.student_id AND em.mark < :mark_1)) AND (EXISTS (SELECT em.exam_id \n",
      "FROM exam_marks AS em \n",
      "WHERE em.student_id = st.student_id)) UNION SELECT DISTINCT 'Не успевает', st.surname, st.name \n",
      "FROM student AS st JOIN exam_marks AS em ON st.student_id = em.student_id \n",
      "WHERE em.mark IN (__[POSTCOMPILE_mark_2]) UNION SELECT 'Не сдавал', st.surname, st.name \n",
      "FROM student AS st LEFT OUTER JOIN exam_marks AS em ON em.student_id = st.student_id \n",
      "WHERE em.student_id IS NULL ORDER BY surname\n",
      "84\n"
     ]
    },
    {
     "data": {
      "text/plain": "[('Не сдавал', 'Агафонов', 'Василий'),\n ('Не сдавал', 'Аксенов', 'Валерий'),\n ('Не сдавал', 'Архипов', 'Андрей'),\n ('Не успевает', 'Афанасьева', 'Анжелика'),\n ('Не сдавал', 'Баранов', 'Александр'),\n ('Успевает', 'Белкин', 'Вадим'),\n ('Не сдавал', 'Бирюков', 'Герасим'),\n ('Не сдавал', 'Бирюков', 'Мартин'),\n ('Успевает', 'Блохина', 'Ираида'),\n ('Успевает', 'Борисова', 'Марина'),\n ('Не сдавал', 'Валерия', 'Овчинникова'),\n ('Не сдавал', 'Васильева', 'Оксана'),\n ('Не успевает', 'Веселов', 'Тимур'),\n ('Не успевает', 'Вишнякова', 'Анжела'),\n ('Не сдавал', 'Владимиров', 'Анатолий'),\n ('Не сдавал', 'Воронова', 'Антонина'),\n ('Не успевает', 'Вячеслав', 'Пахомов'),\n ('Не сдавал', 'Гуляев', 'Кузьма'),\n ('Не сдавал', 'Гуляева', 'Рукижат'),\n ('Не сдавал', 'Дуб', 'Елизавета'),\n ('Не сдавал', 'Ершов', 'Митрофан'),\n ('Не сдавал', 'Ефимов', 'Яков'),\n ('Успевает', 'Жданова', 'Ирина'),\n ('Успевает', 'Жук', 'Оксана'),\n ('Не успевает', 'Жуков', 'Пров'),\n ('Не сдавал', 'Жукова', 'Фекла'),\n ('Не сдавал', 'Жуковский', 'Юрий'),\n ('Не сдавал', 'Журавлев', 'Фома'),\n ('Не сдавал', 'Журавлева', 'Вера'),\n ('Не успевает', 'Зайцева', 'Ольга'),\n ('Не сдавал', 'Захаров', 'Софон'),\n ('Не успевает', 'Иванов', 'Иван'),\n ('Не сдавал', 'Иванова', 'Мария'),\n ('Не сдавал', 'Игнатова', 'Зинаида'),\n ('Не сдавал', 'Казакова', 'Ольга'),\n ('Не успевает', 'Казакова', 'Мария'),\n ('Не успевает', 'Калашников', 'Евгений'),\n ('Не сдавал', 'Киселев', 'Владимир'),\n ('Не сдавал', 'Ковалев', 'Ефим'),\n ('Не сдавал', 'Комаров', 'Ипат'),\n ('Не сдавал', 'Кондратьев', 'Николай'),\n ('Успевает', 'Костина', 'Кира'),\n ('Успевает', 'Котов', 'Павел'),\n ('Не сдавал', 'Кудряшов', 'Роман'),\n ('Не сдавал', 'Кудряшова', 'Вера'),\n ('Успевает', 'Кузнецов', 'Борис'),\n ('Не сдавал', 'Кулаков', 'Феофан'),\n ('Успевает', 'Лазарев', 'Константин'),\n ('Успевает', 'Лапина', 'Элеонора'),\n ('Успевает', 'Лукин', 'Артем'),\n ('Не успевает', 'Мельникова', 'Дарья'),\n ('Не сдавал', 'Миронова', 'Анна'),\n ('Не сдавал', 'Миронова', 'Федор'),\n ('Не успевает', 'Мишина', 'Светлана'),\n ('Не сдавал', 'Морозов', 'Кирилл'),\n ('Не сдавал', 'Назаров', 'Икром'),\n ('Не сдавал', 'Некрасова', 'Вероника'),\n ('Не успевает', 'Одинцова', 'Лидия'),\n ('Не успевает', 'Ордуханян', 'Рафаэль'),\n ('Не сдавал', 'Павлов', 'Андрей'),\n ('Не сдавал', 'Панов', 'Арсений'),\n ('Не сдавал', 'Петров', 'Антон'),\n ('Не сдавал', 'Петров', 'Вадим'),\n ('Не сдавал', 'Петров', 'Петр'),\n ('Не сдавал', 'Пономарев', 'Варфоромей'),\n ('Не сдавал', 'Пономарева', 'Алина'),\n ('Не сдавал', 'Рожкова', 'Пелагея'),\n ('Не сдавал', 'Русаков', 'Давид'),\n ('Успевает', 'Семенова', 'Вероника'),\n ('Не успевает', 'Сергеева', 'Фёкла'),\n ('Успевает', 'Сидоров', 'Вадим'),\n ('Не сдавал', 'Симонов', 'Семен'),\n ('Не сдавал', 'Ситников', 'Викентий'),\n ('Не сдавал', 'Соколова', 'Ия'),\n ('Не сдавал', 'Сорокина', 'Валерия'),\n ('Не успевает', 'Сорокина', 'Ирина'),\n ('Не успевает', 'Суханов', 'Константин'),\n ('Не сдавал', 'Тимофеева', 'Фаина'),\n ('Не успевает', 'Трофимов', 'Владислав'),\n ('Не успевает', 'Федоров', 'Гостомысл'),\n ('Не сдавал', 'Фролова', 'Василиса'),\n ('Не сдавал', 'Ширяев', 'Андрей'),\n ('Не сдавал', 'Шубина', 'Елена'),\n ('Не сдавал', 'Юдин', 'Савва')]"
     },
     "execution_count": 11,
     "metadata": {},
     "output_type": "execute_result"
    }
   ],
   "source": [
    "\"\"\"\n",
    "2. Напишите команду, которая выдает список фамилий студентов с комментарием: 'успевает' у студентов,\n",
    "имеющих все положительные оценки; 'не успевает' для сдававших экзамены, но имеющих хотя бы одну\n",
    "неудовлетворительную оценку; 'не сдавал' — для всех остальных.\n",
    "В выводимом результате фамилии студентов упорядочите по алфавиту.\n",
    "\"\"\"\n",
    "\n",
    "subq1=select([em.c.exam_id])\n",
    "subq1=subq1.where(em.c.student_id==st.c.student_id)\n",
    "subq1=subq1.where(em.c.mark <4).exists()\n",
    "\n",
    "subq2=select([em.c.exam_id])\n",
    "subq2=subq2.where(em.c.student_id==st.c.student_id).exists()\n",
    "\n",
    "s1 = select([text(\"'Успевает' as 'Category'\"), st.c.surname, st.c.name]).distinct()\n",
    "s1=s1.where(~subq1).where(subq2)\n",
    "\n",
    "s2=select([text(\"'Не успевает'\"), st.c.surname, st.c.name]).distinct()\n",
    "s2=s2.join_from(st, em, st.c.student_id==em.c.student_id)\n",
    "s2=s2.where(em.c.mark.in_([1,2]))\n",
    "\n",
    "q = select([text(\"'Не сдавал'\"), st.c.surname, st.c.name])\n",
    "q = q.join_from(st, em, em.c.student_id==st.c.student_id, isouter=True)\n",
    "q = q.where(em.c.student_id==None) \n",
    "\n",
    "stmt = union(s1,s2,q).order_by(st.c.surname)\n",
    "print(stmt)\n",
    "\n",
    "result = conn.execute(stmt).all()\n",
    "print(len(result))\n",
    "result"
   ]
  },
  {
   "cell_type": "code",
   "execution_count": 12,
   "metadata": {
    "pycharm": {
     "name": "#%%\n"
    }
   },
   "outputs": [
    {
     "name": "stdout",
     "output_type": "stream",
     "text": [
      "SELECT 'Студент' as 'Category', st.surname, st.name \n",
      "FROM student AS st \n",
      "WHERE st.city = :city_1 UNION SELECT 'Преподаватель' as 'Category', l.surname, l.name \n",
      "FROM lecturer AS l \n",
      "WHERE l.city = :city_2\n",
      "5\n"
     ]
    },
    {
     "data": {
      "text/plain": "[('Преподаватель', 'Лагутин', 'Павел'),\n ('Преподаватель', 'Струков', 'Николай'),\n ('Студент', 'Баранов', 'Александр'),\n ('Студент', 'Миронова', 'Федор'),\n ('Студент', 'Сидоров', 'Вадим')]"
     },
     "execution_count": 12,
     "metadata": {},
     "output_type": "execute_result"
    }
   ],
   "source": [
    "\"\"\"\n",
    "3. Выведите объединенный список студентов и преподавателей, живущих в Москве,\n",
    "с соответствующими комментариями 'студент' или 'преподаватель'.\n",
    "\"\"\"\n",
    "\n",
    "s1 = select([text(\"'Студент' as 'Category'\"), st.c.surname, st.c.name])\n",
    "s1 = s1.where(st.c.city == 'Москва')\n",
    "s2 = select([text(\"'Преподаватель' as 'Category'\"), l.c.surname, l.c.name])\n",
    "s2 = s2.where(l.c.city == 'Москва') \n",
    "\n",
    "stmt = union(s1,s2)\n",
    "print(stmt)\n",
    "\n",
    "result = conn.execute(stmt).fetchall()\n",
    "print(len(result))\n",
    "result"
   ]
  },
  {
   "cell_type": "code",
   "execution_count": 13,
   "metadata": {
    "scrolled": true,
    "pycharm": {
     "name": "#%%\n"
    }
   },
   "outputs": [
    {
     "name": "stdout",
     "output_type": "stream",
     "text": [
      "24\n"
     ]
    },
    {
     "name": "stderr",
     "output_type": "stream",
     "text": [
      "C:\\Users\\Екатерина\\AppData\\Local\\Temp\\ipykernel_2120\\1950266744.py:10: SAWarning: implicitly coercing SELECT object to scalar subquery; please use the .scalar_subquery() method to produce a scalar subquery.\n",
      "  s1 = s1.where(st.c.univ_id == subq)\n",
      "C:\\Users\\Екатерина\\AppData\\Local\\Temp\\ipykernel_2120\\1950266744.py:13: SAWarning: implicitly coercing SELECT object to scalar subquery; please use the .scalar_subquery() method to produce a scalar subquery.\n",
      "  s2 = s2.where(l.c.univ_id == subq)\n"
     ]
    },
    {
     "data": {
      "text/plain": "[('Преподаватель', 'Алексеев', 'Елисей', 10),\n ('Преподаватель', 'Зайцева', 'Юлия', 10),\n ('Преподаватель', 'Зыкова', 'Оксана', 10),\n ('Преподаватель', 'Колесников', 'Борис', 10),\n ('Преподаватель', 'Максимова', 'Иванна', 10),\n ('Преподаватель', 'Николаев', 'Виктор', 10),\n ('Преподаватель', 'Никонов', 'Иван', 10),\n ('Преподаватель', 'Сорокин', 'Андрей', 10),\n ('Студент', 'Агафонов', 'Василий', 10),\n ('Студент', 'Аксенов', 'Валерий', 10),\n ('Студент', 'Белкин', 'Вадим', 10),\n ('Студент', 'Борисова', 'Марина', 10),\n ('Студент', 'Жданова', 'Ирина', 10),\n ('Студент', 'Зайцева', 'Ольга', 10),\n ('Студент', 'Иванов', 'Иван', 10),\n ('Студент', 'Кузнецов', 'Борис', 10),\n ('Студент', 'Лукин', 'Артем', 10),\n ('Студент', 'Мельникова', 'Дарья', 10),\n ('Студент', 'Некрасова', 'Вероника', 10),\n ('Студент', 'Павлов', 'Андрей', 10),\n ('Студент', 'Петров', 'Петр', 10),\n ('Студент', 'Семенова', 'Вероника', 10),\n ('Студент', 'Сергеева', 'Фёкла', 10),\n ('Студент', 'Федоров', 'Гостомысл', 10)]"
     },
     "execution_count": 13,
     "metadata": {},
     "output_type": "execute_result"
    }
   ],
   "source": [
    "\"\"\"\n",
    "4. Выведите объединенный список студентов и преподавателей ВГУ с\n",
    "соответствующими комментариями 'студент' или 'преподаватель'.\n",
    "\"\"\"\n",
    "\n",
    "subq = select([u.c.univ_id])\n",
    "subq = subq.where(u.c.univ_name == \"ВГУ\")\n",
    "\n",
    "s1 = select([text(\"'Студент' as 'Category'\"), st.c.surname, st.c.name, st.c.univ_id])\n",
    "s1 = s1.where(st.c.univ_id == subq)\n",
    "\n",
    "s2 = select([text(\"'Преподаватель' as 'Category'\"), l.c.surname, l.c.name, l.c.univ_id])\n",
    "s2 = s2.where(l.c.univ_id == subq)\n",
    "stmt = union(s1,s2)\n",
    "\n",
    "result = conn.execute(stmt).fetchall()\n",
    "print(len(result))\n",
    "result"
   ]
  },
  {
   "cell_type": "code",
   "execution_count": 15,
   "metadata": {
    "pycharm": {
     "name": "#%%\n"
    }
   },
   "outputs": [
    {
     "name": "stdout",
     "output_type": "stream",
     "text": [
      "SELECT 'max' as 'Category', u.city, u.univ_name, u.rating \n",
      "FROM university AS u \n",
      "WHERE u.rating = (SELECT max(u2.rating) AS max_1 \n",
      "FROM university AS u2 \n",
      "WHERE u2.city = u.city) UNION SELECT 'min' as 'Category', u.city, u.univ_name, u.rating \n",
      "FROM university AS u \n",
      "WHERE u.rating = (SELECT min(u2.rating) AS min_1 \n",
      "FROM university AS u2 \n",
      "WHERE u2.city = u.city)\n",
      "16\n"
     ]
    },
    {
     "name": "stderr",
     "output_type": "stream",
     "text": [
      "C:\\Users\\Екатерина\\AppData\\Local\\Temp\\ipykernel_2120\\401631052.py:10: SADeprecationWarning: The SelectBase.as_scalar() method is deprecated and will be removed in a future release.  Please refer to SelectBase.scalar_subquery(). (deprecated since: 1.4)\n",
      "  subq1=select([func.max(u2.c.rating)]).where(u2.c.city==u.c.city).as_scalar()\n",
      "C:\\Users\\Екатерина\\AppData\\Local\\Temp\\ipykernel_2120\\401631052.py:11: SADeprecationWarning: The SelectBase.as_scalar() method is deprecated and will be removed in a future release.  Please refer to SelectBase.scalar_subquery(). (deprecated since: 1.4)\n",
      "  subq2=select([func.min(u2.c.rating)]).where(u2.c.city==u.c.city).as_scalar()\n"
     ]
    },
    {
     "data": {
      "text/plain": "[('max', 'Белгород', 'БГУ', 326),\n ('max', 'Воронеж', 'ВГМА', 327),\n ('max', 'Москва', 'МГУ', 606),\n ('max', 'Новосибирск', 'НГУ', 345),\n ('max', 'Ростов', 'РГУ', 416),\n ('max', 'Санкт-Петербург', 'ФГБОУ \"Политех\"', 304),\n ('max', 'Томск', 'ТГУ', 368),\n ('max', 'Ульяновск', 'УЛГУ', 231),\n ('min', 'Белгород', 'БГУ', 326),\n ('min', 'Воронеж', 'ВГУ', 296),\n ('min', 'Москва', 'ФинУ', 330),\n ('min', 'Новосибирск', 'НГУ', 345),\n ('min', 'Ростов', 'РГУ', 416),\n ('min', 'Санкт-Петербург', 'ФГБОУ \"Политех\"', 304),\n ('min', 'Томск', 'ТГУ', 368),\n ('min', 'Ульяновск', 'УЛГУ', 231)]"
     },
     "execution_count": 15,
     "metadata": {},
     "output_type": "execute_result"
    }
   ],
   "source": [
    "\"\"\"\n",
    "5. Для каждого города выведите названия университетов с минимальным и максимальным для данного города\n",
    "рейтингом. Пометьте строки списка словами ‘min’ и ‘max’, поместив их в дополнительном столбце.\n",
    "Результат должен содержать название города, название университета, рейтинг.\n",
    "Упорядочите результат по городу.\n",
    "\"\"\"\n",
    "\n",
    "u2 = university.alias('u2')\n",
    "\n",
    "subq1=select([func.max(u2.c.rating)]).where(u2.c.city==u.c.city).as_scalar()\n",
    "subq2=select([func.min(u2.c.rating)]).where(u2.c.city==u.c.city).as_scalar()\n",
    "\n",
    "s1 = select([text(\"'max' as 'Category'\"), u.c.city, u.c.univ_name, u.c.rating])\n",
    "s1 = s1.where(u.c.rating== subq1)\n",
    "s2 = select([text(\"'min' as 'Category'\"), u.c.city, u.c.univ_name, u.c.rating])\n",
    "s2 = s2.where(u.c.rating== subq2)\n",
    "\n",
    "stmt = union(s1,s2)\n",
    "print(stmt)\n",
    "\n",
    "result = conn.execute(stmt).fetchall()\n",
    "print(len(result))\n",
    "result"
   ]
  },
  {
   "cell_type": "code",
   "execution_count": 16,
   "metadata": {
    "pycharm": {
     "name": "#%%\n"
    }
   },
   "outputs": [
    {
     "name": "stdout",
     "output_type": "stream",
     "text": [
      "SELECT 'max' as 'Category', st.surname, st.stipend \n",
      "FROM student AS st \n",
      "WHERE st.stipend = (SELECT max(st2.stipend) AS max_1 \n",
      "FROM student AS st2 \n",
      "WHERE st2.kurs = st.kurs) UNION SELECT 'min' as 'Category', st.surname, st.stipend \n",
      "FROM student AS st \n",
      "WHERE st.stipend = (SELECT min(st2.stipend) AS min_1 \n",
      "FROM student AS st2 \n",
      "WHERE st2.kurs = st.kurs)\n",
      "39\n"
     ]
    },
    {
     "name": "stderr",
     "output_type": "stream",
     "text": [
      "C:\\Users\\Екатерина\\AppData\\Local\\Temp\\ipykernel_2120\\1201597452.py:8: SADeprecationWarning: The SelectBase.as_scalar() method is deprecated and will be removed in a future release.  Please refer to SelectBase.scalar_subquery(). (deprecated since: 1.4)\n",
      "  subq1=select([func.max(st2.c.stipend)]).where(st2.c.kurs==st.c.kurs).as_scalar()\n",
      "C:\\Users\\Екатерина\\AppData\\Local\\Temp\\ipykernel_2120\\1201597452.py:9: SADeprecationWarning: The SelectBase.as_scalar() method is deprecated and will be removed in a future release.  Please refer to SelectBase.scalar_subquery(). (deprecated since: 1.4)\n",
      "  subq2=select([func.min(st2.c.stipend)]).where(st2.c.kurs==st.c.kurs).as_scalar()\n"
     ]
    },
    {
     "data": {
      "text/plain": "[('max', 'Белкин', 250),\n ('max', 'Блохина', 250),\n ('max', 'Вячеслав', 250),\n ('max', 'Ершов', 250),\n ('max', 'Жук', 250),\n ('max', 'Зайцева', 250),\n ('max', 'Казакова', 250),\n ('max', 'Кудряшов', 250),\n ('max', 'Мельникова', 250),\n ('max', 'Морозов', 250),\n ('max', 'Некрасова', 250),\n ('max', 'Панов', 250),\n ('max', 'Петров', 250),\n ('max', 'Петрова', 250),\n ('max', 'Пономарева', 250),\n ('max', 'Русаков', 250),\n ('max', 'Суханов', 250),\n ('max', 'Трофимов', 250),\n ('min', 'Афанасьева', 0),\n ('min', 'Бирюков', 0),\n ('min', 'Васильева', 0),\n ('min', 'Воронова', 0),\n ('min', 'Гуляева', 0),\n ('min', 'Жуков', 0),\n ('min', 'Журавлева', 0),\n ('min', 'Игнатова', 100),\n ('min', 'Комаров', 0),\n ('min', 'Костина', 0),\n ('min', 'Кудряшова', 100),\n ('min', 'Кузнецов', 0),\n ('min', 'Мельникова', 100),\n ('min', 'Одинцова', 100),\n ('min', 'Павлов', 0),\n ('min', 'Рожкова', 0),\n ('min', 'Семенова', 0),\n ('min', 'Сергеева', 100),\n ('min', 'Симонов', 100),\n ('min', 'Шубина', 0),\n ('min', 'Юдин', 0)]"
     },
     "execution_count": 16,
     "metadata": {},
     "output_type": "execute_result"
    }
   ],
   "source": [
    "\"\"\"\n",
    "6. Для каждого курса выведите фамилии студентов, получающих минимальные и максимальные на их курсе стипендии.\n",
    "Пометьте строки списка словами ‘min’ и ‘max’, поместив их в дополнительном столбце.\n",
    "\"\"\"\n",
    "\n",
    "st2=student.alias('st2')\n",
    "\n",
    "subq1=select([func.max(st2.c.stipend)]).where(st2.c.kurs==st.c.kurs).as_scalar()\n",
    "subq2=select([func.min(st2.c.stipend)]).where(st2.c.kurs==st.c.kurs).as_scalar()\n",
    "\n",
    "s1 = select([text(\"'max' as 'Category'\"),st.c.surname, st.c.stipend])\n",
    "s1 = s1.where(st.c.stipend== subq1)\n",
    "s2 = select([text(\"'min' as 'Category'\"), st.c.surname, st.c.stipend])\n",
    "s2 = s2.where(st.c.stipend== subq2)\n",
    "\n",
    "stmt = union(s1,s2)\n",
    "print(stmt)\n",
    "\n",
    "result = conn.execute(stmt).fetchall()\n",
    "print(len(result))\n",
    "result"
   ]
  },
  {
   "cell_type": "code",
   "execution_count": 18,
   "metadata": {
    "pycharm": {
     "name": "#%%\n"
    }
   },
   "outputs": [
    {
     "name": "stdout",
     "output_type": "stream",
     "text": [
      "SELECT 'Младший' as 'Category', st.surname, st.birthday \n",
      "FROM student AS st \n",
      "WHERE st.birthday = (SELECT max(st2.birthday) AS max_1 \n",
      "FROM student AS st2 \n",
      "WHERE st.kurs = st2.kurs) UNION SELECT 'Старший' as 'Category', st.surname, st.birthday \n",
      "FROM student AS st \n",
      "WHERE st.birthday = (SELECT min(st2.birthday) AS min_1 \n",
      "FROM student AS st2 \n",
      "WHERE st.kurs = st2.kurs)\n",
      "10\n"
     ]
    },
    {
     "name": "stderr",
     "output_type": "stream",
     "text": [
      "C:\\Users\\Екатерина\\AppData\\Local\\Temp\\ipykernel_2120\\3749306811.py:8: SADeprecationWarning: The SelectBase.as_scalar() method is deprecated and will be removed in a future release.  Please refer to SelectBase.scalar_subquery(). (deprecated since: 1.4)\n",
      "  subq1=select([func.max(st2.c.birthday)]).where(st.c.kurs == st2.c.kurs).as_scalar()\n",
      "C:\\Users\\Екатерина\\AppData\\Local\\Temp\\ipykernel_2120\\3749306811.py:9: SADeprecationWarning: The SelectBase.as_scalar() method is deprecated and will be removed in a future release.  Please refer to SelectBase.scalar_subquery(). (deprecated since: 1.4)\n",
      "  subq2=select([func.min(st2.c.birthday)]).where(st.c.kurs == st2.c.kurs).as_scalar()\n"
     ]
    },
    {
     "data": {
      "text/plain": "[('Младший', 'Журавлева', datetime.datetime(2003, 6, 14, 0, 0)),\n ('Младший', 'Некрасова', datetime.datetime(2004, 8, 23, 0, 0)),\n ('Младший', 'Ордуханян', datetime.datetime(2003, 6, 1, 0, 0)),\n ('Младший', 'Семенова', datetime.datetime(2003, 10, 4, 0, 0)),\n ('Младший', 'Ситников', datetime.datetime(2003, 10, 5, 0, 0)),\n ('Старший', 'Васильева', datetime.datetime(1994, 5, 14, 0, 0)),\n ('Старший', 'Казакова', datetime.datetime(1994, 2, 18, 0, 0)),\n ('Старший', 'Ковалев', datetime.datetime(1995, 11, 28, 0, 0)),\n ('Старший', 'Сорокина', datetime.datetime(1993, 9, 28, 0, 0)),\n ('Старший', 'Трофимов', datetime.datetime(1995, 3, 24, 0, 0))]"
     },
     "execution_count": 18,
     "metadata": {},
     "output_type": "execute_result"
    }
   ],
   "source": [
    "\"\"\"\n",
    "7. Для каждого курса выведите фамилии самого старшего и самого младшего студентов.\n",
    "Пометьте строки списка словами 'младший' и 'старший', поместив их в дополнительном столбце.\n",
    "\"\"\"\n",
    "\n",
    "st2=student.alias('st2')\n",
    "\n",
    "subq1=select([func.max(st2.c.birthday)]).where(st.c.kurs == st2.c.kurs).as_scalar()\n",
    "subq2=select([func.min(st2.c.birthday)]).where(st.c.kurs == st2.c.kurs).as_scalar()\n",
    "\n",
    "s1 = select([text(\"'Младший' as 'Category'\"),st.c.surname, st.c.birthday])\n",
    "s1 = s1.where(st.c.birthday== subq1)\n",
    "s2 = select([text(\"'Старший' as 'Category'\"), st.c.surname, st.c.birthday])\n",
    "s2 = s2.where(st.c.birthday== subq2)\n",
    "\n",
    "stmt = union(s1,s2)\n",
    "print(stmt)\n",
    "\n",
    "result = conn.execute(stmt).fetchall()\n",
    "print(len(result))\n",
    "result"
   ]
  },
  {
   "cell_type": "code",
   "execution_count": 52,
   "metadata": {
    "pycharm": {
     "name": "#%%\n"
    }
   },
   "outputs": [
    {
     "name": "stdout",
     "output_type": "stream",
     "text": [
      "13\n"
     ]
    },
    {
     "data": {
      "text/plain": "[('МФТИ', 'Студентов нет'),\n ('ВГУ', 16),\n ('МГУ', 10),\n ('ФинУ', 10),\n ('БГУ', 9),\n ('ФГБОУ \"Политех\"', 9),\n ('ВГМА', 7),\n ('РГУ', 7),\n ('КФУ', 6),\n ('МГТУ им. Баумана', 5),\n ('УЛГУ', 5),\n ('НГУ', 4),\n ('ТГУ', 2)]"
     },
     "execution_count": 52,
     "metadata": {},
     "output_type": "execute_result"
    }
   ],
   "source": [
    "\"\"\"\n",
    "8. Напишите запрос для получения полного списка университетов вместе с количеством студентов,\n",
    "которые в них учатся. Для университетов, не имеющих студентов, поместите в список фразу ‘Студентов нет’.\n",
    "отсортируйте результат по убыванию числа студентов.\n",
    "\"\"\"\n",
    "\n",
    "s1 = select([u.c.univ_name, func.count(st.c.student_id)])\n",
    "s1 = s1.join_from(u, st)\n",
    "s1 = s1.group_by(u.c.univ_name)\n",
    "\n",
    "s2 = select([u.c.univ_name, text(\"'Студентов нет'\")])\n",
    "s2 = s2.join_from(u, st, isouter=True)\n",
    "s2 = s2.group_by(u.c.univ_name)\n",
    "s2 = s2.having(func.count(st.c.student_id) == 0)\n",
    "\n",
    "stmt = union(s1, s2).order_by(desc(func.count(st.c.student_id)))\n",
    "\n",
    "result = conn.execute(stmt).fetchall()\n",
    "print(len(result))\n",
    "result"
   ]
  },
  {
   "cell_type": "code",
   "execution_count": 55,
   "metadata": {
    "pycharm": {
     "name": "#%%\n"
    }
   },
   "outputs": [
    {
     "name": "stdout",
     "output_type": "stream",
     "text": [
      "32\n"
     ]
    },
    {
     "data": {
      "text/plain": "[('БГУ', 'Преподавателей нет'),\n ('ВГМА', 'Артемьева'),\n ('ВГМА', 'Богданова'),\n ('ВГМА', 'Крюкова'),\n ('ВГМА', 'Сафонов'),\n ('ВГМА', 'Ситникова'),\n ('ВГУ', 'Алексеев'),\n ('ВГУ', 'Зайцева'),\n ('ВГУ', 'Зыкова'),\n ('ВГУ', 'Колесников'),\n ('ВГУ', 'Максимова'),\n ('ВГУ', 'Николаев'),\n ('ВГУ', 'Никонов'),\n ('ВГУ', 'Сорокин'),\n ('КФУ', 'Кудрявцева'),\n ('КФУ', 'Куликова'),\n ('МГТУ им. Баумана', 'Волков'),\n ('МГУ', 'Лагутин'),\n ('МГУ', 'Струков'),\n ('МФТИ', 'Преподавателей нет'),\n ('НГУ', 'Мамонтова'),\n ('РГУ', 'Беляков'),\n ('РГУ', 'Дорофеев'),\n ('ТГУ', 'Беспалов'),\n ('ТГУ', 'Тихонов'),\n ('УЛГУ', 'Брагина'),\n ('УЛГУ', 'Дмитриева'),\n ('УЛГУ', 'Елисеев'),\n ('ФГБОУ \"Политех\"', 'Зимин'),\n ('ФГБОУ \"Политех\"', 'Сафонова'),\n ('ФГБОУ \"Политех\"', 'Стрелков'),\n ('ФинУ', 'Преподавателей нет')]"
     },
     "execution_count": 55,
     "metadata": {},
     "output_type": "execute_result"
    }
   ],
   "source": [
    "\"\"\"\n",
    "9. Напишите запрос для получения полного списка университетов вместе с фамилиями преподавателей,\n",
    "в них работающих. Для университетов, не имеющих преподавателей, поместите в список фразу ‘Преподавателей нет’. результат должен содержать название университета, фамилию и имя преподавателя. отсортируйте результат по фамилии и имени преподавателя.\n",
    "\"\"\"\n",
    "\n",
    "s1 = select([u.c.univ_name, l.c.surname])\n",
    "s1 = s1.join_from(u, l)\n",
    "\n",
    "s2 = select([u.c.univ_name, text(\"'Преподавателей нет'\")])\n",
    "s2 = s2.join_from(u, l, isouter=True)\n",
    "s2 = s2.where(l.c.surname == None)\n",
    "\n",
    "stmt = union(s1, s2)\n",
    "\n",
    "result = conn.execute(stmt).fetchall()\n",
    "print(len(result))\n",
    "result"
   ]
  },
  {
   "cell_type": "code",
   "execution_count": 59,
   "outputs": [
    {
     "name": "stdout",
     "output_type": "stream",
     "text": [
      "94\n"
     ]
    },
    {
     "data": {
      "text/plain": "[('Агафонов', 0),\n ('Аксенов', 0),\n ('Антонов', 3),\n ('Архипов', 0),\n ('Афанасьева', 1),\n ('Баранов', 0),\n ('Белкин', None),\n ('Белкин', 5),\n ('Бирюков', 0),\n ('Блохина', 5),\n ('Борисова', 5),\n ('Валерия', 0),\n ('Васильев', 3),\n ('Васильев', 5),\n ('Васильева', 0),\n ('Веселов', 2),\n ('Вишнякова', 1),\n ('Владимиров', 0),\n ('Воронова', 0),\n ('Вячеслав', 2),\n ('Гуляев', 0),\n ('Гуляева', 0),\n ('Дуб', 0),\n ('Ершов', 0),\n ('Ефимов', 0),\n ('Жданова', 5),\n ('Жук', 4),\n ('Жуков', 1),\n ('Жукова', 0),\n ('Жуковский', 0),\n ('Журавлев', 0),\n ('Журавлева', 0),\n ('Зайцева', 2),\n ('Зайцева', 5),\n ('Захаров', 0),\n ('Иванов', 1),\n ('Иванова', 0),\n ('Игнатова', 0),\n ('Казакова', 0),\n ('Казакова', 1),\n ('Казакова', 4),\n ('Калашников', 2),\n ('Киселев', 0),\n ('Ковалев', 0),\n ('Комаров', 0),\n ('Кондрат', 3),\n ('Кондратьев', 0),\n ('Костина', 4),\n ('Котов', 4),\n ('Кудряшов', 0),\n ('Кудряшова', 0),\n ('Кузнецов', 5),\n ('Кулаков', 0),\n ('Лазарев', 4),\n ('Лапина', 5),\n ('Лукин', 4),\n ('Мельникова', 2),\n ('Мельникова', 3),\n ('Мельникова', 4),\n ('Мельникова', 5),\n ('Миронова', 0),\n ('Мишина', 1),\n ('Морозов', 0),\n ('Назаров', 0),\n ('Некрасова', 0),\n ('Одинцова', 1),\n ('Ордуханян', 2),\n ('Павлов', 0),\n ('Пак', 3),\n ('Пак', 4),\n ('Пак', 5),\n ('Панов', 0),\n ('Петров', 0),\n ('Петрова', 3),\n ('Пономарев', 0),\n ('Пономарева', 0),\n ('Рожкова', 0),\n ('Русаков', 0),\n ('Семенова', 4),\n ('Сергеева', 1),\n ('Сидоров', 4),\n ('Симонов', 0),\n ('Ситников', 0),\n ('Соколова', 0),\n ('Сорокина', 0),\n ('Сорокина', 1),\n ('Суханов', 1),\n ('Тимофеева', 0),\n ('Трофимов', 2),\n ('Федоров', 1),\n ('Фролова', 0),\n ('Ширяев', 0),\n ('Шубина', 0),\n ('Юдин', 0)]"
     },
     "execution_count": 59,
     "metadata": {},
     "output_type": "execute_result"
    }
   ],
   "source": [
    "\"\"\"\n",
    "10. Выведите полный список студентов вместе с оценками, полученными ими на экзаменах.\n",
    "Для студентов, не сдававших экзамены, в поле оценки поместите 0.\n",
    "\"\"\"\n",
    "\n",
    "s1 = select([st.c.surname, em.c.mark])\n",
    "s1 = s1.join_from(st, em)\n",
    "\n",
    "s2 = select([st.c.surname, 0])\n",
    "s2 = s2.join_from(st, em, isouter=True)\n",
    "s2 = s2.where(em.c.student_id == None)\n",
    "\n",
    "stmt = union(s1, s2)\n",
    "\n",
    "result = conn.execute(stmt).fetchall()\n",
    "print(len(result))\n",
    "result\n"
   ],
   "metadata": {
    "collapsed": false,
    "pycharm": {
     "name": "#%%\n"
    }
   }
  }
 ],
 "metadata": {
  "kernelspec": {
   "display_name": "Python 3",
   "language": "python",
   "name": "python3"
  },
  "language_info": {
   "codemirror_mode": {
    "name": "ipython",
    "version": 3
   },
   "file_extension": ".py",
   "mimetype": "text/x-python",
   "name": "python",
   "nbconvert_exporter": "python",
   "pygments_lexer": "ipython3",
   "version": "3.8.3"
  }
 },
 "nbformat": 4,
 "nbformat_minor": 5
}