{
 "cells": [
  {
   "cell_type": "markdown",
   "id": "31963a08",
   "metadata": {
    "pycharm": {
     "name": "#%% md\n"
    }
   },
   "source": [
    "<img src=\"../Img/Python_SQL_PI.png\" style=\"width:100%\">\n",
    "\n",
    "\n",
    "<p style=\"font-size:22px;text-align:center\">Семинар 5.1. Соединение таблиц. Оператор JOIN</p> \n",
    "\n",
    "<a id = Home></a>\n",
    "\n",
    "**11 апреля 2022 года, пн**<br>\n",
    "10:10 - 11:40<br>\n",
    "Щ38/509(кк) (ул. Щербаковская, 38)<br>\n",
    "ПИ20-1, ПИ20-2, ПИ20-3, ПИ20-4, ПИ20-5, ПИ20-6 (4 подгруппа)<br>\n",
    "\n",
    "11:50 - 13:20<br>\n",
    "Щ38/509(кк) (ул. Щербаковская, 38)<br>\n",
    "Поток:ПИ20-1, ПИ20-2, ПИ20-3, ПИ20-4, ПИ20-5, ПИ20-6 (3 подгруппа)\n",
    "\n",
    "\n",
    "**14 апреля 2022 года, чт**<br>\n",
    "17:20 - 18:50<br>\n",
    "В4/3411(кк) (4-й Вешняковский проезд, 4)<br>\n",
    "ПИ20-1, ПИ20-2, ПИ20-3, ПИ20-4, ПИ20-5, ПИ20-6 (2 подгруппа)<br>\n",
    "\n",
    "\n",
    "**21 апреля 2022 года, чт**<br>\n",
    "18:55 - 20:25<br>\n",
    "В4/3411(кк) (4-й Вешняковский проезд, 4)<br>\n",
    "ПИ20-1, ПИ20-2, ПИ20-3, ПИ20-4, ПИ20-5, ПИ20-6 (1 подгруппа)<br>"
   ]
  },
  {
   "cell_type": "markdown",
   "id": "20042f4c",
   "metadata": {
    "pycharm": {
     "name": "#%% md\n"
    }
   },
   "source": [
    "<p style=\"font-size:22px;text-align:center\">Семинар 5.2. Соединение таблиц. Оператор JOIN</p>\n",
    "\n",
    "**14 апреля 2022 года, чт**<br>\n",
    "18:55 - 20:25<br>\n",
    "В4/3411(кк) (4-й Вешняковский проезд, 4)<br>\n",
    "ПИ20-1, ПИ20-2, ПИ20-3, ПИ20-4, ПИ20-5, ПИ20-6 (2 подгруппа)<br>\n",
    "\n",
    "**18 апреля 2022 года, пн**<br>\n",
    "10:10 - 11:40<br>\n",
    "Щ38/509(кк) (ул. Щербаковская, 38)<br>\n",
    "ПИ20-1, ПИ20-2, ПИ20-3, ПИ20-4, ПИ20-5, ПИ20-6 (3 подгруппа)<br>\n",
    "\n",
    "11:50 - 13:20<br>\n",
    "Щ38/509(кк) (ул. Щербаковская, 38)<br>\n",
    "Поток:ПИ20-1, ПИ20-2, ПИ20-3, ПИ20-4, ПИ20-5, ПИ20-6 (4 подгруппа)<br>\n",
    "\n",
    "**28 апреля 2022 года, чт**<br>\n",
    "17:20 - 18:50<br>\n",
    "В4/3411(кк) (4-й Вешняковский проезд, 4)<br>\n",
    "ПИ20-1, ПИ20-2, ПИ20-3, ПИ20-4, ПИ20-5, ПИ20-6 (1 подгруппа)<br>"
   ]
  },
  {
   "cell_type": "markdown",
   "id": "f6575b35",
   "metadata": {
    "pycharm": {
     "name": "#%% md\n"
    }
   },
   "source": [
    "\n",
    "```\n",
    "STUDENT\n",
    "STUDENT_ID — числовой код, идентифицирующий студента (идентификатор студента),\n",
    "SURNAME — фамилия студента,\n",
    "NAME — имя студента,\n",
    "STIPEND — стипендия, которую получает студент,\n",
    "KURS — курс, на котором учится студент,\n",
    "CITY — город, в котором живет студент,\n",
    "BIRTHDAY — дата рождения студента,\n",
    "UNIV_ID — идентификатор университета, в котором учится студент.\n",
    "\n",
    "\n",
    "LECTURER\n",
    "LECTURER_ID — идентификатор преподавателя,\n",
    "SURNAME — фамилия преподавателя,\n",
    "NAME — имя преподавателя,\n",
    "CITY — город, в котором живет преподаватель,\n",
    "UNIV_ID — идентификатор университета, в котором работает преподаватель\n",
    "\n",
    "\n",
    "SUBJECT\n",
    "SUBJ_ID — идентификатор предмета обучения,\n",
    "SUBJ_NAME — наименование предмета обучения,\n",
    "HOUR — количество часов, отводимых на изучение предмета,\n",
    "SEMESTER — семестр, в котором изучается данный предмет.\n",
    "\n",
    "\n",
    "UNIVERSITY\n",
    "UNIV_ID — идентификатор университета,\n",
    "UNIV_NAME — название университета,\n",
    "RATING — рейтинг университета,\n",
    "CITY — город, в котором расположен университет.\n",
    "\n",
    "\n",
    "EXAM_MARKS\n",
    "EXAM_ID — идентификатор экзамена,\n",
    "STUDENT_ID — идентификатор студента,\n",
    "SUBJ_ID — идентификатор предмета обучения,\n",
    "MARK — экзаменационная оценка,\n",
    "EXAM_DATE — дата экзамена.\n",
    "\n",
    "\n",
    "SUBJ_LECT\n",
    "LECTURER_ID — идентификатор преподавателя,\n",
    "SUBJ_ID — идентификатор предмета обучения.\n",
    "```\n",
    "\n",
    "<img src=\"../Img/Students_Schema.png\" style=\"width:60%\">"
   ]
  },
  {
   "cell_type": "code",
   "execution_count": 2,
   "id": "b43644d8",
   "metadata": {
    "pycharm": {
     "name": "#%%\n"
    }
   },
   "outputs": [],
   "source": [
    "#! pip install sqlalchemy"
   ]
  },
  {
   "cell_type": "code",
   "execution_count": 1,
   "id": "37e97907",
   "metadata": {
    "pycharm": {
     "name": "#%%\n"
    }
   },
   "outputs": [],
   "source": [
    "from sqlalchemy import MetaData, Table, create_engine, select, and_, or_, not_, text\n",
    "from sqlalchemy.sql import func, distinct, exists"
   ]
  },
  {
   "cell_type": "code",
   "execution_count": 2,
   "id": "eb4393e8",
   "metadata": {
    "pycharm": {
     "name": "#%%\n"
    }
   },
   "outputs": [],
   "source": [
    "engine = create_engine('sqlite:///../Data/Students.db')\n",
    "metadata_obj = MetaData()  # Объект-контейнер, содержит информацию о схеме данных\n",
    "metadata_obj.reflect(bind=engine)  # Отображение БД"
   ]
  },
  {
   "cell_type": "markdown",
   "id": "3797f17f",
   "metadata": {
    "pycharm": {
     "name": "#%% md\n"
    }
   },
   "source": [
    "Создание объектов таблиц"
   ]
  },
  {
   "cell_type": "code",
   "execution_count": 3,
   "id": "6e812caf",
   "metadata": {
    "pycharm": {
     "name": "#%%\n"
    }
   },
   "outputs": [],
   "source": [
    "exam_marks = Table(\"exam_marks\", metadata_obj, autoload=True, autoload_with=\"engine\")\n",
    "lecturer = Table(\"lecturer\", metadata_obj, autoload=True, autoload_with=\"engine\")\n",
    "student = Table(\"student\", metadata_obj, autoload=True, autoload_with=\"engine\")\n",
    "subj_lect = Table(\"subj_lect\", metadata_obj, autoload=True, autoload_with=\"engine\")\n",
    "subject = Table(\"subject\", metadata_obj, autoload=True, autoload_with=\"engine\")\n",
    "university = Table(\"university\", metadata_obj, autolad=True, autolad_with=\"engine\")"
   ]
  },
  {
   "cell_type": "code",
   "execution_count": 4,
   "id": "5e0c68fe",
   "metadata": {
    "pycharm": {
     "name": "#%%\n"
    }
   },
   "outputs": [],
   "source": [
    "conn = engine.connect()  # Соединение"
   ]
  },
  {
   "cell_type": "markdown",
   "id": "fb742d9f",
   "metadata": {
    "pycharm": {
     "name": "#%% md\n"
    }
   },
   "source": [
    "<img src=../Img/pencil.png style=\"width:190px;height:190px\">\n",
    "<p style=\"background-color:powderblue; font-size:125%; color: rebeccapurple;\">Выполните задания</p>\n",
    "<p>Выполните задания с помощью соедиинения таблиц в Jupyter Notebook </p>\n",
    "\n",
    "1. Покажите названия университетов с указанием количества студентов, обучающихся на каждом курсе.\n",
    "\n",
    "2. Покажите фамилии, имена преподавателей и названия предметов, которые они преподают. Отсортировать по фамилии преподавателя.\n",
    "\n",
    "3. Покажите суммарное количество часов каждого преподавателя в каждом семестре. Результат должен содержать фамилию, имя преподавателя, номер семестра, число часов.\n",
    "\n",
    "4. Составьте список названий университетов вместе с названиями преподаваемых в них предметов.\n",
    "\n",
    "5. Составьте список названий университетов с указанием суммарного количества аудиторных часов в каждом семестре.\n",
    "\n",
    "6. Сформируйте список преподавателей с указанием суммарного количества часов, отведенных для обучения каждому из предметов.\n",
    "\n",
    "7. Напишите запрос для сортировки списка названий университетов по значениям максимальной стипендии, выплачиваемой студентам.\n",
    "\n",
    "8. Напишите запрос для получения списка названий университетов вместе с фамилиями и именами самых молодых студентов, обучаемых в них.\n",
    "\n",
    "9. Сформируйте список фамилий и имён студентов вместе с названиями предметов и оценками, полученными по каждому предмету на экзаменах. Отсортируйте результат по названию предмета.\n",
    "\n",
    "10. Напишите запрос для получения списка названий предметов вместе с фамилиями и именами студентов, получивших по данному предмету максимальную оценку. Результат отсортируйте по названию приедмета и по оценке.\n",
    "\n",
    "11. Напишите запрос для получения списка предметов вместе с фамилиями студентов, сдававших экзамен по данному предмету последними. Результат упорядочить по дате.\n",
    "\n",
    "12. Напишите запрос для получения списка предметов вместе с фамилиями студентов, первыми сдавших (оценка больше двух) экзамен по данному предмету.\n",
    "\n",
    "13. Напишите запрос для получения списка преподавателей, преподающих более одного предмета. Отсортируйте результат по фамилии преподавателя.\n",
    "\n",
    "14. Напишите запрос для получения списка (без повторов) студентов, сдававших экзамены по какому-либо из предметов более одного раза. Результат должен содержать идентификатор, фамилию, имя студента, название предмета. Результат необходимо упорядочить по идентификатору студента.\n",
    "\n",
    "15. Напишите запрос для получения списка названий университетов вместе с фамилиями студентов, получивших хотя бы одну неудовлетворительную оценку. Результат отсортируйте по названию университета.\n",
    "\n",
    "16. Напишите запрос, выполняющий вывод данных о предметах обучения, которые преподает Колесников. Распечатайте фамилию преподавателя и все столбцы таблицы предметов. результат отсортируйте по названию предмета.\n",
    "\n",
    "17. Напишите запрос, выполняющий вывод идентификаторов, имен и фамилий преподавателей, проводящих занятия в двух и более семестрах. Отсортируйте результат по фамилии преподавателя.\n",
    "\n",
    "18. Напишите запрос, выполняющий вывод количества часов занятий, проводимых преподавателем Лагутиным. Результат должен содержать одно число - количество часов.\n",
    "\n",
    "19. Напишите запрос, выполняющий вывод фамилий преподавателей, учебная нагрузка которых (количество учебных часов) превышает нагрузку преподавателя Лагутина. Список преподавателей отсортируйте по возрастанию.\n",
    "\n",
    "20. Напишите запрос, выполняющий вывод фамилий и имён преподавателей университетов с рейтингом, меньшим 350. Распечатайте фамилию, имя преподавателя, название университета. Отсортируйте по фамили преподавателя.\n",
    "\n",
    "21. Напишите запрос, выполняющий вывод общего количества учебных часов занятий, проводимых для студентов первого курса ВГУ.\n",
    "\n",
    "22. Напишите запрос, выполняющий вывод среднего количества учебных часов предметов обучения, преподаваемых студентам второго курса ВГУ.\n",
    "\n",
    "23. Напишите запрос, выполняющий вывод списка фамилий студентов, имеющих две или более отличных оценок в каждом семестре.\n",
    "\n",
    "24. Приведите как можно больше формулировок запроса “Получить фамилии студентов, сдававших экзамен по информатике”.\n",
    "\n",
    "25. Приведите как можно больше формулировок запроса “Получить фамилии преподавателей, преподающих информатику\"."
   ]
  },
  {
   "cell_type": "markdown",
   "id": "5002382e",
   "metadata": {
    "pycharm": {
     "name": "#%% md\n"
    }
   },
   "source": [
    "# Решение"
   ]
  },
  {
   "cell_type": "code",
   "execution_count": 9,
   "outputs": [
    {
     "ename": "ArgumentError",
     "evalue": "FROM expression expected",
     "output_type": "error",
     "traceback": [
      "\u001B[0;31m---------------------------------------------------------------------------\u001B[0m",
      "\u001B[0;31mAttributeError\u001B[0m                            Traceback (most recent call last)",
      "File \u001B[0;32m~/opt/anaconda3/lib/python3.8/site-packages/sqlalchemy/sql/elements.py:747\u001B[0m, in \u001B[0;36mColumnElement.__getattr__\u001B[0;34m(self, key)\u001B[0m\n\u001B[1;32m    746\u001B[0m \u001B[38;5;28;01mtry\u001B[39;00m:\n\u001B[0;32m--> 747\u001B[0m     \u001B[38;5;28;01mreturn\u001B[39;00m \u001B[38;5;28;43mgetattr\u001B[39;49m\u001B[43m(\u001B[49m\u001B[38;5;28;43mself\u001B[39;49m\u001B[38;5;241;43m.\u001B[39;49m\u001B[43mcomparator\u001B[49m\u001B[43m,\u001B[49m\u001B[43m \u001B[49m\u001B[43mkey\u001B[49m\u001B[43m)\u001B[49m\n\u001B[1;32m    748\u001B[0m \u001B[38;5;28;01mexcept\u001B[39;00m \u001B[38;5;167;01mAttributeError\u001B[39;00m \u001B[38;5;28;01mas\u001B[39;00m err:\n",
      "\u001B[0;31mAttributeError\u001B[0m: 'Comparator' object has no attribute 'selectable'",
      "\nThe above exception was the direct cause of the following exception:\n",
      "\u001B[0;31mAttributeError\u001B[0m                            Traceback (most recent call last)",
      "File \u001B[0;32m~/opt/anaconda3/lib/python3.8/site-packages/sqlalchemy/sql/selectable.py:62\u001B[0m, in \u001B[0;36m_interpret_as_from\u001B[0;34m(element)\u001B[0m\n\u001B[1;32m     61\u001B[0m \u001B[38;5;28;01mtry\u001B[39;00m:\n\u001B[0;32m---> 62\u001B[0m     \u001B[38;5;28;01mreturn\u001B[39;00m \u001B[43minsp\u001B[49m\u001B[38;5;241;43m.\u001B[39;49m\u001B[43mselectable\u001B[49m\n\u001B[1;32m     63\u001B[0m \u001B[38;5;28;01mexcept\u001B[39;00m \u001B[38;5;167;01mAttributeError\u001B[39;00m \u001B[38;5;28;01mas\u001B[39;00m err:\n",
      "File \u001B[0;32m~/opt/anaconda3/lib/python3.8/site-packages/sqlalchemy/sql/elements.py:749\u001B[0m, in \u001B[0;36mColumnElement.__getattr__\u001B[0;34m(self, key)\u001B[0m\n\u001B[1;32m    748\u001B[0m \u001B[38;5;28;01mexcept\u001B[39;00m \u001B[38;5;167;01mAttributeError\u001B[39;00m \u001B[38;5;28;01mas\u001B[39;00m err:\n\u001B[0;32m--> 749\u001B[0m     \u001B[43mutil\u001B[49m\u001B[38;5;241;43m.\u001B[39;49m\u001B[43mraise_\u001B[49m\u001B[43m(\u001B[49m\n\u001B[1;32m    750\u001B[0m \u001B[43m        \u001B[49m\u001B[38;5;167;43;01mAttributeError\u001B[39;49;00m\u001B[43m(\u001B[49m\n\u001B[1;32m    751\u001B[0m \u001B[43m            \u001B[49m\u001B[38;5;124;43m\"\u001B[39;49m\u001B[38;5;124;43mNeither \u001B[39;49m\u001B[38;5;132;43;01m%r\u001B[39;49;00m\u001B[38;5;124;43m object nor \u001B[39;49m\u001B[38;5;132;43;01m%r\u001B[39;49;00m\u001B[38;5;124;43m object has an attribute \u001B[39;49m\u001B[38;5;132;43;01m%r\u001B[39;49;00m\u001B[38;5;124;43m\"\u001B[39;49m\n\u001B[1;32m    752\u001B[0m \u001B[43m            \u001B[49m\u001B[38;5;241;43m%\u001B[39;49m\u001B[43m \u001B[49m\u001B[43m(\u001B[49m\n\u001B[1;32m    753\u001B[0m \u001B[43m                \u001B[49m\u001B[38;5;28;43mtype\u001B[39;49m\u001B[43m(\u001B[49m\u001B[38;5;28;43mself\u001B[39;49m\u001B[43m)\u001B[49m\u001B[38;5;241;43m.\u001B[39;49m\u001B[38;5;18;43m__name__\u001B[39;49m\u001B[43m,\u001B[49m\n\u001B[1;32m    754\u001B[0m \u001B[43m                \u001B[49m\u001B[38;5;28;43mtype\u001B[39;49m\u001B[43m(\u001B[49m\u001B[38;5;28;43mself\u001B[39;49m\u001B[38;5;241;43m.\u001B[39;49m\u001B[43mcomparator\u001B[49m\u001B[43m)\u001B[49m\u001B[38;5;241;43m.\u001B[39;49m\u001B[38;5;18;43m__name__\u001B[39;49m\u001B[43m,\u001B[49m\n\u001B[1;32m    755\u001B[0m \u001B[43m                \u001B[49m\u001B[43mkey\u001B[49m\u001B[43m,\u001B[49m\n\u001B[1;32m    756\u001B[0m \u001B[43m            \u001B[49m\u001B[43m)\u001B[49m\n\u001B[1;32m    757\u001B[0m \u001B[43m        \u001B[49m\u001B[43m)\u001B[49m\u001B[43m,\u001B[49m\n\u001B[1;32m    758\u001B[0m \u001B[43m        \u001B[49m\u001B[43mreplace_context\u001B[49m\u001B[38;5;241;43m=\u001B[39;49m\u001B[43merr\u001B[49m\u001B[43m,\u001B[49m\n\u001B[1;32m    759\u001B[0m \u001B[43m    \u001B[49m\u001B[43m)\u001B[49m\n",
      "File \u001B[0;32m~/opt/anaconda3/lib/python3.8/site-packages/sqlalchemy/util/compat.py:182\u001B[0m, in \u001B[0;36mraise_\u001B[0;34m(***failed resolving arguments***)\u001B[0m\n\u001B[1;32m    181\u001B[0m \u001B[38;5;28;01mtry\u001B[39;00m:\n\u001B[0;32m--> 182\u001B[0m     \u001B[38;5;28;01mraise\u001B[39;00m exception\n\u001B[1;32m    183\u001B[0m \u001B[38;5;28;01mfinally\u001B[39;00m:\n\u001B[1;32m    184\u001B[0m     \u001B[38;5;66;03m# credit to\u001B[39;00m\n\u001B[1;32m    185\u001B[0m     \u001B[38;5;66;03m# https://cosmicpercolator.com/2016/01/13/exception-leaks-in-python-2-and-3/\u001B[39;00m\n\u001B[1;32m    186\u001B[0m     \u001B[38;5;66;03m# as the __traceback__ object creates a cycle\u001B[39;00m\n",
      "\u001B[0;31mAttributeError\u001B[0m: Neither 'Column' object nor 'Comparator' object has an attribute 'selectable'",
      "\nThe above exception was the direct cause of the following exception:\n",
      "\u001B[0;31mArgumentError\u001B[0m                             Traceback (most recent call last)",
      "Input \u001B[0;32mIn [9]\u001B[0m, in \u001B[0;36m<cell line: 5>\u001B[0;34m()\u001B[0m\n\u001B[1;32m      1\u001B[0m \u001B[38;5;28;01mimport\u001B[39;00m \u001B[38;5;21;01mpandas\u001B[39;00m \u001B[38;5;28;01mas\u001B[39;00m \u001B[38;5;21;01mpd\u001B[39;00m\n\u001B[1;32m      3\u001B[0m \u001B[38;5;66;03m#6\u001B[39;00m\n\u001B[0;32m----> 5\u001B[0m s \u001B[38;5;241m=\u001B[39m \u001B[43mselect\u001B[49m\u001B[43m(\u001B[49m\u001B[43mlecturer\u001B[49m\u001B[38;5;241;43m.\u001B[39;49m\u001B[43mc\u001B[49m\u001B[38;5;241;43m.\u001B[39;49m\u001B[43msurname\u001B[49m\u001B[43m,\u001B[49m\u001B[43m \u001B[49m\u001B[43mlecturer\u001B[49m\u001B[38;5;241;43m.\u001B[39;49m\u001B[43mc\u001B[49m\u001B[38;5;241;43m.\u001B[39;49m\u001B[43mname\u001B[49m\u001B[43m,\u001B[49m\u001B[43m \u001B[49m\u001B[43msubject\u001B[49m\u001B[38;5;241;43m.\u001B[39;49m\u001B[43mc\u001B[49m\u001B[38;5;241;43m.\u001B[39;49m\u001B[43msubj_name\u001B[49m\u001B[43m,\u001B[49m\u001B[43m \u001B[49m\u001B[43msubject\u001B[49m\u001B[38;5;241;43m.\u001B[39;49m\u001B[43mc\u001B[49m\u001B[38;5;241;43m.\u001B[39;49m\u001B[43mhour\u001B[49m\u001B[43m)\u001B[49m\n\u001B[1;32m      7\u001B[0m s \u001B[38;5;241m=\u001B[39m s\u001B[38;5;241m.\u001B[39mjoin(subj_lect, subj_lect\u001B[38;5;241m.\u001B[39mc\u001B[38;5;241m.\u001B[39mlecturer_id\u001B[38;5;241m==\u001B[39mlecturer\u001B[38;5;241m.\u001B[39mc\u001B[38;5;241m.\u001B[39mlecturer_id)\n\u001B[1;32m      9\u001B[0m s \u001B[38;5;241m=\u001B[39m s\u001B[38;5;241m.\u001B[39mjoin(subject, subj_lect\u001B[38;5;241m.\u001B[39mc\u001B[38;5;241m.\u001B[39msubj_id\u001B[38;5;241m==\u001B[39msubject\u001B[38;5;241m.\u001B[39mc\u001B[38;5;241m.\u001B[39msubj_id)\n",
      "File \u001B[0;32m<string>:2\u001B[0m, in \u001B[0;36mselect\u001B[0;34m(columns, whereclause, from_obj, distinct, having, correlate, prefixes, suffixes, **kwargs)\u001B[0m\n",
      "File \u001B[0;32m<string>:2\u001B[0m, in \u001B[0;36m__init__\u001B[0;34m(self, columns, whereclause, from_obj, distinct, having, correlate, prefixes, suffixes, **kwargs)\u001B[0m\n",
      "File \u001B[0;32m~/opt/anaconda3/lib/python3.8/site-packages/sqlalchemy/util/deprecations.py:139\u001B[0m, in \u001B[0;36mdeprecated_params.<locals>.decorate.<locals>.warned\u001B[0;34m(fn, *args, **kwargs)\u001B[0m\n\u001B[1;32m    134\u001B[0m     \u001B[38;5;28;01mif\u001B[39;00m m \u001B[38;5;129;01min\u001B[39;00m kwargs:\n\u001B[1;32m    135\u001B[0m         warnings\u001B[38;5;241m.\u001B[39mwarn(\n\u001B[1;32m    136\u001B[0m             messages[m], exc\u001B[38;5;241m.\u001B[39mSADeprecationWarning, stacklevel\u001B[38;5;241m=\u001B[39m\u001B[38;5;241m3\u001B[39m\n\u001B[1;32m    137\u001B[0m         )\n\u001B[0;32m--> 139\u001B[0m \u001B[38;5;28;01mreturn\u001B[39;00m \u001B[43mfn\u001B[49m\u001B[43m(\u001B[49m\u001B[38;5;241;43m*\u001B[39;49m\u001B[43margs\u001B[49m\u001B[43m,\u001B[49m\u001B[43m \u001B[49m\u001B[38;5;241;43m*\u001B[39;49m\u001B[38;5;241;43m*\u001B[39;49m\u001B[43mkwargs\u001B[49m\u001B[43m)\u001B[49m\n",
      "File \u001B[0;32m~/opt/anaconda3/lib/python3.8/site-packages/sqlalchemy/sql/selectable.py:3095\u001B[0m, in \u001B[0;36mSelect.__init__\u001B[0;34m(self, columns, whereclause, from_obj, distinct, having, correlate, prefixes, suffixes, **kwargs)\u001B[0m\n\u001B[1;32m   3089\u001B[0m         \u001B[38;5;28mself\u001B[39m\u001B[38;5;241m.\u001B[39m_distinct \u001B[38;5;241m=\u001B[39m [\n\u001B[1;32m   3090\u001B[0m             _literal_as_label_reference(e)\n\u001B[1;32m   3091\u001B[0m             \u001B[38;5;28;01mfor\u001B[39;00m e \u001B[38;5;129;01min\u001B[39;00m util\u001B[38;5;241m.\u001B[39mto_list(distinct)\n\u001B[1;32m   3092\u001B[0m         ]\n\u001B[1;32m   3094\u001B[0m \u001B[38;5;28;01mif\u001B[39;00m from_obj \u001B[38;5;129;01mis\u001B[39;00m \u001B[38;5;129;01mnot\u001B[39;00m \u001B[38;5;28;01mNone\u001B[39;00m:\n\u001B[0;32m-> 3095\u001B[0m     \u001B[38;5;28mself\u001B[39m\u001B[38;5;241m.\u001B[39m_from_obj \u001B[38;5;241m=\u001B[39m \u001B[43mutil\u001B[49m\u001B[38;5;241;43m.\u001B[39;49m\u001B[43mOrderedSet\u001B[49m\u001B[43m(\u001B[49m\n\u001B[1;32m   3096\u001B[0m \u001B[43m        \u001B[49m\u001B[43m_interpret_as_from\u001B[49m\u001B[43m(\u001B[49m\u001B[43mf\u001B[49m\u001B[43m)\u001B[49m\u001B[43m \u001B[49m\u001B[38;5;28;43;01mfor\u001B[39;49;00m\u001B[43m \u001B[49m\u001B[43mf\u001B[49m\u001B[43m \u001B[49m\u001B[38;5;129;43;01min\u001B[39;49;00m\u001B[43m \u001B[49m\u001B[43mutil\u001B[49m\u001B[38;5;241;43m.\u001B[39;49m\u001B[43mto_list\u001B[49m\u001B[43m(\u001B[49m\u001B[43mfrom_obj\u001B[49m\u001B[43m)\u001B[49m\n\u001B[1;32m   3097\u001B[0m \u001B[43m    \u001B[49m\u001B[43m)\u001B[49m\n\u001B[1;32m   3098\u001B[0m \u001B[38;5;28;01melse\u001B[39;00m:\n\u001B[1;32m   3099\u001B[0m     \u001B[38;5;28mself\u001B[39m\u001B[38;5;241m.\u001B[39m_from_obj \u001B[38;5;241m=\u001B[39m util\u001B[38;5;241m.\u001B[39mOrderedSet()\n",
      "File \u001B[0;32m~/opt/anaconda3/lib/python3.8/site-packages/sqlalchemy/util/_collections.py:365\u001B[0m, in \u001B[0;36mOrderedSet.__init__\u001B[0;34m(self, d)\u001B[0m\n\u001B[1;32m    363\u001B[0m \u001B[38;5;28mself\u001B[39m\u001B[38;5;241m.\u001B[39m_list \u001B[38;5;241m=\u001B[39m []\n\u001B[1;32m    364\u001B[0m \u001B[38;5;28;01mif\u001B[39;00m d \u001B[38;5;129;01mis\u001B[39;00m \u001B[38;5;129;01mnot\u001B[39;00m \u001B[38;5;28;01mNone\u001B[39;00m:\n\u001B[0;32m--> 365\u001B[0m     \u001B[38;5;28mself\u001B[39m\u001B[38;5;241m.\u001B[39m_list \u001B[38;5;241m=\u001B[39m \u001B[43munique_list\u001B[49m\u001B[43m(\u001B[49m\u001B[43md\u001B[49m\u001B[43m)\u001B[49m\n\u001B[1;32m    366\u001B[0m     \u001B[38;5;28mset\u001B[39m\u001B[38;5;241m.\u001B[39mupdate(\u001B[38;5;28mself\u001B[39m, \u001B[38;5;28mself\u001B[39m\u001B[38;5;241m.\u001B[39m_list)\n\u001B[1;32m    367\u001B[0m \u001B[38;5;28;01melse\u001B[39;00m:\n",
      "File \u001B[0;32m~/opt/anaconda3/lib/python3.8/site-packages/sqlalchemy/util/_collections.py:769\u001B[0m, in \u001B[0;36munique_list\u001B[0;34m(seq, hashfunc)\u001B[0m\n\u001B[1;32m    767\u001B[0m seen_add \u001B[38;5;241m=\u001B[39m seen\u001B[38;5;241m.\u001B[39madd\n\u001B[1;32m    768\u001B[0m \u001B[38;5;28;01mif\u001B[39;00m \u001B[38;5;129;01mnot\u001B[39;00m hashfunc:\n\u001B[0;32m--> 769\u001B[0m     \u001B[38;5;28;01mreturn\u001B[39;00m [x \u001B[38;5;28;01mfor\u001B[39;00m x \u001B[38;5;129;01min\u001B[39;00m seq \u001B[38;5;28;01mif\u001B[39;00m x \u001B[38;5;129;01mnot\u001B[39;00m \u001B[38;5;129;01min\u001B[39;00m seen \u001B[38;5;129;01mand\u001B[39;00m \u001B[38;5;129;01mnot\u001B[39;00m seen_add(x)]\n\u001B[1;32m    770\u001B[0m \u001B[38;5;28;01melse\u001B[39;00m:\n\u001B[1;32m    771\u001B[0m     \u001B[38;5;28;01mreturn\u001B[39;00m [\n\u001B[1;32m    772\u001B[0m         x\n\u001B[1;32m    773\u001B[0m         \u001B[38;5;28;01mfor\u001B[39;00m x \u001B[38;5;129;01min\u001B[39;00m seq\n\u001B[1;32m    774\u001B[0m         \u001B[38;5;28;01mif\u001B[39;00m hashfunc(x) \u001B[38;5;129;01mnot\u001B[39;00m \u001B[38;5;129;01min\u001B[39;00m seen \u001B[38;5;129;01mand\u001B[39;00m \u001B[38;5;129;01mnot\u001B[39;00m seen_add(hashfunc(x))\n\u001B[1;32m    775\u001B[0m     ]\n",
      "File \u001B[0;32m~/opt/anaconda3/lib/python3.8/site-packages/sqlalchemy/util/_collections.py:769\u001B[0m, in \u001B[0;36m<listcomp>\u001B[0;34m(.0)\u001B[0m\n\u001B[1;32m    767\u001B[0m seen_add \u001B[38;5;241m=\u001B[39m seen\u001B[38;5;241m.\u001B[39madd\n\u001B[1;32m    768\u001B[0m \u001B[38;5;28;01mif\u001B[39;00m \u001B[38;5;129;01mnot\u001B[39;00m hashfunc:\n\u001B[0;32m--> 769\u001B[0m     \u001B[38;5;28;01mreturn\u001B[39;00m [x \u001B[38;5;28;01mfor\u001B[39;00m x \u001B[38;5;129;01min\u001B[39;00m seq \u001B[38;5;28;01mif\u001B[39;00m x \u001B[38;5;129;01mnot\u001B[39;00m \u001B[38;5;129;01min\u001B[39;00m seen \u001B[38;5;129;01mand\u001B[39;00m \u001B[38;5;129;01mnot\u001B[39;00m seen_add(x)]\n\u001B[1;32m    770\u001B[0m \u001B[38;5;28;01melse\u001B[39;00m:\n\u001B[1;32m    771\u001B[0m     \u001B[38;5;28;01mreturn\u001B[39;00m [\n\u001B[1;32m    772\u001B[0m         x\n\u001B[1;32m    773\u001B[0m         \u001B[38;5;28;01mfor\u001B[39;00m x \u001B[38;5;129;01min\u001B[39;00m seq\n\u001B[1;32m    774\u001B[0m         \u001B[38;5;28;01mif\u001B[39;00m hashfunc(x) \u001B[38;5;129;01mnot\u001B[39;00m \u001B[38;5;129;01min\u001B[39;00m seen \u001B[38;5;129;01mand\u001B[39;00m \u001B[38;5;129;01mnot\u001B[39;00m seen_add(hashfunc(x))\n\u001B[1;32m    775\u001B[0m     ]\n",
      "File \u001B[0;32m~/opt/anaconda3/lib/python3.8/site-packages/sqlalchemy/sql/selectable.py:3096\u001B[0m, in \u001B[0;36m<genexpr>\u001B[0;34m(.0)\u001B[0m\n\u001B[1;32m   3089\u001B[0m         \u001B[38;5;28mself\u001B[39m\u001B[38;5;241m.\u001B[39m_distinct \u001B[38;5;241m=\u001B[39m [\n\u001B[1;32m   3090\u001B[0m             _literal_as_label_reference(e)\n\u001B[1;32m   3091\u001B[0m             \u001B[38;5;28;01mfor\u001B[39;00m e \u001B[38;5;129;01min\u001B[39;00m util\u001B[38;5;241m.\u001B[39mto_list(distinct)\n\u001B[1;32m   3092\u001B[0m         ]\n\u001B[1;32m   3094\u001B[0m \u001B[38;5;28;01mif\u001B[39;00m from_obj \u001B[38;5;129;01mis\u001B[39;00m \u001B[38;5;129;01mnot\u001B[39;00m \u001B[38;5;28;01mNone\u001B[39;00m:\n\u001B[1;32m   3095\u001B[0m     \u001B[38;5;28mself\u001B[39m\u001B[38;5;241m.\u001B[39m_from_obj \u001B[38;5;241m=\u001B[39m util\u001B[38;5;241m.\u001B[39mOrderedSet(\n\u001B[0;32m-> 3096\u001B[0m         \u001B[43m_interpret_as_from\u001B[49m\u001B[43m(\u001B[49m\u001B[43mf\u001B[49m\u001B[43m)\u001B[49m \u001B[38;5;28;01mfor\u001B[39;00m f \u001B[38;5;129;01min\u001B[39;00m util\u001B[38;5;241m.\u001B[39mto_list(from_obj)\n\u001B[1;32m   3097\u001B[0m     )\n\u001B[1;32m   3098\u001B[0m \u001B[38;5;28;01melse\u001B[39;00m:\n\u001B[1;32m   3099\u001B[0m     \u001B[38;5;28mself\u001B[39m\u001B[38;5;241m.\u001B[39m_from_obj \u001B[38;5;241m=\u001B[39m util\u001B[38;5;241m.\u001B[39mOrderedSet()\n",
      "File \u001B[0;32m~/opt/anaconda3/lib/python3.8/site-packages/sqlalchemy/sql/selectable.py:64\u001B[0m, in \u001B[0;36m_interpret_as_from\u001B[0;34m(element)\u001B[0m\n\u001B[1;32m     62\u001B[0m     \u001B[38;5;28;01mreturn\u001B[39;00m insp\u001B[38;5;241m.\u001B[39mselectable\n\u001B[1;32m     63\u001B[0m \u001B[38;5;28;01mexcept\u001B[39;00m \u001B[38;5;167;01mAttributeError\u001B[39;00m \u001B[38;5;28;01mas\u001B[39;00m err:\n\u001B[0;32m---> 64\u001B[0m     \u001B[43mutil\u001B[49m\u001B[38;5;241;43m.\u001B[39;49m\u001B[43mraise_\u001B[49m\u001B[43m(\u001B[49m\n\u001B[1;32m     65\u001B[0m \u001B[43m        \u001B[49m\u001B[43mexc\u001B[49m\u001B[38;5;241;43m.\u001B[39;49m\u001B[43mArgumentError\u001B[49m\u001B[43m(\u001B[49m\u001B[38;5;124;43m\"\u001B[39;49m\u001B[38;5;124;43mFROM expression expected\u001B[39;49m\u001B[38;5;124;43m\"\u001B[39;49m\u001B[43m)\u001B[49m\u001B[43m,\u001B[49m\u001B[43m \u001B[49m\u001B[43mreplace_context\u001B[49m\u001B[38;5;241;43m=\u001B[39;49m\u001B[43merr\u001B[49m\n\u001B[1;32m     66\u001B[0m \u001B[43m    \u001B[49m\u001B[43m)\u001B[49m\n",
      "File \u001B[0;32m~/opt/anaconda3/lib/python3.8/site-packages/sqlalchemy/util/compat.py:182\u001B[0m, in \u001B[0;36mraise_\u001B[0;34m(***failed resolving arguments***)\u001B[0m\n\u001B[1;32m    179\u001B[0m     exception\u001B[38;5;241m.\u001B[39m__cause__ \u001B[38;5;241m=\u001B[39m replace_context\n\u001B[1;32m    181\u001B[0m \u001B[38;5;28;01mtry\u001B[39;00m:\n\u001B[0;32m--> 182\u001B[0m     \u001B[38;5;28;01mraise\u001B[39;00m exception\n\u001B[1;32m    183\u001B[0m \u001B[38;5;28;01mfinally\u001B[39;00m:\n\u001B[1;32m    184\u001B[0m     \u001B[38;5;66;03m# credit to\u001B[39;00m\n\u001B[1;32m    185\u001B[0m     \u001B[38;5;66;03m# https://cosmicpercolator.com/2016/01/13/exception-leaks-in-python-2-and-3/\u001B[39;00m\n\u001B[1;32m    186\u001B[0m     \u001B[38;5;66;03m# as the __traceback__ object creates a cycle\u001B[39;00m\n\u001B[1;32m    187\u001B[0m     \u001B[38;5;28;01mdel\u001B[39;00m exception, replace_context, from_, with_traceback\n",
      "\u001B[0;31mArgumentError\u001B[0m: FROM expression expected"
     ]
    }
   ],
   "source": [
    "import pandas as pd\n",
    "\n",
    "#6\n",
    "\n",
    "s = select(lecturer.c.surname, lecturer.c.name, subject.c.subj_name, subject.c.hour)\n",
    "s = s.join(subj_lect, subj_lect.c.lecturer_id == lecturer.c.lecturer_id)\n",
    "s = s.join(subject, subj_lect.c.subj_id == subject.c.subj_id)\n",
    "s = s.order_by(lecturer.c.surname)\n",
    "\n",
    "print(s)\n",
    "res = pd.read_sql(s, conn)\n",
    "print(res)"
   ],
   "metadata": {
    "collapsed": false,
    "pycharm": {
     "name": "#%%\n"
    }
   }
  },
  {
   "cell_type": "code",
   "execution_count": 18,
   "outputs": [
    {
     "ename": "NoForeignKeysError",
     "evalue": "Can't find any foreign key relationships between 'Select object' and 'exam_marks'.",
     "output_type": "error",
     "traceback": [
      "\u001B[0;31m---------------------------------------------------------------------------\u001B[0m",
      "\u001B[0;31mNoForeignKeysError\u001B[0m                        Traceback (most recent call last)",
      "Input \u001B[0;32mIn [18]\u001B[0m, in \u001B[0;36m<cell line: 9>\u001B[0;34m()\u001B[0m\n\u001B[1;32m      7\u001B[0m s \u001B[38;5;241m=\u001B[39m select([subject\u001B[38;5;241m.\u001B[39mc\u001B[38;5;241m.\u001B[39msubj_name, student\u001B[38;5;241m.\u001B[39mc\u001B[38;5;241m.\u001B[39msurname, student\u001B[38;5;241m.\u001B[39mc\u001B[38;5;241m.\u001B[39mname, exam_marks\u001B[38;5;241m.\u001B[39mc\u001B[38;5;241m.\u001B[39mmark])\n\u001B[1;32m      8\u001B[0m s \u001B[38;5;241m=\u001B[39m s\u001B[38;5;241m.\u001B[39mselect_from(student)\n\u001B[0;32m----> 9\u001B[0m s \u001B[38;5;241m=\u001B[39m \u001B[43ms\u001B[49m\u001B[38;5;241;43m.\u001B[39;49m\u001B[43mjoin\u001B[49m\u001B[43m(\u001B[49m\u001B[43mexam_marks\u001B[49m\u001B[43m)\u001B[49m\n\u001B[1;32m     10\u001B[0m s \u001B[38;5;241m=\u001B[39m s\u001B[38;5;241m.\u001B[39mjoin(subject)\n\u001B[1;32m     11\u001B[0m s \u001B[38;5;241m=\u001B[39m s\u001B[38;5;241m.\u001B[39mwhere(exam_marks\u001B[38;5;241m.\u001B[39mc\u001B[38;5;241m.\u001B[39mmark \u001B[38;5;241m==\u001B[39m subq)\n",
      "File \u001B[0;32m~/opt/anaconda3/lib/python3.8/site-packages/sqlalchemy/sql/selectable.py:385\u001B[0m, in \u001B[0;36mFromClause.join\u001B[0;34m(self, right, onclause, isouter, full)\u001B[0m\n\u001B[1;32m    341\u001B[0m \u001B[38;5;28;01mdef\u001B[39;00m \u001B[38;5;21mjoin\u001B[39m(\u001B[38;5;28mself\u001B[39m, right, onclause\u001B[38;5;241m=\u001B[39m\u001B[38;5;28;01mNone\u001B[39;00m, isouter\u001B[38;5;241m=\u001B[39m\u001B[38;5;28;01mFalse\u001B[39;00m, full\u001B[38;5;241m=\u001B[39m\u001B[38;5;28;01mFalse\u001B[39;00m):\n\u001B[1;32m    342\u001B[0m     \u001B[38;5;124;03m\"\"\"Return a :class:`_expression.Join` from this\u001B[39;00m\n\u001B[1;32m    343\u001B[0m \u001B[38;5;124;03m    :class:`_expression.FromClause` to another\u001B[39;00m\n\u001B[1;32m    344\u001B[0m \u001B[38;5;124;03m    :class:`_expression.FromClause`.\u001B[39;00m\n\u001B[0;32m   (...)\u001B[0m\n\u001B[1;32m    382\u001B[0m \n\u001B[1;32m    383\u001B[0m \u001B[38;5;124;03m    \"\"\"\u001B[39;00m\n\u001B[0;32m--> 385\u001B[0m     \u001B[38;5;28;01mreturn\u001B[39;00m \u001B[43mJoin\u001B[49m\u001B[43m(\u001B[49m\u001B[38;5;28;43mself\u001B[39;49m\u001B[43m,\u001B[49m\u001B[43m \u001B[49m\u001B[43mright\u001B[49m\u001B[43m,\u001B[49m\u001B[43m \u001B[49m\u001B[43monclause\u001B[49m\u001B[43m,\u001B[49m\u001B[43m \u001B[49m\u001B[43misouter\u001B[49m\u001B[43m,\u001B[49m\u001B[43m \u001B[49m\u001B[43mfull\u001B[49m\u001B[43m)\u001B[49m\n",
      "File \u001B[0;32m~/opt/anaconda3/lib/python3.8/site-packages/sqlalchemy/sql/selectable.py:765\u001B[0m, in \u001B[0;36mJoin.__init__\u001B[0;34m(self, left, right, onclause, isouter, full)\u001B[0m\n\u001B[1;32m    762\u001B[0m \u001B[38;5;28mself\u001B[39m\u001B[38;5;241m.\u001B[39mright \u001B[38;5;241m=\u001B[39m _interpret_as_from(right)\u001B[38;5;241m.\u001B[39mself_group()\n\u001B[1;32m    764\u001B[0m \u001B[38;5;28;01mif\u001B[39;00m onclause \u001B[38;5;129;01mis\u001B[39;00m \u001B[38;5;28;01mNone\u001B[39;00m:\n\u001B[0;32m--> 765\u001B[0m     \u001B[38;5;28mself\u001B[39m\u001B[38;5;241m.\u001B[39monclause \u001B[38;5;241m=\u001B[39m \u001B[38;5;28;43mself\u001B[39;49m\u001B[38;5;241;43m.\u001B[39;49m\u001B[43m_match_primaries\u001B[49m\u001B[43m(\u001B[49m\u001B[38;5;28;43mself\u001B[39;49m\u001B[38;5;241;43m.\u001B[39;49m\u001B[43mleft\u001B[49m\u001B[43m,\u001B[49m\u001B[43m \u001B[49m\u001B[38;5;28;43mself\u001B[39;49m\u001B[38;5;241;43m.\u001B[39;49m\u001B[43mright\u001B[49m\u001B[43m)\u001B[49m\n\u001B[1;32m    766\u001B[0m \u001B[38;5;28;01melse\u001B[39;00m:\n\u001B[1;32m    767\u001B[0m     \u001B[38;5;28mself\u001B[39m\u001B[38;5;241m.\u001B[39monclause \u001B[38;5;241m=\u001B[39m onclause\n",
      "File \u001B[0;32m~/opt/anaconda3/lib/python3.8/site-packages/sqlalchemy/sql/selectable.py:914\u001B[0m, in \u001B[0;36mJoin._match_primaries\u001B[0;34m(self, left, right)\u001B[0m\n\u001B[1;32m    912\u001B[0m \u001B[38;5;28;01melse\u001B[39;00m:\n\u001B[1;32m    913\u001B[0m     left_right \u001B[38;5;241m=\u001B[39m \u001B[38;5;28;01mNone\u001B[39;00m\n\u001B[0;32m--> 914\u001B[0m \u001B[38;5;28;01mreturn\u001B[39;00m \u001B[38;5;28;43mself\u001B[39;49m\u001B[38;5;241;43m.\u001B[39;49m\u001B[43m_join_condition\u001B[49m\u001B[43m(\u001B[49m\u001B[43mleft\u001B[49m\u001B[43m,\u001B[49m\u001B[43m \u001B[49m\u001B[43mright\u001B[49m\u001B[43m,\u001B[49m\u001B[43m \u001B[49m\u001B[43ma_subset\u001B[49m\u001B[38;5;241;43m=\u001B[39;49m\u001B[43mleft_right\u001B[49m\u001B[43m)\u001B[49m\n",
      "File \u001B[0;32m<string>:2\u001B[0m, in \u001B[0;36m_join_condition\u001B[0;34m(cls, a, b, ignore_nonexistent_tables, a_subset, consider_as_foreign_keys)\u001B[0m\n",
      "File \u001B[0;32m~/opt/anaconda3/lib/python3.8/site-packages/sqlalchemy/util/deprecations.py:139\u001B[0m, in \u001B[0;36mdeprecated_params.<locals>.decorate.<locals>.warned\u001B[0;34m(fn, *args, **kwargs)\u001B[0m\n\u001B[1;32m    134\u001B[0m     \u001B[38;5;28;01mif\u001B[39;00m m \u001B[38;5;129;01min\u001B[39;00m kwargs:\n\u001B[1;32m    135\u001B[0m         warnings\u001B[38;5;241m.\u001B[39mwarn(\n\u001B[1;32m    136\u001B[0m             messages[m], exc\u001B[38;5;241m.\u001B[39mSADeprecationWarning, stacklevel\u001B[38;5;241m=\u001B[39m\u001B[38;5;241m3\u001B[39m\n\u001B[1;32m    137\u001B[0m         )\n\u001B[0;32m--> 139\u001B[0m \u001B[38;5;28;01mreturn\u001B[39;00m \u001B[43mfn\u001B[49m\u001B[43m(\u001B[49m\u001B[38;5;241;43m*\u001B[39;49m\u001B[43margs\u001B[49m\u001B[43m,\u001B[49m\u001B[43m \u001B[49m\u001B[38;5;241;43m*\u001B[39;49m\u001B[38;5;241;43m*\u001B[39;49m\u001B[43mkwargs\u001B[49m\u001B[43m)\u001B[49m\n",
      "File \u001B[0;32m~/opt/anaconda3/lib/python3.8/site-packages/sqlalchemy/sql/selectable.py:976\u001B[0m, in \u001B[0;36mJoin._join_condition\u001B[0;34m(cls, a, b, ignore_nonexistent_tables, a_subset, consider_as_foreign_keys)\u001B[0m\n\u001B[1;32m    974\u001B[0m     \u001B[38;5;28;01melse\u001B[39;00m:\n\u001B[1;32m    975\u001B[0m         hint \u001B[38;5;241m=\u001B[39m \u001B[38;5;124m\"\u001B[39m\u001B[38;5;124m\"\u001B[39m\n\u001B[0;32m--> 976\u001B[0m     \u001B[38;5;28;01mraise\u001B[39;00m exc\u001B[38;5;241m.\u001B[39mNoForeignKeysError(\n\u001B[1;32m    977\u001B[0m         \u001B[38;5;124m\"\u001B[39m\u001B[38;5;124mCan\u001B[39m\u001B[38;5;124m'\u001B[39m\u001B[38;5;124mt find any foreign key relationships \u001B[39m\u001B[38;5;124m\"\u001B[39m\n\u001B[1;32m    978\u001B[0m         \u001B[38;5;124m\"\u001B[39m\u001B[38;5;124mbetween \u001B[39m\u001B[38;5;124m'\u001B[39m\u001B[38;5;132;01m%s\u001B[39;00m\u001B[38;5;124m'\u001B[39m\u001B[38;5;124m and \u001B[39m\u001B[38;5;124m'\u001B[39m\u001B[38;5;132;01m%s\u001B[39;00m\u001B[38;5;124m'\u001B[39m\u001B[38;5;124m.\u001B[39m\u001B[38;5;132;01m%s\u001B[39;00m\u001B[38;5;124m\"\u001B[39m\n\u001B[1;32m    979\u001B[0m         \u001B[38;5;241m%\u001B[39m (a\u001B[38;5;241m.\u001B[39mdescription, b\u001B[38;5;241m.\u001B[39mdescription, hint)\n\u001B[1;32m    980\u001B[0m     )\n\u001B[1;32m    982\u001B[0m crit \u001B[38;5;241m=\u001B[39m [(x \u001B[38;5;241m==\u001B[39m y) \u001B[38;5;28;01mfor\u001B[39;00m x, y \u001B[38;5;129;01min\u001B[39;00m \u001B[38;5;28mlist\u001B[39m(constraints\u001B[38;5;241m.\u001B[39mvalues())[\u001B[38;5;241m0\u001B[39m]]\n\u001B[1;32m    983\u001B[0m \u001B[38;5;28;01mif\u001B[39;00m \u001B[38;5;28mlen\u001B[39m(crit) \u001B[38;5;241m==\u001B[39m \u001B[38;5;241m1\u001B[39m:\n",
      "\u001B[0;31mNoForeignKeysError\u001B[0m: Can't find any foreign key relationships between 'Select object' and 'exam_marks'."
     ]
    }
   ],
   "source": [
    "# 10 Напишите запрос для получения списка названий предметов вместе с фамилиями и именами студентов, получивших по данному предмету максимальную оценку. Результат отсортируйте по названию предмета и по оценке.\n",
    "\n",
    "exam_marks2 = exam_marks.alias('exam_marks2')\n",
    "subq = select([func.max(exam_marks.c.mark)])\n",
    "subq = subq.where(exam_marks.c.subj_id == exam_marks2.c.subj_id)\n",
    "\n",
    "s = select([subject.c.subj_name, student.c.surname, student.c.name, exam_marks.c.mark])\n",
    "s = s.select_from(student)\n",
    "s = s.join(exam_marks)\n",
    "s = s.join(subject)\n",
    "s = s.where(exam_marks.c.mark == subq)\n",
    "s = s.order_by(subject.c.subj_name, exam_marks.c.mark)\n",
    "\n",
    "\n",
    "print(s)\n",
    "res = pd.read_sql(s, conn)\n",
    "print(res)"
   ],
   "metadata": {
    "collapsed": false,
    "pycharm": {
     "name": "#%%\n"
    }
   }
  },
  {
   "cell_type": "code",
   "execution_count": 26,
   "outputs": [
    {
     "name": "stdout",
     "output_type": "stream",
     "text": [
      "SELECT count(subj_lect.lecturer_id) AS count_1 \n",
      "FROM subj_lect GROUP BY subj_lect.lecturer_id\n",
      "    count_1\n",
      "0         1\n",
      "1         2\n",
      "2         1\n",
      "3         1\n",
      "4         2\n",
      "5         2\n",
      "6         1\n",
      "7         1\n",
      "8         2\n",
      "9         1\n",
      "10        1\n",
      "11        1\n",
      "12        2\n",
      "13        1\n",
      "14        1\n",
      "15        1\n",
      "16        1\n",
      "17        2\n"
     ]
    }
   ],
   "source": [
    "# 13. Напишите запрос для получения списка преподавателей, преподающих более одного предмета. Отсортируйте результат по фамилии преподавателя.\n",
    "\n",
    "subj_lect2 = exam_marks.alias('subj_lect2')\n",
    "subq = select([func.count(subj_lect.c.lecturer_id)])\n",
    "subq = subq.group_by(subj_lect.c.lecturer_id)\n",
    "\n",
    "s = s.select_from(lecturer)\n",
    "s = s.join(exam_marks)\n",
    "s = s.join(subject)\n",
    "s = s.where(exam_marks.c.mark == subq)\n",
    "s = s.order_by(subject.c.subj_name, exam_marks.c.mark)\n",
    "\n",
    "\n",
    "\n",
    "\n",
    "print(subq)\n",
    "res = pd.read_sql(subq, conn)\n",
    "print(res)"
   ],
   "metadata": {
    "collapsed": false,
    "pycharm": {
     "name": "#%%\n"
    }
   }
  },
  {
   "cell_type": "code",
   "execution_count": null,
   "outputs": [],
   "source": [],
   "metadata": {
    "collapsed": false,
    "pycharm": {
     "name": "#%%\n"
    }
   }
  }
 ],
 "metadata": {
  "kernelspec": {
   "display_name": "Python 3 (ipykernel)",
   "language": "python",
   "name": "python3"
  },
  "language_info": {
   "codemirror_mode": {
    "name": "ipython",
    "version": 3
   },
   "file_extension": ".py",
   "mimetype": "text/x-python",
   "name": "python",
   "nbconvert_exporter": "python",
   "pygments_lexer": "ipython3",
   "version": "3.9.7"
  }
 },
 "nbformat": 4,
 "nbformat_minor": 5
}