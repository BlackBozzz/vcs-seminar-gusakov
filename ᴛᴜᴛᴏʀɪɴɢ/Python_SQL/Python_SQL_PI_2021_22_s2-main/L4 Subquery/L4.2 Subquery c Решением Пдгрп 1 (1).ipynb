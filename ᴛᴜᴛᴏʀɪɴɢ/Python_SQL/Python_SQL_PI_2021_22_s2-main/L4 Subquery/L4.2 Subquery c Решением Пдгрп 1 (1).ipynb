{
 "cells": [
  {
   "cell_type": "markdown",
   "id": "33d8a869",
   "metadata": {
    "pycharm": {
     "name": "#%% md\n"
    }
   },
   "source": [
    "<img src=\"../Img/Python_SQL_PI.png\" style=\"width:100%\">\n",
    "\n",
    "\n",
    "<p style=\"font-size:22px;text-align:center\">Семинар 4.2. Подзапросы</p> \n",
    "\n",
    "<a id = Home></a>\n",
    "\n",
    "24 марта 2022 года, чт<br>\n",
    "Поток: ПИ20-1, ПИ20-2, ПИ20-3, ПИ20-4, ПИ20-5, ПИ20-6 (2 подгруппа)<br>\n",
    "\n",
    "\n",
    "28 марта 2022 года, пн<br>\n",
    "ПИ20-1, ПИ20-2, ПИ20-3, ПИ20-4, ПИ20-5, ПИ20-6 (3 подгруппа)<br>\n",
    "ПИ20-1, ПИ20-2, ПИ20-3, ПИ20-4, ПИ20-5, ПИ20-6 (4 подгруппа)<br>\n",
    "\n",
    "31 марта 2022 года, чт<br>\n",
    "ПИ20-1, ПИ20-2, ПИ20-3, ПИ20-4, ПИ20-5, ПИ20-6 (1 подгруппа)"
   ]
  },
  {
   "cell_type": "code",
   "execution_count": 2,
   "id": "a9f542b9",
   "metadata": {
    "pycharm": {
     "name": "#%%\n"
    }
   },
   "outputs": [],
   "source": [
    "#Шалимов К. ПИ20-1"
   ]
  },
  {
   "cell_type": "markdown",
   "id": "c4a958e1",
   "metadata": {
    "pycharm": {
     "name": "#%% md\n"
    }
   },
   "source": [
    "\n",
    "```\n",
    "STUDENT\n",
    "STUDENT_ID — числовой код, идентифицирующий студента (идентификатор студента),\n",
    "SURNAME — фамилия студента,\n",
    "NAME — имя студента,\n",
    "STIPEND — стипендия, которую получает студент,\n",
    "KURS — курс, на котором учится студент,\n",
    "CITY — город, в котором живет студент,\n",
    "BIRTHDAY — дата рождения студента,\n",
    "UNIV_ID — идентификатор университета, в котором учится студент.\n",
    "\n",
    "\n",
    "LECTURER\n",
    "LECTURER_ID — идентификатор преподавателя,\n",
    "SURNAME — фамилия преподавателя,\n",
    "NAME — имя преподавателя,\n",
    "CITY — город, в котором живет преподаватель,\n",
    "UNIV_ID — идентификатор университета, в котором работает преподаватель\n",
    "\n",
    "\n",
    "SUBJECT\n",
    "SUBJ_ID — идентификатор предмета обучения,\n",
    "SUBJ_NAME — наименование предмета обучения,\n",
    "HOUR — количество часов, отводимых на изучение предмета,\n",
    "SEMESTER — семестр, в котором изучается данный предмет.\n",
    "\n",
    "\n",
    "UNIVERSITY\n",
    "UNIV_ID — идентификатор университета,\n",
    "UNIV_NAME — название университета,\n",
    "RATING — рейтинг университета,\n",
    "CITY — город, в котором расположен университет.\n",
    "\n",
    "\n",
    "EXAM_MARKS\n",
    "EXAM_ID — идентификатор экзамена,\n",
    "STUDENT_ID — идентификатор студента,\n",
    "SUBJ_ID — идентификатор предмета обучения,\n",
    "MARK — экзаменационная оценка,\n",
    "EXAM_DATE — дата экзамена.\n",
    "\n",
    "\n",
    "SUBJ_LECT\n",
    "LECTURER_ID — идентификатор преподавателя,\n",
    "SUBJ_ID — идентификатор предмета обучения.\n",
    "```\n",
    "\n",
    "<img src=\"../Img/Students_Schema.png\" style=\"width:60%\">"
   ]
  },
  {
   "cell_type": "markdown",
   "id": "03117d99",
   "metadata": {
    "pycharm": {
     "name": "#%% md\n"
    }
   },
   "source": [
    "<img src=../Img/pencil.png style=\"width:190px;height:190px\">\n",
    "<p style=\"background-color:powderblue; font-size:125%; color: rebeccapurple;\">Выполните задания</p>\n",
    "<p>Выполните задания в Jupyter Notebook на тему \"Связанные подзапросы\"</p>\n",
    "\n",
    "1. Напишите запрос для получения списка студентов, которые учатся в своем городе.\n",
    "2. Напишите запрос для получения списка иногородних студентов (обучающихся не в своем городе), с последующей сортировкой по идентификаторам университетов и курсам.\n",
    "3. Напишите запрос для получения списка преподавателей, работающих не в своем городе, с последующей сортировкой по идентификаторам университетов и городам проживания преподавателей.\n",
    "4. Напишите запрос для получения списка предметов, на изучение которых отведено максимальное количество часов среди всех предметов, изучаемых в том же семестре. Список упорядочить по семестрам.\n",
    "5. Напишите запрос для получения списка студентов, получающих стипендию, превосходящую среднее значение стипендии на их курсе.\n",
    "6. Напишите запрос для получения списка студентов, получающих минимальную стипендию в своем университете, с последующей сортировкой по значениям идентификатора университета и стипендии.\n",
    "7. Напишите запрос для получения списка университетов, в которых учится более 5 студентов, с последующей сортировкой по рейтингам.\n",
    "8. Напишите запрос для получения списка университетов, в которых работает более 5 преподавателей, с последующей сортировкой по рейтингам университетов.\n",
    "9. Напишите запрос для получения списка отличников (студентов, получивших только отличные оценки), с последующей сортировкой по идентификаторам университетов и курсам.\n",
    "10. Напишите запрос для получения списка неуспевающих студентов (получивших хотя бы одну неудовлетворительную оценку), с последующей сортировкой по идентификаторам университетов и курсам."
   ]
  },
  {
   "cell_type": "markdown",
   "id": "bea17306",
   "metadata": {
    "pycharm": {
     "name": "#%% md\n"
    }
   },
   "source": [
    "<p style=\"background-color:powderblue; font-size:125%; color: rebeccapurple;\">Выполните задания</p>\n",
    "<p>Выполните задания в Jupyter Notebook.</p>\n",
    "\n",
    "1. Напишите команду SELECT, использующую связанные подзапросы и выполняющую вывод имен и идентификаторов студентов, у которых стипендия совпадает с максимальным значением стипендии для города, в котором живет студент.\n",
    "6. Напишите запрос, который позволяет вывести имена и идентификаторы всех студентов, о которых точно известно, что они проживают в городе, где нет ни одного университета.\n",
    "7. Напишите два запроса, которые позволяют вывести имена и идентификаторы всех студентов, о которых точно известно, что они проживают не в том городе, где расположен их университет: один запрос с использованием связанного подзапроса, а другой с использованием соединения."
   ]
  },
  {
   "cell_type": "markdown",
   "id": "ac44930f",
   "metadata": {
    "pycharm": {
     "name": "#%% md\n"
    }
   },
   "source": [
    "<p style=\"background-color:powderblue; font-size:125%; color: rebeccapurple;\">Выполните задания</p>\n",
    "<p>Выполните задания в Jupyter Notebook на тему \"Использование оператора EXISTS\".</p>\n",
    "\n",
    "1. Напишите запрос с EXISTS, позволяющий вывести данные обо всех студентах обучающихся в вузах, имеющих рейтинг выше 300.\n",
    "\n",
    "2. Напишите предыдущий запрос, используя соединения.\n",
    "\n",
    "3. Напишите запрос с EXISTS, выбирающий сведения о каждом студенте, для которого в городе его проживания имеется хотя бы один университет, в котором он не учится.\n",
    "\n",
    "4. Напишите запрос, выбирающий из таблицы SUBJECT данные о названиях предметов обучения, экзамены по которым сданы более чем одним студентом.\n",
    "\n",
    "5. Напишите запрос для получения списка городов проживания студентов, в которых есть хотя бы один университет."
   ]
  },
  {
   "cell_type": "code",
   "execution_count": 3,
   "id": "3a916508",
   "metadata": {
    "pycharm": {
     "name": "#%%\n"
    }
   },
   "outputs": [],
   "source": [
    "#! pip install sqlalchemy"
   ]
  },
  {
   "cell_type": "code",
   "execution_count": 4,
   "id": "9713cfb8",
   "metadata": {
    "pycharm": {
     "name": "#%%\n"
    }
   },
   "outputs": [],
   "source": [
    "from sqlalchemy import MetaData, Table, create_engine, select, and_, or_, not_\n",
    "from sqlalchemy.sql import func\n",
    "from sqlalchemy.sql import distinct, exists"
   ]
  },
  {
   "cell_type": "code",
   "execution_count": 5,
   "id": "784674a4",
   "metadata": {
    "pycharm": {
     "name": "#%%\n"
    }
   },
   "outputs": [],
   "source": [
    "engine = create_engine('sqlite:///../Data/Students.db')\n",
    "metadata_obj = MetaData() # Объект-контейнер, содержит информацию о схеме данных\n",
    "metadata_obj.reflect(bind=engine) # Отображение БД\n",
    "# Вызов метода reflect() приводит к включению в объект metadata_obj словаря всех таблиц БД.\n",
    "conn=engine.connect() # Соединение"
   ]
  },
  {
   "cell_type": "code",
   "execution_count": 6,
   "id": "bd3de1f1",
   "metadata": {
    "pycharm": {
     "name": "#%%\n"
    }
   },
   "outputs": [
    {
     "data": {
      "text/plain": [
       "dict_keys(['city', 'exam_marks', 'student', 'university', 'subject', 'lecturer', 'subj_lect'])"
      ]
     },
     "execution_count": 6,
     "metadata": {},
     "output_type": "execute_result"
    }
   ],
   "source": [
    "# Таблицы в БД\n",
    "metadata_obj.tables.keys()"
   ]
  },
  {
   "cell_type": "markdown",
   "id": "7e765e7d",
   "metadata": {
    "pycharm": {
     "name": "#%% md\n"
    }
   },
   "source": [
    "Создание объектов таблиц"
   ]
  },
  {
   "cell_type": "code",
   "execution_count": 7,
   "id": "5c108e09",
   "metadata": {
    "pycharm": {
     "name": "#%%\n"
    }
   },
   "outputs": [],
   "source": [
    "exam_marks=Table(\"exam_marks\", metadata_obj, autoload=True, autoload_with=\"engine\")\n",
    "lecturer=Table(\"lecturer\", metadata_obj, autoload=True, autoload_with=\"engine\")\n",
    "student=Table(\"student\", metadata_obj, autoload=True, autoload_with=\"engine\")\n",
    "subj_lect=Table(\"subj_lect\", metadata_obj, autoload=True, autoload_with=\"engine\")\n",
    "subject=Table(\"subject\", metadata_obj, autoload=True, autoload_with=\"engine\")\n",
    "university=Table(\"university\", metadata_obj, autolad=True, autolad_with=\"engine\")"
   ]
  },
  {
   "cell_type": "markdown",
   "id": "6601fea2",
   "metadata": {
    "pycharm": {
     "name": "#%% md\n"
    }
   },
   "source": [
    "# Решение"
   ]
  },
  {
   "cell_type": "code",
   "execution_count": 8,
   "id": "119f1111",
   "metadata": {
    "scrolled": false,
    "pycharm": {
     "name": "#%%\n"
    }
   },
   "outputs": [
    {
     "name": "stdout",
     "output_type": "stream",
     "text": [
      "SELECT student.student_id, student.surname, student.name, student.stipend, student.kurs, student.city, student.birthday, student.univ_id \n",
      "FROM student \n",
      "WHERE student.city != (SELECT university.city \n",
      "FROM university \n",
      "WHERE university.univ_id = student.univ_id) ORDER BY student.univ_id, student.kurs\n",
      "79\n"
     ]
    },
    {
     "data": {
      "text/plain": [
       "[(1, 'Иванов', 'Иван', 150, 1, 'Орел', datetime.datetime(2002, 12, 3, 0, 0), 10),\n",
       " (78, 'Агафонов', 'Василий', 150, 1, 'Грозный', datetime.datetime(1994, 10, 29, 0, 0), 10),\n",
       " (99, 'Борисова', 'Марина', 150, 1, 'Рославль', datetime.datetime(1995, 8, 7, 0, 0), 10),\n",
       " (113, 'Аксенов', 'Валерий', 150, 1, 'Мурманск', datetime.datetime(1994, 10, 27, 0, 0), 10),\n",
       " (10, 'Кузнецов', 'Борис', 0, 2, 'Брянск', datetime.datetime(2001, 12, 8, 0, 0), 10),\n",
       " (12, 'Зайцева', 'Ольга', 250, 2, 'Липецк', datetime.datetime(2001, 5, 1, 0, 0), 10),\n",
       " (66, 'Некрасова', 'Вероника', 250, 2, 'Иркутск', datetime.datetime(2004, 8, 23, 0, 0), 10),\n",
       " (3, 'Петров', 'Петр', 200, 3, 'Курск', datetime.datetime(2000, 12, 1, 0, 0), 10),\n",
       " (62, 'Семенова', 'Вероника', 0, 3, 'Вологда', datetime.datetime(2003, 10, 4, 0, 0), 10),\n",
       " (88, 'Жданова', 'Ирина', 200, 3, 'Тверь', datetime.datetime(2002, 3, 2, 0, 0), 10)]"
      ]
     },
     "execution_count": 8,
     "metadata": {},
     "output_type": "execute_result"
    }
   ],
   "source": [
    "# Ваш код здесь\n",
    "\n",
    "#2\n",
    "\n",
    "\"\"\"\n",
    "Напишите запрос для получения списка иногородних студентов (обучающихся не в своем городе), \n",
    "с последующей сортировкой по идентификаторам университетов и курсам.\n",
    "\"\"\"\n",
    "\n",
    "sq = select(university.c.city)\n",
    "sq = sq.where(university.c.univ_id == student.c.univ_id).scalar_subquery()\n",
    "\n",
    "s = select(student)\n",
    "s = s.where(student.c.city != sq)\n",
    "s = s.order_by(student.c.univ_id, student.c.kurs)\n",
    "print(s)\n",
    "result = conn.execute(s).fetchall()\n",
    "print(len(result))\n",
    "result[:10]"
   ]
  },
  {
   "cell_type": "code",
   "execution_count": 9,
   "id": "016fdd14",
   "metadata": {
    "scrolled": true,
    "pycharm": {
     "name": "#%%\n"
    }
   },
   "outputs": [
    {
     "name": "stdout",
     "output_type": "stream",
     "text": [
      "SELECT lecturer.lecturer_id, lecturer.surname, lecturer.name, lecturer.city, lecturer.univ_id \n",
      "FROM lecturer \n",
      "WHERE lecturer.city != (SELECT university.city \n",
      "FROM university \n",
      "WHERE university.univ_id = lecturer.univ_id) ORDER BY lecturer.univ_id, lecturer.city\n",
      "24\n"
     ]
    },
    {
     "data": {
      "text/plain": [
       "[(2, 'Зайцева', 'Юлия', 'Белгород', 10),\n",
       " (13, 'Зыкова', 'Оксана', 'Калач', 10),\n",
       " (19, 'Алексеев', 'Елисей', 'Мценск', 10),\n",
       " (328, 'Сорокин', 'Андрей', 'Орел', 10),\n",
       " (6, 'Максимова', 'Иванна', 'Сковородино', 10),\n",
       " (3, 'Мамонтова', 'Акулина', 'Троицк (Моск.)', 11),\n",
       " (20, 'Тихонов', 'Ладомир', 'Кропоткин (Краснод.)', 15),\n",
       " (22, 'Беспалов', 'Юлиан', 'Рыбинск', 15),\n",
       " (9, 'Крюкова', 'Людмила', 'Анива', 18),\n",
       " (4, 'Богданова', 'Оксана', 'Всеволожск', 18)]"
      ]
     },
     "execution_count": 9,
     "metadata": {},
     "output_type": "execute_result"
    }
   ],
   "source": [
    "'''3 Напишите запрос для получения списка преподавателей, работающих не в\n",
    "своем городе, с последующей сортировкой\n",
    "по идентификаторам университетов и городам проживания преподавателей. '''\n",
    "\n",
    "sq = select(university.c.city)\n",
    "sq = sq.where(university.c.univ_id == lecturer.c.univ_id).scalar_subquery()\n",
    "\n",
    "s = select(lecturer)\n",
    "s = s.where(lecturer.c.city != sq)\n",
    "s = s.order_by(lecturer.c.univ_id, lecturer.c.city)\n",
    "\n",
    "print(s)\n",
    "result = conn.execute(s).fetchall()\n",
    "print(len(result))\n",
    "result[:10]"
   ]
  },
  {
   "cell_type": "code",
   "execution_count": 10,
   "id": "fd2cfbd0",
   "metadata": {
    "pycharm": {
     "name": "#%%\n"
    }
   },
   "outputs": [
    {
     "name": "stdout",
     "output_type": "stream",
     "text": [
      "SELECT su1.subj_id, su1.subj_name, su1.hour, su1.semester \n",
      "FROM subject AS su1 \n",
      "WHERE su1.hour = (SELECT max(su2.hour) AS max_1 \n",
      "FROM subject AS su2 \n",
      "WHERE su2.semester = su1.semester)\n",
      "5\n"
     ]
    },
    {
     "data": {
      "text/plain": [
       "[(10, 'Информатика', 56, 1),\n",
       " (23, 'Теория вероятностей и математическая статистика', 72, 4),\n",
       " (43, 'Математика', 56, 2),\n",
       " (73, 'Физкультура', 34, 5),\n",
       " (94, 'Английский язык', 56, 3)]"
      ]
     },
     "execution_count": 10,
     "metadata": {},
     "output_type": "execute_result"
    }
   ],
   "source": [
    "\"\"\"\n",
    "4. Напишите запрос для получения списка предметов, на изучение которых отведено \n",
    "максимальное количество часов среди всех предметов, изучаемых в том же семестре.\n",
    "Список упорядочить по семестрам.\n",
    "\"\"\"\n",
    "\n",
    "su1 = subject.alias('su1')\n",
    "su2 = subject.alias('su2')\n",
    "\n",
    "subq = select(func.max(su2.c.hour))\n",
    "subq = subq.where(su2.c.semester == su1.c.semester).scalar_subquery()\n",
    "\n",
    "s = select(su1)\n",
    "s = s.where(su1.c.hour == subq)\n",
    "\n",
    "print(s)\n",
    "result = conn.execute(s).fetchall()\n",
    "print(len(result))\n",
    "result[:10]"
   ]
  },
  {
   "cell_type": "code",
   "execution_count": 11,
   "id": "612e7c2a",
   "metadata": {
    "pycharm": {
     "name": "#%%\n"
    }
   },
   "outputs": [
    {
     "name": "stdout",
     "output_type": "stream",
     "text": [
      "SELECT st1.surname, st1.name, st1.kurs, st1.stipend \n",
      "FROM student AS st1 \n",
      "WHERE st1.stipend > (SELECT avg(st2.stipend) AS avg_1 \n",
      "FROM student AS st2 \n",
      "WHERE st2.kurs = st1.kurs)\n",
      "54\n"
     ]
    },
    {
     "data": {
      "text/plain": [
       "[('Иванов', 'Иван', 1, 150),\n",
       " ('Петров', 'Петр', 3, 200),\n",
       " ('Сидоров', 'Вадим', 4, 150),\n",
       " ('Зайцева', 'Ольга', 2, 250),\n",
       " ('Белкин', 'Вадим', 5, 250),\n",
       " ('Жук', 'Оксана', 1, 250),\n",
       " ('Некрасова', 'Вероника', 2, 250),\n",
       " ('Казакова', 'Ольга', 4, 250),\n",
       " ('Миронова', 'Анна', 2, 200),\n",
       " ('Кондрат', 'Синицин', 4, 200)]"
      ]
     },
     "execution_count": 11,
     "metadata": {},
     "output_type": "execute_result"
    }
   ],
   "source": [
    "\"\"\"\n",
    "5. Напишите запрос для получения списка студентов, получающих стипендию,\n",
    "превосходящую среднее значение стипендии на их курсе.\n",
    "\"\"\"\n",
    "\n",
    "st1 = student.alias('st1')\n",
    "st2 = student.alias('st2')\n",
    "\n",
    "subq = select(func.avg(st2.c.stipend))\n",
    "subq = subq.where(st2.c.kurs == st1.c.kurs).scalar_subquery()\n",
    "\n",
    "s = select(st1.c.surname, st1.c.name, st1.c.kurs, st1.c.stipend)\n",
    "s = s.where(st1.c.stipend > subq)\n",
    "\n",
    "print(s)\n",
    "result = conn.execute(s).fetchall()\n",
    "print(len(result))\n",
    "result[:10]"
   ]
  },
  {
   "cell_type": "code",
   "execution_count": 12,
   "id": "572af196",
   "metadata": {
    "pycharm": {
     "name": "#%%\n"
    }
   },
   "outputs": [
    {
     "name": "stdout",
     "output_type": "stream",
     "text": [
      "SELECT st1.student_id, st1.surname, st1.name, st1.stipend, st1.kurs, st1.city, st1.birthday, st1.univ_id \n",
      "FROM student AS st1 \n",
      "WHERE st1.stipend = (SELECT min(st2.stipend) AS min_1 \n",
      "FROM student AS st2 \n",
      "WHERE st2.univ_id = st1.univ_id AND st2.stipend > :stipend_1) ORDER BY st1.univ_id, st1.stipend\n",
      "20\n"
     ]
    },
    {
     "data": {
      "text/plain": [
       "[(65, 'Сергеева', 'Фёкла', 100, 5, None, datetime.datetime(2000, 2, 19, 0, 0), 10),\n",
       " (76, 'Мельникова', 'Дарья', 100, 5, 'Архангельск', datetime.datetime(2002, 8, 1, 0, 0), 10),\n",
       " (116, 'Федоров', 'Гостомысл', 100, 4, 'Новый Уренгой', datetime.datetime(2000, 11, 16, 0, 0), 10),\n",
       " (123, 'Веселов', 'Тимур', 150, 1, 'Невинномысск', datetime.datetime(1998, 4, 28, 0, 0), 11),\n",
       " (57, 'Кудряшова', 'Вера', 100, 5, 'Нижневартовск', datetime.datetime(2002, 2, 18, 0, 0), 14),\n",
       " (63, 'Пак', 'Ирина', 100, 1, 'Магадан', datetime.datetime(2000, 8, 22, 0, 0), 15),\n",
       " (61, 'Соколова', 'Ия', 100, 1, 'Колпашево', datetime.datetime(2002, 6, 25, 0, 0), 18),\n",
       " (75, 'Игнатова', 'Зинаида', 100, 5, 'Ростов', datetime.datetime(2000, 9, 26, 0, 0), 22),\n",
       " (105, 'Антонов', 'Анатолий', 100, 1, 'Сыктывкар', datetime.datetime(1997, 4, 8, 0, 0), 22),\n",
       " (147, 'Симонов', 'Семен', 100, 5, 'Беломорск', datetime.datetime(2000, 3, 17, 0, 0), 22)]"
      ]
     },
     "execution_count": 12,
     "metadata": {},
     "output_type": "execute_result"
    }
   ],
   "source": [
    "\"\"\"\n",
    "6. Напишите запрос для получения списка студентов, \n",
    "получающих минимальную стипендию в своем университете, \n",
    "с последующей сортировкой по значениям идентификатора университета и стипендии.\n",
    "\"\"\"\n",
    "\n",
    "st1=student.alias('st1')\n",
    "st2=student.alias('st2')\n",
    "\n",
    "sb=select(func.min(st2.c.stipend))\n",
    "sb=sb.where(and_(st2.c.univ_id == st1.c.univ_id, st2.c.stipend > 0)).scalar_subquery()\n",
    "\n",
    "s = select(st1)\n",
    "s = s.where(st1.c.stipend == sb)\n",
    "s = s.order_by(st1.c.univ_id, st1.c.stipend)\n",
    "print(s)\n",
    "\n",
    "result = conn.execute(s).fetchall()\n",
    "print(len(result))\n",
    "result[:10]"
   ]
  },
  {
   "cell_type": "code",
   "execution_count": 13,
   "id": "6f017852",
   "metadata": {
    "pycharm": {
     "name": "#%%\n"
    }
   },
   "outputs": [
    {
     "name": "stdout",
     "output_type": "stream",
     "text": [
      "8\n"
     ]
    },
    {
     "data": {
      "text/plain": [
       "[(47, 'КФУ', None, 'Казань'),\n",
       " (10, 'ВГУ', 296, 'Воронеж'),\n",
       " (46, 'ФГБОУ \"Политех\"', 304, 'Санкт-Петербург'),\n",
       " (14, 'БГУ', 326, 'Белгород'),\n",
       " (18, 'ВГМА', 327, 'Воронеж'),\n",
       " (44, 'ФинУ', 330, 'Москва'),\n",
       " (32, 'РГУ', 416, 'Ростов'),\n",
       " (22, 'МГУ', 606, 'Москва')]"
      ]
     },
     "execution_count": 13,
     "metadata": {},
     "output_type": "execute_result"
    }
   ],
   "source": [
    "\"\"\"\n",
    "7. Напишите запрос для получения списка университетов, \n",
    "в которых учится более 5 студентов, с последующей сортировкой по рейтингам.\n",
    "\"\"\"\n",
    "\n",
    "subq = select(func.count(student.c.univ_id))\n",
    "subq = subq.where(university.c.univ_id == student.c.univ_id).scalar_subquery()\n",
    "\n",
    "s = select(university)\n",
    "s = s.where(subq > 5)\n",
    "s = s.order_by(university.c.rating)\n",
    "\n",
    "result = conn.execute(s).fetchall()\n",
    "print(len(result))\n",
    "result[:10]"
   ]
  },
  {
   "cell_type": "code",
   "execution_count": 14,
   "id": "297abb43",
   "metadata": {
    "pycharm": {
     "name": "#%%\n"
    }
   },
   "outputs": [
    {
     "name": "stdout",
     "output_type": "stream",
     "text": [
      "SELECT university.univ_id, university.univ_name, university.rating, university.city \n",
      "FROM university \n",
      "WHERE university.univ_id IN (SELECT lecturer.univ_id \n",
      "FROM lecturer GROUP BY lecturer.univ_id \n",
      "HAVING count(lecturer.lecturer_id) > :count_1) ORDER BY university.rating\n",
      "1\n"
     ]
    },
    {
     "data": {
      "text/plain": [
       "[(10, 'ВГУ', 296, 'Воронеж')]"
      ]
     },
     "execution_count": 14,
     "metadata": {},
     "output_type": "execute_result"
    }
   ],
   "source": [
    "'''8 Напишите запрос для получения списка университетов, в которых работает \n",
    "более 5 преподавателей, с последующей сортировкой по рейтингам университетов. '''\n",
    "sg = select(lecturer.c.univ_id).group_by(lecturer.c.univ_id).having(func.count(lecturer.c.lecturer_id) > 5)\n",
    "\n",
    "s=select(university)\n",
    "s=s.where(university.c.univ_id.in_(sg))\n",
    "s = s.order_by(university.c.rating)\n",
    "\n",
    "print(s)\n",
    "\n",
    "result = conn.execute(s).fetchall()\n",
    "print(len(result))\n",
    "result"
   ]
  },
  {
   "cell_type": "code",
   "execution_count": 15,
   "id": "6948fd8c",
   "metadata": {
    "pycharm": {
     "name": "#%%\n"
    }
   },
   "outputs": [
    {
     "name": "stdout",
     "output_type": "stream",
     "text": [
      "SELECT student.student_id, student.surname, student.name, student.stipend, student.kurs, student.city, student.birthday, student.univ_id \n",
      "FROM student \n",
      "WHERE student.student_id IN (SELECT exam_marks.student_id \n",
      "FROM exam_marks GROUP BY exam_marks.student_id \n",
      "HAVING min(exam_marks.mark) = :min_1) ORDER BY student.univ_id, student.kurs\n",
      "7\n"
     ]
    },
    {
     "data": {
      "text/plain": [
       "[(99, 'Борисова', 'Марина', 150, 1, 'Рославль', datetime.datetime(1995, 8, 7, 0, 0), 10),\n",
       " (10, 'Кузнецов', 'Борис', 0, 2, 'Брянск', datetime.datetime(2001, 12, 8, 0, 0), 10),\n",
       " (88, 'Жданова', 'Ирина', 200, 3, 'Тверь', datetime.datetime(2002, 3, 2, 0, 0), 10),\n",
       " (55, 'Белкин', 'Вадим', 250, 5, 'Воронеж', datetime.datetime(2000, 1, 7, 0, 0), 10),\n",
       " (92, 'Мельникова', 'Светлана', 250, 4, 'Кропоткин (Краснод.)', datetime.datetime(1998, 3, 24, 0, 0), 15),\n",
       " (91, 'Блохина', 'Ираида', 250, 3, 'Новый Уренгой', datetime.datetime(1997, 3, 23, 0, 0), 22),\n",
       " (82, 'Лапина', 'Элеонора', 150, 3, 'Джубга', datetime.datetime(1997, 11, 23, 0, 0), 45)]"
      ]
     },
     "execution_count": 15,
     "metadata": {},
     "output_type": "execute_result"
    }
   ],
   "source": [
    "'''9 Напишите запрос для получения списка отличников (студентов, получивших\n",
    "только отличные оценки), с последующей сортировкой по идентификаторам \n",
    "университетов и курсам. '''\n",
    "sg = select(exam_marks.c.student_id).group_by(exam_marks.c.student_id).having(func.min(exam_marks.c.mark ) == 5)\n",
    "\n",
    "s=select(student)\n",
    "s=s.where(student.c.student_id.in_(sg))\n",
    "s = s.order_by(student.c.univ_id, student.c.kurs)\n",
    "\n",
    "print(s)\n",
    "\n",
    "result = conn.execute(s).fetchall()\n",
    "print(len(result))\n",
    "result\n"
   ]
  },
  {
   "cell_type": "code",
   "execution_count": 16,
   "id": "e423f4e3",
   "metadata": {
    "pycharm": {
     "name": "#%%\n"
    }
   },
   "outputs": [
    {
     "name": "stdout",
     "output_type": "stream",
     "text": [
      "SELECT student.student_id, student.surname, student.name, student.stipend, student.kurs, student.city, student.birthday, student.univ_id \n",
      "FROM student \n",
      "WHERE student.student_id IN (SELECT exam_marks.student_id \n",
      "FROM exam_marks GROUP BY exam_marks.student_id \n",
      "HAVING min(exam_marks.mark) < :min_1) ORDER BY student.univ_id, student.kurs\n",
      "22\n"
     ]
    },
    {
     "data": {
      "text/plain": [
       "[(1, 'Иванов', 'Иван', 150, 1, 'Орел', datetime.datetime(2002, 12, 3, 0, 0), 10),\n",
       " (12, 'Зайцева', 'Ольга', 250, 2, 'Липецк', datetime.datetime(2001, 5, 1, 0, 0), 10),\n",
       " (116, 'Федоров', 'Гостомысл', 100, 4, 'Новый Уренгой', datetime.datetime(2000, 11, 16, 0, 0), 10),\n",
       " (65, 'Сергеева', 'Фёкла', 100, 5, None, datetime.datetime(2000, 2, 19, 0, 0), 10),\n",
       " (76, 'Мельникова', 'Дарья', 100, 5, 'Архангельск', datetime.datetime(2002, 8, 1, 0, 0), 10),\n",
       " (123, 'Веселов', 'Тимур', 150, 1, 'Невинномысск', datetime.datetime(1998, 4, 28, 0, 0), 11),\n",
       " (126, 'Жуков', 'Пров', 0, 3, 'Кыштым', datetime.datetime(1998, 9, 11, 0, 0), 11),\n",
       " (103, 'Трофимов', 'Владислав', 250, 5, 'Верхоянск', datetime.datetime(1995, 3, 24, 0, 0), 11),\n",
       " (110, 'Суханов', 'Константин', 250, 3, 'Курск', datetime.datetime(1996, 11, 22, 0, 0), 14),\n",
       " (149, 'Вячеслав', 'Пахомов', 250, 3, 'Игарка', datetime.datetime(1997, 5, 14, 0, 0), 14),\n",
       " (203, 'Петрова', 'Екатерина', 250, 4, 'Белгород', datetime.datetime(2001, 5, 21, 0, 0), 14),\n",
       " (15, 'Ордуханян', 'Рафаэль', 120, 1, 'Липецк', datetime.datetime(2003, 6, 1, 0, 0), 18),\n",
       " (77, 'Мишина', 'Светлана', 150, 2, 'Рыльск', datetime.datetime(1997, 5, 22, 0, 0), 18),\n",
       " (71, 'Кондрат', 'Синицин', 200, 4, 'Ишим', datetime.datetime(2001, 2, 23, 0, 0), 18),\n",
       " (105, 'Антонов', 'Анатолий', 100, 1, 'Сыктывкар', datetime.datetime(1997, 4, 8, 0, 0), 22),\n",
       " (79, 'Афанасьева', 'Анжелика', 0, 2, 'Уфа', datetime.datetime(1996, 11, 22, 0, 0), 32),\n",
       " (85, 'Казакова', 'Мария', 150, 4, 'Нальчик', datetime.datetime(1994, 2, 18, 0, 0), 32),\n",
       " (73, 'Одинцова', 'Лидия', 100, 5, 'Верхний Баскунчак', datetime.datetime(2002, 3, 7, 0, 0), 44),\n",
       " (128, 'Васильев', 'Матвей', 100, 1, 'Чебоксары', datetime.datetime(2000, 7, 18, 0, 0), 46),\n",
       " (97, 'Вишнякова', 'Анжела', 200, 2, 'Иваново', datetime.datetime(2002, 2, 10, 0, 0), 46),\n",
       " (101, 'Калашников', 'Евгений', 200, 2, 'Калининград', datetime.datetime(1998, 2, 27, 0, 0), 48),\n",
       " (83, 'Сорокина', 'Ирина', 200, 3, 'Усмань', datetime.datetime(1993, 9, 28, 0, 0), 48)]"
      ]
     },
     "execution_count": 16,
     "metadata": {},
     "output_type": "execute_result"
    }
   ],
   "source": [
    "'''10 Напишите запрос для получения списка неуспевающих студентов \n",
    "(получивших хотя бы одну неудовлетворительную оценку), с последующей \n",
    "сортировкой по идентификаторам университетов и курсам. '''\n",
    "sg = select(exam_marks.c.student_id).group_by(exam_marks.c.student_id).having(func.min(exam_marks.c.mark ) < 4)\n",
    "\n",
    "s=select(student)\n",
    "s=s.where(student.c.student_id.in_(sg))\n",
    "s = s.order_by(student.c.univ_id, student.c.kurs)\n",
    "\n",
    "print(s)\n",
    "\n",
    "result = conn.execute(s).fetchall()\n",
    "print(len(result))\n",
    "result\n"
   ]
  },
  {
   "cell_type": "code",
   "execution_count": 17,
   "id": "771dd8fa",
   "metadata": {
    "pycharm": {
     "name": "#%%\n"
    }
   },
   "outputs": [
    {
     "name": "stdout",
     "output_type": "stream",
     "text": [
      "SELECT st1.student_id, st1.surname, st1.name, st1.city \n",
      "FROM student AS st1 \n",
      "WHERE st1.stipend = (SELECT max(st2.stipend) AS max_1 \n",
      "FROM student AS st2 \n",
      "WHERE st2.city = st1.city)\n",
      "73\n"
     ]
    },
    {
     "data": {
      "text/plain": [
       "[(12, 'Зайцева', 'Ольга', 'Липецк'),\n",
       " (55, 'Белкин', 'Вадим', 'Воронеж'),\n",
       " (56, 'Дуб', 'Елизавета', 'Усть-Кут'),\n",
       " (57, 'Кудряшова', 'Вера', 'Нижневартовск'),\n",
       " (58, 'Журавлева', 'Вера', 'Новосибирск'),\n",
       " (60, 'Рожкова', 'Пелагея', 'Рубцовск'),\n",
       " (61, 'Соколова', 'Ия', 'Колпашево'),\n",
       " (62, 'Семенова', 'Вероника', 'Вологда'),\n",
       " (64, 'Жук', 'Оксана', 'Воркута'),\n",
       " (66, 'Некрасова', 'Вероника', 'Иркутск'),\n",
       " (68, 'Казакова', 'Ольга', 'Кемерово'),\n",
       " (69, 'Шубина', 'Елена', 'Камень-на-Оби'),\n",
       " (70, 'Миронова', 'Анна', 'Владикавказ'),\n",
       " (71, 'Кондрат', 'Синицин', 'Ишим'),\n",
       " (72, 'Пономарева', 'Алина', 'Ангарск'),\n",
       " (73, 'Одинцова', 'Лидия', 'Верхний Баскунчак'),\n",
       " (74, 'Гуляева', 'Рукижат', 'Невельск (Сахалин)'),\n",
       " (75, 'Игнатова', 'Зинаида', 'Ростов'),\n",
       " (76, 'Мельникова', 'Дарья', 'Архангельск'),\n",
       " (77, 'Мишина', 'Светлана', 'Рыльск'),\n",
       " (78, 'Агафонов', 'Василий', 'Грозный'),\n",
       " (79, 'Афанасьева', 'Анжелика', 'Уфа'),\n",
       " (80, 'Фролова', 'Василиса', 'Кисловодск'),\n",
       " (82, 'Лапина', 'Элеонора', 'Джубга'),\n",
       " (83, 'Сорокина', 'Ирина', 'Усмань'),\n",
       " (85, 'Казакова', 'Мария', 'Нальчик'),\n",
       " (86, 'Жукова', 'Фекла', 'Магадан'),\n",
       " (88, 'Жданова', 'Ирина', 'Тверь'),\n",
       " (89, 'Валерия', 'Овчинникова', 'Улан-Удэ'),\n",
       " (90, 'Костина', 'Кира', 'Устюжна'),\n",
       " (91, 'Блохина', 'Ираида', 'Новый Уренгой'),\n",
       " (92, 'Мельникова', 'Светлана', 'Кропоткин (Краснод.)'),\n",
       " (94, 'Васильева', 'Оксана', 'Кизилюрт'),\n",
       " (95, 'Сорокина', 'Валерия', 'Енисейск'),\n",
       " (97, 'Вишнякова', 'Анжела', 'Иваново'),\n",
       " (99, 'Борисова', 'Марина', 'Рославль'),\n",
       " (101, 'Калашников', 'Евгений', 'Калининград'),\n",
       " (103, 'Трофимов', 'Владислав', 'Верхоянск'),\n",
       " (104, 'Бирюков', 'Герасим', 'Жуковский'),\n",
       " (105, 'Антонов', 'Анатолий', 'Сыктывкар'),\n",
       " (107, 'Морозов', 'Кирилл', 'Кропоткин (Краснод.)'),\n",
       " (108, 'Назаров', 'Икром', 'Саянск'),\n",
       " (110, 'Суханов', 'Константин', 'Курск'),\n",
       " (112, 'Захаров', 'Софон', 'Мурманск'),\n",
       " (113, 'Аксенов', 'Валерий', 'Мурманск'),\n",
       " (114, 'Панов', 'Арсений', 'Геленджик'),\n",
       " (117, 'Лазарев', 'Константин', 'Славянск-на-Кубани'),\n",
       " (118, 'Кондратьев', 'Николай', 'Ханты-Мансийск'),\n",
       " (121, 'Воронова', 'Антонина', 'Усть-Джегута'),\n",
       " (123, 'Веселов', 'Тимур', 'Невинномысск'),\n",
       " (124, 'Юдин', 'Савва', 'Усинск'),\n",
       " (125, 'Пономарев', 'Варфоромей', 'Улан-Удэ'),\n",
       " (126, 'Жуков', 'Пров', 'Кыштым'),\n",
       " (128, 'Васильев', 'Матвей', 'Чебоксары'),\n",
       " (130, 'Кудряшов', 'Роман', 'Нижний Новгород'),\n",
       " (131, 'Ковалев', 'Ефим', 'Волгоград'),\n",
       " (133, 'Жуковский', 'Юрий', 'Сургут (Хант.)'),\n",
       " (135, 'Комаров', 'Ипат', 'Нерчинск'),\n",
       " (136, 'Ефимов', 'Яков', 'Тимашевск'),\n",
       " (137, 'Кулаков', 'Феофан', 'Волоколамск'),\n",
       " (139, 'Журавлев', 'Фома', 'Улан-Удэ'),\n",
       " (140, 'Ширяев', 'Андрей', 'Джубга'),\n",
       " (141, 'Ершов', 'Митрофан', 'Пятигорск'),\n",
       " (143, 'Бирюков', 'Мартин', 'Курганинск'),\n",
       " (146, 'Русаков', 'Давид', 'Байкальск'),\n",
       " (147, 'Симонов', 'Семен', 'Беломорск'),\n",
       " (148, 'Гуляев', 'Кузьма', 'Корсаков'),\n",
       " (149, 'Вячеслав', 'Пахомов', 'Игарка'),\n",
       " (200, 'Баранов', 'Александр', 'Москва'),\n",
       " (203, 'Петрова', 'Екатерина', 'Белгород'),\n",
       " (204, 'Петров', 'Вадим', 'Брянск'),\n",
       " (206, 'Киселев', 'Владимир', 'Орел'),\n",
       " (276, 'Петров', 'Антон', 'Ульяновск')]"
      ]
     },
     "execution_count": 17,
     "metadata": {},
     "output_type": "execute_result"
    }
   ],
   "source": [
    "#Выполните задания в Jupyter Notebook на тему \"Связанные подзапросы в Having\".\n",
    "'''1Напишите команду SELECT, использующую связанные подзапросы и выполняющую\n",
    "вывод имен и идентификаторов студентов, у которых стипендия совпадает с \n",
    "максимальным значением стипендии для города, в котором живет студент. '''\n",
    "st1 = student.alias('st1') # внешний\n",
    "st2 = student.alias('st2') # внутренний\n",
    "\n",
    "subq = select(func.max(st2.c.stipend))\n",
    "subq = subq.where(st2.c.city == st1.c.city).scalar_subquery()\n",
    "\n",
    "s = select(st1.c.student_id, st1.c.surname, st1.c.name, st1.c.city)\n",
    "s = s.where(st1.c.stipend == subq)\n",
    "\n",
    "print(s)\n",
    "\n",
    "result = conn.execute(s).fetchall()\n",
    "print(len(result))\n",
    "result"
   ]
  },
  {
   "cell_type": "code",
   "execution_count": 18,
   "id": "150242bf",
   "metadata": {
    "pycharm": {
     "name": "#%%\n"
    }
   },
   "outputs": [
    {
     "name": "stdout",
     "output_type": "stream",
     "text": [
      "SELECT student.name, student.student_id \n",
      "FROM student \n",
      "WHERE student.city NOT IN (SELECT DISTINCT university.city \n",
      "FROM university)\n",
      "77\n"
     ]
    },
    {
     "data": {
      "text/plain": [
       "[('Иван', 1),\n",
       " ('Петр', 3),\n",
       " ('Борис', 10),\n",
       " ('Ольга', 12),\n",
       " ('Рафаэль', 15),\n",
       " ('Елизавета', 56),\n",
       " ('Вера', 57),\n",
       " ('Пелагея', 60),\n",
       " ('Ия', 61),\n",
       " ('Вероника', 62),\n",
       " ('Ирина', 63),\n",
       " ('Оксана', 64),\n",
       " ('Вероника', 66),\n",
       " ('Ольга', 68),\n",
       " ('Елена', 69),\n",
       " ('Анна', 70),\n",
       " ('Синицин', 71),\n",
       " ('Алина', 72),\n",
       " ('Лидия', 73),\n",
       " ('Рукижат', 74),\n",
       " ('Дарья', 76),\n",
       " ('Светлана', 77),\n",
       " ('Василий', 78),\n",
       " ('Анжелика', 79),\n",
       " ('Василиса', 80),\n",
       " ('Элеонора', 82),\n",
       " ('Ирина', 83),\n",
       " ('Мария', 85),\n",
       " ('Фекла', 86),\n",
       " ('Ирина', 88),\n",
       " ('Овчинникова', 89),\n",
       " ('Кира', 90),\n",
       " ('Ираида', 91),\n",
       " ('Светлана', 92),\n",
       " ('Оксана', 94),\n",
       " ('Валерия', 95),\n",
       " ('Анжела', 97),\n",
       " ('Марина', 99),\n",
       " ('Евгений', 101),\n",
       " ('Владислав', 103),\n",
       " ('Герасим', 104),\n",
       " ('Анатолий', 105),\n",
       " ('Кирилл', 107),\n",
       " ('Икром', 108),\n",
       " ('Константин', 110),\n",
       " ('Софон', 112),\n",
       " ('Валерий', 113),\n",
       " ('Арсений', 114),\n",
       " ('Гостомысл', 116),\n",
       " ('Константин', 117),\n",
       " ('Николай', 118),\n",
       " ('Антонина', 121),\n",
       " ('Тимур', 123),\n",
       " ('Савва', 124),\n",
       " ('Варфоромей', 125),\n",
       " ('Пров', 126),\n",
       " ('Матвей', 128),\n",
       " ('Роман', 130),\n",
       " ('Ефим', 131),\n",
       " ('Юрий', 133),\n",
       " ('Ипат', 135),\n",
       " ('Яков', 136),\n",
       " ('Феофан', 137),\n",
       " ('Фома', 139),\n",
       " ('Андрей', 140),\n",
       " ('Митрофан', 141),\n",
       " ('Мартин', 143),\n",
       " ('Викентий', 144),\n",
       " ('Давид', 146),\n",
       " ('Семен', 147),\n",
       " ('Кузьма', 148),\n",
       " ('Пахомов', 149),\n",
       " ('Андрей', 201),\n",
       " ('Анатолий', 202),\n",
       " ('Вадим', 204),\n",
       " ('Мария', 205),\n",
       " ('Владимир', 206)]"
      ]
     },
     "execution_count": 18,
     "metadata": {},
     "output_type": "execute_result"
    }
   ],
   "source": [
    "'''2Напишите запрос, который позволяет вывести имена и идентификаторы всех \n",
    "студентов, о которых точно известно, что они проживают в городе, где нет \n",
    "ни одного университета. '''\n",
    "sg=select(university.c.city).distinct(university.c.city)\n",
    "\n",
    "s = select(student.c.name, student.c.student_id)\n",
    "s=s.where(not_(student.c.city.in_(sg)))\n",
    "\n",
    "\n",
    "print(s)\n",
    "\n",
    "result = conn.execute(s).fetchall()\n",
    "print(len(result))\n",
    "result\n"
   ]
  },
  {
   "cell_type": "code",
   "execution_count": 31,
   "id": "f36be72f",
   "metadata": {
    "pycharm": {
     "name": "#%%\n"
    }
   },
   "outputs": [
    {
     "name": "stdout",
     "output_type": "stream",
     "text": [
      "SELECT student.name, student.student_id \n",
      "FROM student \n",
      "WHERE student.city != (SELECT university.city \n",
      "FROM university \n",
      "WHERE university.univ_id = student.univ_id) AND student.student_id IN (SELECT student.student_id \n",
      "FROM student \n",
      "WHERE (EXISTS (SELECT * \n",
      "FROM exam_marks \n",
      "WHERE exam_marks.mark IS NOT NULL AND exam_marks.student_id = student.student_id)) AND NOT (EXISTS (SELECT * \n",
      "FROM exam_marks \n",
      "WHERE exam_marks.mark > :mark_1 AND exam_marks.student_id = student.student_id)))\n",
      "17\n"
     ]
    },
    {
     "data": {
      "text/plain": [
       "[('Иван', 1),\n",
       " ('Рафаэль', 15),\n",
       " ('Синицин', 71),\n",
       " ('Лидия', 73),\n",
       " ('Дарья', 76),\n",
       " ('Светлана', 77),\n",
       " ('Анжелика', 79),\n",
       " ('Ирина', 83),\n",
       " ('Анжела', 97),\n",
       " ('Евгений', 101),\n",
       " ('Владислав', 103),\n",
       " ('Анатолий', 105),\n",
       " ('Константин', 110),\n",
       " ('Гостомысл', 116),\n",
       " ('Тимур', 123),\n",
       " ('Пров', 126),\n",
       " ('Пахомов', 149)]"
      ]
     },
     "execution_count": 31,
     "metadata": {},
     "output_type": "execute_result"
    }
   ],
   "source": [
    "'''3.1 Напишите два запроса, которые позволяют вывести имена и идентификаторы \n",
    "всех студентов, о которых точно известно, что они проживают не в том городе,\n",
    "где расположен их университет: один запрос с использованием связанного \n",
    "подзапроса, а другой с использованием соединения. '''\n",
    "sq = select(university.c.city)\n",
    "sq = sq.where(university.c.univ_id == student.c.univ_id).scalar_subquery()\n",
    "subq1 = exists().where(and_(exam_marks.c.mark != None, exam_marks.c.student_id == student.c.student_id))\n",
    "\n",
    "# Студенты, не имеющие оценок, кроме отличных\n",
    "subq2 = ~exists().where(and_(exam_marks.c.mark >3, exam_marks.c.student_id == student.c.student_id))\n",
    "\n",
    "sf = select(student.c.student_id)\n",
    "sf = sf.where(subq1).where(subq2)\n",
    "s = select(student.c.name, student.c.student_id)\n",
    "s = s.where(and_(student.c.city != sq, student.c.student_id.in_(sf)))\n",
    "\n",
    "print(s)\n",
    "\n",
    "result = conn.execute(s).fetchall()\n",
    "print(len(result))\n",
    "result\n"
   ]
  },
  {
   "cell_type": "code",
   "execution_count": 20,
   "id": "6aa76297",
   "metadata": {
    "pycharm": {
     "name": "#%%\n"
    }
   },
   "outputs": [
    {
     "name": "stdout",
     "output_type": "stream",
     "text": [
      "SELECT student.name, student.student_id \n",
      "FROM student, university \n",
      "WHERE student.city != university.city AND university.univ_id = student.univ_id\n",
      "79\n"
     ]
    },
    {
     "data": {
      "text/plain": [
       "[('Иван', 1),\n",
       " ('Петр', 3),\n",
       " ('Борис', 10),\n",
       " ('Ольга', 12),\n",
       " ('Рафаэль', 15),\n",
       " ('Елизавета', 56),\n",
       " ('Вера', 57),\n",
       " ('Пелагея', 60),\n",
       " ('Ия', 61),\n",
       " ('Вероника', 62),\n",
       " ('Ирина', 63),\n",
       " ('Оксана', 64),\n",
       " ('Вероника', 66),\n",
       " ('Ольга', 68),\n",
       " ('Елена', 69),\n",
       " ('Анна', 70),\n",
       " ('Синицин', 71),\n",
       " ('Алина', 72),\n",
       " ('Лидия', 73),\n",
       " ('Рукижат', 74),\n",
       " ('Зинаида', 75),\n",
       " ('Дарья', 76),\n",
       " ('Светлана', 77),\n",
       " ('Василий', 78),\n",
       " ('Анжелика', 79),\n",
       " ('Василиса', 80),\n",
       " ('Элеонора', 82),\n",
       " ('Ирина', 83),\n",
       " ('Мария', 85),\n",
       " ('Фекла', 86),\n",
       " ('Ирина', 88),\n",
       " ('Овчинникова', 89),\n",
       " ('Кира', 90),\n",
       " ('Ираида', 91),\n",
       " ('Светлана', 92),\n",
       " ('Оксана', 94),\n",
       " ('Валерия', 95),\n",
       " ('Анжела', 97),\n",
       " ('Марина', 99),\n",
       " ('Евгений', 101),\n",
       " ('Владислав', 103),\n",
       " ('Герасим', 104),\n",
       " ('Анатолий', 105),\n",
       " ('Кирилл', 107),\n",
       " ('Икром', 108),\n",
       " ('Константин', 110),\n",
       " ('Софон', 112),\n",
       " ('Валерий', 113),\n",
       " ('Арсений', 114),\n",
       " ('Гостомысл', 116),\n",
       " ('Константин', 117),\n",
       " ('Николай', 118),\n",
       " ('Антонина', 121),\n",
       " ('Тимур', 123),\n",
       " ('Савва', 124),\n",
       " ('Варфоромей', 125),\n",
       " ('Пров', 126),\n",
       " ('Матвей', 128),\n",
       " ('Роман', 130),\n",
       " ('Ефим', 131),\n",
       " ('Юрий', 133),\n",
       " ('Ипат', 135),\n",
       " ('Яков', 136),\n",
       " ('Феофан', 137),\n",
       " ('Фома', 139),\n",
       " ('Андрей', 140),\n",
       " ('Митрофан', 141),\n",
       " ('Мартин', 143),\n",
       " ('Викентий', 144),\n",
       " ('Давид', 146),\n",
       " ('Семен', 147),\n",
       " ('Кузьма', 148),\n",
       " ('Пахомов', 149),\n",
       " ('Андрей', 201),\n",
       " ('Анатолий', 202),\n",
       " ('Вадим', 204),\n",
       " ('Мария', 205),\n",
       " ('Владимир', 206),\n",
       " ('Антон', 276)]"
      ]
     },
     "execution_count": 20,
     "metadata": {},
     "output_type": "execute_result"
    }
   ],
   "source": [
    "'''3.2 Напишите два запроса, которые позволяют вывести имена и идентификаторы \n",
    "всех студентов, о которых точно известно, что они проживают не в том городе,\n",
    "где расположен их университет: один запрос с использованием связанного \n",
    "подзапроса, а другой с использованием соединения. '''\n",
    "\n",
    "s = select(student.c.name, student.c.student_id)\n",
    "s = s.where(and_(student.c.city != university.c.city, university.c.univ_id == student.c.univ_id))\n",
    "\n",
    "print(s)\n",
    "\n",
    "result = conn.execute(s).fetchall()\n",
    "print(len(result))\n",
    "result\n"
   ]
  },
  {
   "cell_type": "code",
   "execution_count": 21,
   "id": "6811a1d6",
   "metadata": {
    "pycharm": {
     "name": "#%%\n"
    }
   },
   "outputs": [
    {
     "name": "stdout",
     "output_type": "stream",
     "text": [
      "SELECT student.name, student.surname, student.univ_id \n",
      "FROM student \n",
      "WHERE EXISTS (SELECT university.univ_id, university.univ_name, university.rating, university.city \n",
      "FROM university \n",
      "WHERE university.univ_id = student.univ_id AND university.rating > :rating_1)\n",
      "63\n"
     ]
    },
    {
     "data": {
      "text/plain": [
       "[('Вадим', 'Сидоров', 22),\n",
       " ('Рафаэль', 'Ордуханян', 18),\n",
       " ('Павел', 'Котов', 14),\n",
       " ('Вера', 'Кудряшова', 14),\n",
       " ('Вера', 'Журавлева', 11),\n",
       " ('Ия', 'Соколова', 18),\n",
       " ('Ирина', 'Пак', 15),\n",
       " ('Ольга', 'Казакова', 44),\n",
       " ('Елена', 'Шубина', 45),\n",
       " ('Анна', 'Миронова', 46),\n",
       " ('Синицин', 'Кондрат', 18),\n",
       " ('Лидия', 'Одинцова', 44),\n",
       " ('Рукижат', 'Гуляева', 22),\n",
       " ('Зинаида', 'Игнатова', 22),\n",
       " ('Светлана', 'Мишина', 18),\n",
       " ('Анжелика', 'Афанасьева', 32),\n",
       " ('Василиса', 'Фролова', 44),\n",
       " ('Элеонора', 'Лапина', 45),\n",
       " ('Мария', 'Казакова', 32),\n",
       " ('Фекла', 'Жукова', 46),\n",
       " ('Овчинникова', 'Валерия', 18),\n",
       " ('Кира', 'Костина', 14),\n",
       " ('Ираида', 'Блохина', 22),\n",
       " ('Светлана', 'Мельникова', 15),\n",
       " ('Оксана', 'Васильева', 32),\n",
       " ('Валерия', 'Сорокина', 45),\n",
       " ('Фаина', 'Тимофеева', 45),\n",
       " ('Анжела', 'Вишнякова', 46),\n",
       " ('Владислав', 'Трофимов', 11),\n",
       " ('Герасим', 'Бирюков', 44),\n",
       " ('Анатолий', 'Антонов', 22),\n",
       " ('Кирилл', 'Морозов', 44),\n",
       " ('Константин', 'Суханов', 14),\n",
       " ('Софон', 'Захаров', 46),\n",
       " ('Арсений', 'Панов', 32),\n",
       " ('Николай', 'Кондратьев', 14),\n",
       " ('Антонина', 'Воронова', 46),\n",
       " ('Тимур', 'Веселов', 11),\n",
       " ('Савва', 'Юдин', 18),\n",
       " ('Варфоромей', 'Пономарев', 44),\n",
       " ('Пров', 'Жуков', 11),\n",
       " ('Матвей', 'Васильев', 46),\n",
       " ('Роман', 'Кудряшов', 32),\n",
       " ('Юрий', 'Жуковский', 22),\n",
       " ('Ипат', 'Комаров', 14),\n",
       " ('Яков', 'Ефимов', 32),\n",
       " ('Феофан', 'Кулаков', 46),\n",
       " ('Фома', 'Журавлев', 18),\n",
       " ('Андрей', 'Ширяев', 46),\n",
       " ('Митрофан', 'Ершов', 22),\n",
       " ('Викентий', 'Ситников', 46),\n",
       " ('Семен', 'Симонов', 22),\n",
       " ('Кузьма', 'Гуляев', 44),\n",
       " ('Пахомов', 'Вячеслав', 14),\n",
       " ('Александр', 'Баранов', 44),\n",
       " ('Андрей', 'Архипов', 22),\n",
       " ('Анатолий', 'Владимиров', 14),\n",
       " ('Екатерина', 'Петрова', 14),\n",
       " ('Вадим', 'Петров', 44),\n",
       " ('Мария', 'Иванова', 32),\n",
       " ('Владимир', 'Киселев', 44),\n",
       " ('Федор', 'Миронова', 45),\n",
       " ('Антон', 'Петров', 22)]"
      ]
     },
     "execution_count": 21,
     "metadata": {},
     "output_type": "execute_result"
    }
   ],
   "source": [
    "sq = exists(university).where(university.c.univ_id == student.c.univ_id)\n",
    "sq = sq.where(university.c.rating > 300)\n",
    "\n",
    "s = select(student.c.name, student.c.surname, student.c.univ_id)\n",
    "s = s.where(sq)\n",
    "\n",
    "print(s)\n",
    "\n",
    "result = conn.execute(s).fetchall()\n",
    "print(len(result))\n",
    "result"
   ]
  },
  {
   "cell_type": "code",
   "execution_count": 22,
   "id": "eb548e1d",
   "metadata": {
    "pycharm": {
     "name": "#%%\n"
    }
   },
   "outputs": [
    {
     "name": "stdout",
     "output_type": "stream",
     "text": [
      "SELECT student.name, student.surname, student.univ_id \n",
      "FROM student, university \n",
      "WHERE student.univ_id = university.univ_id AND university.rating > :rating_1\n",
      "63\n"
     ]
    },
    {
     "data": {
      "text/plain": [
       "[('Вадим', 'Сидоров', 22),\n",
       " ('Рафаэль', 'Ордуханян', 18),\n",
       " ('Павел', 'Котов', 14),\n",
       " ('Вера', 'Кудряшова', 14),\n",
       " ('Вера', 'Журавлева', 11),\n",
       " ('Ия', 'Соколова', 18),\n",
       " ('Ирина', 'Пак', 15),\n",
       " ('Ольга', 'Казакова', 44),\n",
       " ('Елена', 'Шубина', 45),\n",
       " ('Анна', 'Миронова', 46),\n",
       " ('Синицин', 'Кондрат', 18),\n",
       " ('Лидия', 'Одинцова', 44),\n",
       " ('Рукижат', 'Гуляева', 22),\n",
       " ('Зинаида', 'Игнатова', 22),\n",
       " ('Светлана', 'Мишина', 18),\n",
       " ('Анжелика', 'Афанасьева', 32),\n",
       " ('Василиса', 'Фролова', 44),\n",
       " ('Элеонора', 'Лапина', 45),\n",
       " ('Мария', 'Казакова', 32),\n",
       " ('Фекла', 'Жукова', 46),\n",
       " ('Овчинникова', 'Валерия', 18),\n",
       " ('Кира', 'Костина', 14),\n",
       " ('Ираида', 'Блохина', 22),\n",
       " ('Светлана', 'Мельникова', 15),\n",
       " ('Оксана', 'Васильева', 32),\n",
       " ('Валерия', 'Сорокина', 45),\n",
       " ('Фаина', 'Тимофеева', 45),\n",
       " ('Анжела', 'Вишнякова', 46),\n",
       " ('Владислав', 'Трофимов', 11),\n",
       " ('Герасим', 'Бирюков', 44),\n",
       " ('Анатолий', 'Антонов', 22),\n",
       " ('Кирилл', 'Морозов', 44),\n",
       " ('Константин', 'Суханов', 14),\n",
       " ('Софон', 'Захаров', 46),\n",
       " ('Арсений', 'Панов', 32),\n",
       " ('Николай', 'Кондратьев', 14),\n",
       " ('Антонина', 'Воронова', 46),\n",
       " ('Тимур', 'Веселов', 11),\n",
       " ('Савва', 'Юдин', 18),\n",
       " ('Варфоромей', 'Пономарев', 44),\n",
       " ('Пров', 'Жуков', 11),\n",
       " ('Матвей', 'Васильев', 46),\n",
       " ('Роман', 'Кудряшов', 32),\n",
       " ('Юрий', 'Жуковский', 22),\n",
       " ('Ипат', 'Комаров', 14),\n",
       " ('Яков', 'Ефимов', 32),\n",
       " ('Феофан', 'Кулаков', 46),\n",
       " ('Фома', 'Журавлев', 18),\n",
       " ('Андрей', 'Ширяев', 46),\n",
       " ('Митрофан', 'Ершов', 22),\n",
       " ('Викентий', 'Ситников', 46),\n",
       " ('Семен', 'Симонов', 22),\n",
       " ('Кузьма', 'Гуляев', 44),\n",
       " ('Пахомов', 'Вячеслав', 14),\n",
       " ('Александр', 'Баранов', 44),\n",
       " ('Андрей', 'Архипов', 22),\n",
       " ('Анатолий', 'Владимиров', 14),\n",
       " ('Екатерина', 'Петрова', 14),\n",
       " ('Вадим', 'Петров', 44),\n",
       " ('Мария', 'Иванова', 32),\n",
       " ('Владимир', 'Киселев', 44),\n",
       " ('Федор', 'Миронова', 45),\n",
       " ('Антон', 'Петров', 22)]"
      ]
     },
     "execution_count": 22,
     "metadata": {},
     "output_type": "execute_result"
    }
   ],
   "source": [
    "\n",
    "\n",
    "sg = select(subject.c.subj_id)\n",
    "sg = sg.where(subject.c.semester==3)\n",
    "sf=select(exam_marks.c.student_id).group_by(exam_marks.c.student_id).having(func.avg(exam_marks.c.mark)>3)\n",
    "sf=sf.where(exam_marks.c.subj_id.in_(sg))\n",
    "s = select(student.c.student_id, student.c.surname, student.c.name)\n",
    "s = s.where(student.c.student_id.in_(sf))\n",
    "print(s)\n",
    "\n",
    "result = conn.execute(s).fetchall()\n",
    "print(len(result))\n",
    "result"
   ]
  },
  {
   "cell_type": "code",
   "execution_count": 23,
   "id": "35a52530",
   "metadata": {
    "pycharm": {
     "name": "#%%\n"
    }
   },
   "outputs": [
    {
     "name": "stdout",
     "output_type": "stream",
     "text": [
      "SELECT student.student_id, student.surname, student.name, student.stipend, student.kurs, student.city, student.birthday, student.univ_id \n",
      "FROM student \n",
      "WHERE EXISTS (SELECT * \n",
      "FROM university \n",
      "WHERE university.city = student.city AND university.univ_id != student.univ_id)\n",
      "8\n"
     ]
    },
    {
     "data": {
      "text/plain": [
       "[(6, 'Сидоров', 'Вадим', 150, 4, 'Москва', datetime.datetime(1999, 6, 7, 0, 0), 22),\n",
       " (55, 'Белкин', 'Вадим', 250, 5, 'Воронеж', datetime.datetime(2000, 1, 7, 0, 0), 10),\n",
       " (75, 'Игнатова', 'Зинаида', 100, 5, 'Ростов', datetime.datetime(2000, 9, 26, 0, 0), 22),\n",
       " (200, 'Баранов', 'Александр', 220, 2, 'Москва', datetime.datetime(2001, 8, 18, 0, 0), 44),\n",
       " (207, 'Миронова', 'Федор', 200, 3, 'Москва', datetime.datetime(2002, 4, 15, 0, 0), 45),\n",
       " (265, 'Павлов', 'Андрей', 0, 3, 'Воронеж', datetime.datetime(2000, 11, 5, 0, 0), 10),\n",
       " (276, 'Петров', 'Антон', 200, 4, 'Ульяновск', datetime.datetime(2001, 8, 5, 0, 0), 22),\n",
       " (654, 'Лукин', 'Артем', 200, 3, 'Воронеж', datetime.datetime(2001, 12, 1, 0, 0), 10)]"
      ]
     },
     "execution_count": 23,
     "metadata": {},
     "output_type": "execute_result"
    }
   ],
   "source": [
    "'''3Напишите запрос с EXISTS, выбирающий сведения о каждом студенте, для \n",
    "которого в городе его проживания имеется хотя бы один университет, в котором\n",
    "он не учится. '''\n",
    "s = select(student)\n",
    "s = s.where(exists().where(and_(university.c.city==student.c.city, university.c.univ_id!=student.c.univ_id)))\n",
    "\n",
    "sg = select(func.avg(exam_marks.c.mark)).group_by(exam_marks.c.subj_id)#.having(exam_marks.c.mark<func.avg(exam_marks.c.mark))\n",
    "sg = sg.where(exam_marks.c.subj_id==10).scalar_subquery()\n",
    "'''sm = select(exam_marks.c.student_id)#.group_by(exam_marks.c.subj_id)#.having(exam_marks.c.mark<func.avg(exam_marks.c.mark))\n",
    "sm = sm.where(andexam_marks.c.subj_id==10)'''\n",
    "s = select(student.c.name, student.c.surname, exam_marks.c.mark)\n",
    "s = s.where(and_(exam_marks.c.subj_id==10,exam_marks.c.mark<sg, exam_marks.c.student_id==student.c.student_id))\n",
    "s = s.where(and_(exam_marks.c.subj_id==10, exam_marks.c.student_id==student.c.student_id))\n",
    "s = s.where(student.c.student_id.in_(sg))\n",
    "print(s)\n",
    "\n",
    "result = conn.execute(s).fetchall()\n",
    "print(len(result))\n",
    "result\n"
   ]
  },
  {
   "cell_type": "code",
   "execution_count": 24,
   "id": "146b8511",
   "metadata": {
    "pycharm": {
     "name": "#%%\n"
    }
   },
   "outputs": [
    {
     "name": "stdout",
     "output_type": "stream",
     "text": [
      "SELECT DISTINCT su.subj_id, su.subj_name \n",
      "FROM subject AS su \n",
      "WHERE (SELECT count(em.student_id) AS count_1 \n",
      "FROM exam_marks AS em \n",
      "WHERE su.subj_id = em.subj_id) > :param_1\n",
      "9\n"
     ]
    },
    {
     "data": {
      "text/plain": [
       "[(12, 'Анализ данных'),\n",
       " (94, 'Английский язык'),\n",
       " (10, 'Информатика'),\n",
       " (56, 'История'),\n",
       " (43, 'Математика'),\n",
       " (13, 'ОБЖ'),\n",
       " (11, 'Программирование на языках Python и SQL'),\n",
       " (22, 'Физика'),\n",
       " (73, 'Физкультура')]"
      ]
     },
     "execution_count": 24,
     "metadata": {},
     "output_type": "execute_result"
    }
   ],
   "source": [
    "'''4Напишите запрос, выбирающий из таблицы SUBJECT данные о названиях \n",
    "предметов обучения, экзамены по которым сданы более чем одним студентом. '''\n",
    "em = exam_marks.alias('em')\n",
    "su = subject.alias('su')\n",
    "\n",
    "subq = select(func.count(em.c.student_id))\n",
    "subq = subq.where(su.c.subj_id == em.c.subj_id).scalar_subquery()\n",
    "\n",
    "s = select(distinct(su.c.subj_id), su.c.subj_name)\n",
    "s = s.where(subq > 1)\n",
    "\n",
    "print(s)\n",
    "\n",
    "result = conn.execute(s).fetchall()\n",
    "print(len(result))\n",
    "result"
   ]
  },
  {
   "cell_type": "code",
   "execution_count": 25,
   "id": "595235af",
   "metadata": {
    "pycharm": {
     "name": "#%%\n"
    }
   },
   "outputs": [
    {
     "name": "stdout",
     "output_type": "stream",
     "text": [
      "SELECT subject.subj_name \n",
      "FROM subject \n",
      "WHERE EXISTS (SELECT * \n",
      "FROM exam_marks \n",
      "WHERE exam_marks.subj_id = subject.subj_id AND exam_marks.mark IS NOT NULL)\n",
      "9\n"
     ]
    },
    {
     "data": {
      "text/plain": [
       "[('Информатика',),\n",
       " ('Программирование на языках Python и SQL',),\n",
       " ('Анализ данных',),\n",
       " ('ОБЖ',),\n",
       " ('Физика',),\n",
       " ('Математика',),\n",
       " ('История',),\n",
       " ('Физкультура',),\n",
       " ('Английский язык',)]"
      ]
     },
     "execution_count": 25,
     "metadata": {},
     "output_type": "execute_result"
    }
   ],
   "source": [
    "'''4Напишите запрос, выбирающий из таблицы SUBJECT данные о названиях \n",
    "предметов обучения, экзамены по которым сданы более чем одним студентом. '''\n",
    "s = select(subject.c.subj_name)\n",
    "s = s.where(exists().where(and_(exam_marks.c.subj_id==subject.c.subj_id, exam_marks.c.mark!= None)))\n",
    "print(s)\n",
    "\n",
    "result = conn.execute(s).fetchall()\n",
    "print(len(result))\n",
    "result"
   ]
  },
  {
   "cell_type": "code",
   "execution_count": 26,
   "id": "0920c536",
   "metadata": {
    "pycharm": {
     "name": "#%%\n"
    }
   },
   "outputs": [
    {
     "name": "stdout",
     "output_type": "stream",
     "text": [
      "SELECT DISTINCT student.city \n",
      "FROM student \n",
      "WHERE student.city IN (SELECT university.city \n",
      "FROM university)\n",
      "6\n"
     ]
    },
    {
     "data": {
      "text/plain": [
       "[('Москва',),\n",
       " ('Белгород',),\n",
       " ('Воронеж',),\n",
       " ('Новосибирск',),\n",
       " ('Ростов',),\n",
       " ('Ульяновск',)]"
      ]
     },
     "execution_count": 26,
     "metadata": {},
     "output_type": "execute_result"
    }
   ],
   "source": [
    "'''5Напишите запрос для получения списка городов проживания студентов, в \n",
    "которых есть хотя бы один университет. '''\n",
    "sub = select(university.c.city)\n",
    "\n",
    "s = select(distinct(student.c.city)).filter(student.c.city.in_(sub))\n",
    "print(s)\n",
    "\n",
    "result = conn.execute(s).fetchall()\n",
    "print(len(result))\n",
    "result"
   ]
  }
 ],
 "metadata": {
  "kernelspec": {
   "display_name": "Python 3",
   "language": "python",
   "name": "python3"
  },
  "language_info": {
   "codemirror_mode": {
    "name": "ipython",
    "version": 3
   },
   "file_extension": ".py",
   "mimetype": "text/x-python",
   "name": "python",
   "nbconvert_exporter": "python",
   "pygments_lexer": "ipython3",
   "version": "3.8.8"
  }
 },
 "nbformat": 4,
 "nbformat_minor": 5
}