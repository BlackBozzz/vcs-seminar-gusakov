{
 "cells": [
  {
   "cell_type": "markdown",
   "id": "349a5871",
   "metadata": {
    "pycharm": {
     "name": "#%% md\n"
    }
   },
   "source": [
    "<img src=\"../Img/Python_SQL_PI.png\" style=\"width:100%\">\n",
    "\n",
    "\n",
    "<p style=\"font-size:22px;text-align:center\">Семинар 4.1. Подзапросы</p> \n",
    "\n",
    "<p style=\"font-size:22px;text-align:center\">Домашнее задание</p>\n",
    "\n",
    "<a id = Home></a>\n",
    "\n",
    "17 марта 2022 года, пн<br>\n",
    "Поток: ПИ20-1, ПИ20-2, ПИ20-3, ПИ20-4, ПИ20-5, ПИ20-6 (2 подгруппа)<br>\n",
    "\n",
    "\n",
    "21 марта 2022 года, чт<br>\n",
    "ПИ20-1, ПИ20-2, ПИ20-3, ПИ20-4, ПИ20-5, ПИ20-6 (3 подгруппа)<br>\n",
    "ПИ20-1, ПИ20-2, ПИ20-3, ПИ20-4, ПИ20-5, ПИ20-6 (4 подгруппа)<br>\n",
    "\n",
    "31 марта 2022 года, чт<br>\n",
    "ПИ20-1, ПИ20-2, ПИ20-3, ПИ20-4, ПИ20-5, ПИ20-6 (1 подгруппа)"
   ]
  },
  {
   "cell_type": "markdown",
   "id": "c6a9031e",
   "metadata": {
    "pycharm": {
     "name": "#%% md\n"
    }
   },
   "source": [
    "<p style='font-size:120%'>1. Выполнить отображение БД Chinook.</p>\n",
    "\n",
    "<img src=\"../Img/chinook_ERD.png\" style=\"width:100%\">\n",
    "\n",
    "<p style='font-size:120%'>2. Выполнить запросы с помощью подзапросов.</p>\n",
    "\n",
    "2.1. С помощью подзапроса составьте запрос, выполняющий вывод информации о счетах клиентов из Бразилии. Результат должен содержать данные из таблицы Invoice: идентификатор счета, идентификатор клиента, дату выставления счета, адрес (BillingAddress), город (BillingCity) и страну (Billing Country) плательщика. Информацию о стране клиента (Brazil) получите в подзапросе из таблицы Customer (столбец Country).\n",
    "\n",
    "2.2. С помощью подзапроса покажите фамилию, имя, должность сотрудников, подчиняющихся сотруднику Nancy Edwards.\n",
    "\n",
    "2.3. С помощью подзапроса покажите идентификатор, название, длительность в минутах трэков в жанре *Classical* продолжительностью более 8 минут.\n",
    "\n",
    "2.4. С помощью подзапроса покажите альбомы, в составе которых более 25 трэков.\n",
    "\n",
    "2.5. С помощью подзапроса покажите жанры, в составе которых имеются трэки, длящиеся более 18 минут.\n",
    "\n",
    "2.6. С помощью подзапроса покажите артистов (Artist), исполняющих произведения в жанре *Classical*.\n",
    "\n",
    "2.7. С помощью подзапроса найдите артистов (Artist), записавших альбомы, в которых более 20 произведений.\n",
    "\n",
    "2.8. С помощью подзапроса найдите сотрудников, подчиняющихся рукводителю, проживающему с подчинённым в одном городе."
   ]
  },
  {
   "cell_type": "code",
   "execution_count": 2,
   "id": "a4f3136c",
   "metadata": {
    "pycharm": {
     "name": "#%%\n"
    }
   },
   "outputs": [
    {
     "name": "stdout",
     "output_type": "stream",
     "text": [
      "\u001B[33mDEPRECATION: Configuring installation scheme with distutils config files is deprecated and will no longer work in the near future. If you are using a Homebrew or Linuxbrew Python, please see discussion at https://github.com/Homebrew/homebrew-core/issues/76621\u001B[0m\u001B[33m\n",
      "\u001B[0mRequirement already satisfied: sqlalchemy in /usr/local/lib/python3.9/site-packages (1.4.35)\n",
      "Requirement already satisfied: greenlet!=0.4.17 in /usr/local/lib/python3.9/site-packages (from sqlalchemy) (1.1.2)\n",
      "\u001B[33mDEPRECATION: Configuring installation scheme with distutils config files is deprecated and will no longer work in the near future. If you are using a Homebrew or Linuxbrew Python, please see discussion at https://github.com/Homebrew/homebrew-core/issues/76621\u001B[0m\u001B[33m\n",
      "\u001B[0m"
     ]
    }
   ],
   "source": [
    "! pip install sqlalchemy"
   ]
  },
  {
   "cell_type": "code",
   "execution_count": 3,
   "id": "2eda6c03",
   "metadata": {
    "pycharm": {
     "name": "#%%\n"
    }
   },
   "outputs": [],
   "source": [
    "from sqlalchemy import MetaData, Table, create_engine, select, and_, or_, not_\n",
    "from sqlalchemy.sql import func, distinct, exists"
   ]
  },
  {
   "cell_type": "code",
   "execution_count": 4,
   "id": "63d5cd75",
   "metadata": {
    "pycharm": {
     "name": "#%%\n"
    }
   },
   "outputs": [
    {
     "data": {
      "text/plain": [
       "dict_keys(['Album', 'Artist', 'Customer', 'Employee', 'Genre', 'Invoice', 'InvoiceLine', 'Track', 'MediaType', 'Playlist', 'PlaylistTrack'])"
      ]
     },
     "execution_count": 4,
     "metadata": {},
     "output_type": "execute_result"
    }
   ],
   "source": [
    "engine = create_engine('sqlite+pysqlite:///../Data/Chinook_Sqlite.sqlite')\n",
    "metadata = MetaData() # Объект-контейнер, содержит информацию о схеме данных\n",
    "metadata.reflect(bind=engine)\n",
    "conn = engine.connect()\n",
    "metadata.tables.keys()"
   ]
  },
  {
   "cell_type": "code",
   "execution_count": 5,
   "id": "441b1dbe",
   "metadata": {
    "pycharm": {
     "name": "#%%\n"
    }
   },
   "outputs": [],
   "source": [
    "Album=Table(\"Album\", metadata, autoload=True, autoload_with=\"engine\")\n",
    "Artist=Table(\"Artist\", metadata, autoload=True, autoload_with=\"engine\")\n",
    "Customer=Table(\"Customer\", metadata, autoload=True, autoload_with=\"engine\")\n",
    "Employee=Table(\"Employee\", metadata, autoload=True, autoload_with=\"engine\")\n",
    "Genre=Table(\"Genre\", metadata, autoload=True, autoload_with=\"engine\")\n",
    "Invoice=Table(\"Invoice\", metadata, autolad=True, autolad_with=\"engine\")\n",
    "InvoiceLine=Table(\"InvoiceLine\", metadata, autoload=True, autoload_with=\"engine\")\n",
    "Track=Table(\"Track\", metadata, autoload=True, autoload_with=\"engine\")\n",
    "MediaType=Table(\"MediaType\", metadata, autoload=True, autoload_with=\"engine\")\n",
    "Playlist=Table(\"Playlist\", metadata, autoload=True, autoload_with=\"engine\")\n",
    "PlaylistTrack=Table(\"PlaylistTrack\", metadata, autoload=True, autoload_with=\"engine\")"
   ]
  },
  {
   "cell_type": "code",
   "execution_count": 6,
   "id": "cf663c8e",
   "metadata": {
    "pycharm": {
     "name": "#%%\n"
    }
   },
   "outputs": [
    {
     "name": "stdout",
     "output_type": "stream",
     "text": [
      "Artist\n",
      "Employee\n",
      "Genre\n",
      "MediaType\n",
      "Playlist\n",
      "Album\n",
      "Customer\n",
      "Invoice\n",
      "Track\n",
      "InvoiceLine\n",
      "PlaylistTrack\n"
     ]
    }
   ],
   "source": [
    "# Ваш код здесь\n",
    "metadata_obj = MetaData() # Объект-контейнер, содержит информацию о схеме данных\n",
    "metadata_obj.reflect(bind=engine)\n",
    "for t in metadata_obj.sorted_tables:\n",
    "    print(t.name)"
   ]
  },
  {
   "cell_type": "code",
   "execution_count": 21,
   "id": "865e66c1",
   "metadata": {
    "pycharm": {
     "name": "#%%\n"
    }
   },
   "outputs": [
    {
     "data": {
      "text/plain": [
       "[(98, 1, datetime.datetime(2010, 3, 11, 0, 0), 'Av. Brigadeiro Faria Lima, 2170', 'São José dos Campos', 'Brazil'),\n",
       " (121, 1, datetime.datetime(2010, 6, 13, 0, 0), 'Av. Brigadeiro Faria Lima, 2170', 'São José dos Campos', 'Brazil'),\n",
       " (143, 1, datetime.datetime(2010, 9, 15, 0, 0), 'Av. Brigadeiro Faria Lima, 2170', 'São José dos Campos', 'Brazil'),\n",
       " (195, 1, datetime.datetime(2011, 5, 6, 0, 0), 'Av. Brigadeiro Faria Lima, 2170', 'São José dos Campos', 'Brazil'),\n",
       " (316, 1, datetime.datetime(2012, 10, 27, 0, 0), 'Av. Brigadeiro Faria Lima, 2170', 'São José dos Campos', 'Brazil'),\n",
       " (327, 1, datetime.datetime(2012, 12, 7, 0, 0), 'Av. Brigadeiro Faria Lima, 2170', 'São José dos Campos', 'Brazil'),\n",
       " (382, 1, datetime.datetime(2013, 8, 7, 0, 0), 'Av. Brigadeiro Faria Lima, 2170', 'São José dos Campos', 'Brazil')]"
      ]
     },
     "execution_count": 21,
     "metadata": {},
     "output_type": "execute_result"
    }
   ],
   "source": [
    "\"\"\"\n",
    "2.1. С помощью подзапроса составьте запрос, выполняющий вывод информации о счетах клиентов из Бразилии.\n",
    "Результат должен содержать данные из таблицы Invoice: идентификатор счета, идентификатор клиента, \n",
    "дату выставления счета, адрес (BillingAddress), город (BillingCity) и страну (Billing Country) плательщика. \n",
    "Информацию о стране клиента (Brazil) получите в подзапросе из таблицы Customer (столбец Country).\n",
    "\"\"\"\n",
    "\n",
    "sq = select(Customer.c.CustomerId)\n",
    "sq = sq.where(Customer.c.Country == 'Brazil').scalar_subquery()\n",
    "\n",
    "\n",
    "s = select(Invoice.c.InvoiceId,Invoice.c.CustomerId,Invoice.c.InvoiceDate, Invoice.c.BillingAddress, Invoice.c.BillingCity,Invoice.c.BillingCountry)\n",
    "s = s.where(Invoice.c.CustomerId == sq)\n",
    "# s = s.where(Invoice.c.BillingCountry == 'Brazil')\n",
    "\n",
    "result = conn.execute(s).fetchall()\n",
    "result\n",
    "\n",
    "\n"
   ]
  },
  {
   "cell_type": "code",
   "execution_count": 30,
   "id": "531f5c58",
   "metadata": {
    "pycharm": {
     "name": "#%%\n"
    }
   },
   "outputs": [
    {
     "data": {
      "text/plain": [
       "[]"
      ]
     },
     "execution_count": 30,
     "metadata": {},
     "output_type": "execute_result"
    }
   ],
   "source": [
    "\"\"\"2.2. С помощью подзапроса покажите фамилию, имя, должность сотрудников, подчиняющихся сотруднику Nancy Edwards.\"\"\"\n",
    "\n",
    "sq = select(Employee.c.ReportsTo)\n",
    "# sq = sq.where(Employee.c.ReportsTo == 'Nancy Edwards')\n",
    "\n",
    "\n",
    "s = select(Employee.c.LastName,Employee.c.FirstName)\n",
    "s = s.where(Employee.c.ReportsTo == 'Nancy Edwards')\n",
    "\n",
    "result = conn.execute(s).fetchall()\n",
    "result"
   ]
  },
  {
   "cell_type": "code",
   "execution_count": 44,
   "id": "10917af4",
   "metadata": {
    "pycharm": {
     "name": "#%%\n"
    }
   },
   "outputs": [
    {
     "data": {
      "text/plain": [
       "[(50, 'You Oughta Know (Alternate)', 8),\n",
       " (127, 'Stratus', 9),\n",
       " (142, 'No More Tears', 9),\n",
       " (154, 'Sleeping Village', 10),\n",
       " (156, 'Wheels Of Confusion / The Straightener', 8),\n",
       " (187, 'Book Of Thel', 8),\n",
       " (192, 'The Alchemist', 8),\n",
       " (204, \"Talkin' 'Bout Women Obviously\", 9),\n",
       " (208, 'Terra', 8),\n",
       " (349, 'You Shook Me(2)', 10),\n",
       " (350, 'How Many More Times', 11),\n",
       " (357, 'Advance Romance', 11),\n",
       " (414, 'Mercyful Fate', 11),\n",
       " (417, \"Tuesday's Gone\", 9),\n",
       " (533, 'A E O Z', 8),\n",
       " (547, 'Mistreated', 12),\n",
       " (548, 'Smoke On The Water', 10),\n",
       " (549, 'You Fool No One', 13),\n",
       " (552, 'In My Time Of Dying', 11),\n",
       " (555, 'Kashmir', 8),\n",
       " (582, 'The Calling', 12),\n",
       " (601, \"Walkin'\", 13),\n",
       " (607, 'So What', 9),\n",
       " (609, 'Someday My Prince Will Come', 9),\n",
       " (610, 'My Funny Valentine (Live)', 15),\n",
       " (613, 'Petits Machins (Little Stuff)', 8),\n",
       " (614, 'Miles Runs The Voodoo Down', 14),\n",
       " (620, \"Space Truckin'\", 19),\n",
       " (621, 'Going Down / Highway Star', 15),\n",
       " (622, 'Mistreated (Alternate Version)', 14),\n",
       " (623, 'You Fool No One (Alternate Version)', 12),\n",
       " (690, 'I Heard It Through The Grapevine', 11),\n",
       " (756, 'Child In Time', 10),\n",
       " (766, 'Fools', 8),\n",
       " (770, 'Child In Time (Son Of Aleric - Instrumental)', 10),\n",
       " (848, 'Outbreak', 10),\n",
       " (969, 'The Real Thing', 8),\n",
       " (1069, 'Whistle Stop', 8),\n",
       " (1134, \"Jesus Of Suburbia / City Of The Damned / I Don't Care / Dearly Beloved / Tales Of Another Broken Home\", 9),\n",
       " (1144, \"Homecoming / The Death Of St. Jimmy / East 12th St. / Nobody Likes You / Rock And Roll Girlfriend / We're Coming Home Again\", 9),\n",
       " (1167, 'November Rain', 8),\n",
       " (1173, 'Coma', 10),\n",
       " (1182, 'Locomotive', 8),\n",
       " (1184, 'Estranged', 9),\n",
       " (1199, 'She Wears Black', 8),\n",
       " (1203, 'Brighter Than a Thousand Suns', 8),\n",
       " (1208, 'For the Greater Good of God', 9),\n",
       " (1210, 'The Legacy', 9),\n",
       " (1240, 'Dream Of Mirrors', 9),\n",
       " (1242, 'The Nomad', 9),\n",
       " (1244, 'The Thin Line Between Love & Hate', 8),\n",
       " (1249, 'Dance Of Death', 8),\n",
       " (1252, 'Paschendale', 8),\n",
       " (1293, 'Rime Of The Ancient Mariner', 13),\n",
       " (1320, 'Iron Maiden', 8),\n",
       " (1351, 'Rime of the Ancient Mariner', 13),\n",
       " (1359, 'Sign Of The Cross', 10),\n",
       " (1362, 'Dream Of Mirrors', 9),\n",
       " (1363, 'The Clansman', 9),\n",
       " (1375, 'Seventh Son of a Seventh Son', 9),\n",
       " (1384, 'Alexander the Great', 8),\n",
       " (1395, 'Sign Of The Cross', 11),\n",
       " (1405, 'The Unbeliever', 8),\n",
       " (1407, 'The Angel And The Gambler', 9),\n",
       " (1409, 'The Clansman', 8),\n",
       " (1412, \"Don't Look To The Eyes Of A Stranger\", 8),\n",
       " (1441, 'Blow Your Mind', 8),\n",
       " (1442, 'Revolution 1993', 10),\n",
       " (1455, 'Just Another Story', 8),\n",
       " (1581, 'Dazed And Confused', 18),\n",
       " (1582, 'Stairway To Heaven', 8),\n",
       " (1585, 'Whole Lotta Love (Medley)', 13),\n",
       " (1607, 'Carouselambra', 10),\n",
       " (1613, 'Stairway To Heaven', 8),\n",
       " (1626, 'How Many More Times', 8),\n",
       " (1646, 'In The Light', 8),\n",
       " (1655, 'Achilles Last Stand', 10),\n",
       " (1661, 'Tea For One', 9),\n",
       " (1665, 'Rain Song', 8),\n",
       " (1666, 'Dazed And Confused', 26),\n",
       " (1667, 'No Quarter', 12),\n",
       " (1668, 'Stairway To Heaven', 10),\n",
       " (1669, 'Moby Dick', 12),\n",
       " (1670, 'Whole Lotta Love', 14),\n",
       " (1693, 'Faroeste Caboclo', 9),\n",
       " (1752, 'Blind Curve: Vocal Under A Bloodlight / Passing Strangers / Mylo / Perimeter Walk / Threshold', 9),\n",
       " (1845, 'Bleeding Me', 8),\n",
       " (1852, 'The Outlaw Torn', 9),\n",
       " (1854, 'Master Of Puppets', 8),\n",
       " (1857, 'Disposable Heroes', 8),\n",
       " (1859, 'Orion', 8),\n",
       " (1873, 'Fixxxer', 8),\n",
       " (1881, 'The Call Of Ktulu', 8),\n",
       " (1884, 'Some Kind Of Monster', 8),\n",
       " (1886, 'Invisible Kid', 8),\n",
       " (1892, 'All Within My Hands', 8),\n",
       " (1894, '...And Justice For All', 9),\n",
       " (1900, 'To Live Is To Die', 9),\n",
       " (2105, 'Steal Away (The Night)', 8),\n",
       " (2203, 'Release', 9),\n",
       " (2373, 'Sir Psycho Sexy', 8),\n",
       " (2410, 'Xanadu', 11),\n",
       " (2412, 'By-Tor And The Snow Dog', 8),\n",
       " (2417, 'La Villa Strangiato', 9),\n",
       " (2420, 'Jingo', 9),\n",
       " (2421, 'El Corazon Manda', 11),\n",
       " (2422, 'La Puesta Del Sol', 10),\n",
       " (2426, 'Fried Neckbones And Home Fries', 10),\n",
       " (2427, 'Santana Jam', 14),\n",
       " (2429, \"We've Got To Get Together/Jingo\", 17),\n",
       " (2431, \"Just Ain't Good Enough\", 14),\n",
       " (2432, 'Funky Piano', 15),\n",
       " (2433, 'The Way You Do To Mer', 10),\n",
       " (2541, 'Riviera Paradise', 8),\n",
       " (2553, 'Where The River Goes', 8),\n",
       " (2565, 'The Sun Road', 14),\n",
       " (2566, 'Dark Corners', 8),\n",
       " (2568, 'Black Light Syndrome', 8),\n",
       " (2569, 'Falling in Circles', 9),\n",
       " (2570, 'Book of Hours', 9),\n",
       " (2571, 'Chaos-Control', 8),\n",
       " (2584, 'Title Song', 8),\n",
       " (2649, 'The End', 11),\n",
       " (2744, \"Won't Get Fooled Again (Full Length Version)\", 8),\n",
       " (2819, 'Battlestar Galactica: The Story So Far', 43),\n",
       " (2820, 'Occupation / Precipice', 88),\n",
       " (2821, 'Exodus, Pt. 1', 43),\n",
       " (2822, 'Exodus, Pt. 2', 43),\n",
       " (2823, 'Collaborators', 43),\n",
       " (2824, 'Torn', 43),\n",
       " (2825, 'A Measure of Salvation', 42),\n",
       " (2826, 'Hero', 45),\n",
       " (2827, 'Unfinished Business', 43),\n",
       " (2828, 'The Passage', 43),\n",
       " (2829, 'The Eye of Jupiter', 43),\n",
       " (2830, 'Rapture', 43),\n",
       " (2831, 'Taking a Break from All Your Worries', 43),\n",
       " (2832, 'The Woman King', 43),\n",
       " (2833, 'A Day In the Life', 43),\n",
       " (2834, 'Dirty Hands', 43),\n",
       " (2835, 'Maelstrom', 43),\n",
       " (2836, 'The Son Also Rises', 43),\n",
       " (2837, 'Crossroads, Pt. 1', 43),\n",
       " (2838, 'Crossroads, Pt. 2', 47),\n",
       " (2839, 'Genesis', 43),\n",
       " (2840, \"Don't Look Back\", 42),\n",
       " (2841, 'One Giant Leap', 43),\n",
       " (2842, 'Collision', 43),\n",
       " (2843, 'Hiros', 42),\n",
       " (2844, 'Better Halves', 42),\n",
       " (2845, 'Nothing to Hide', 43),\n",
       " (2846, 'Seven Minutes to Midnight', 43),\n",
       " (2847, 'Homecoming', 43),\n",
       " (2848, 'Six Months Ago', 43),\n",
       " (2849, 'Fallout', 43),\n",
       " (2850, 'The Fix', 43),\n",
       " (2851, 'Distractions', 43),\n",
       " (2852, 'Run!', 43),\n",
       " (2853, 'Unexpected', 43),\n",
       " (2854, 'Company Man', 43),\n",
       " (2855, 'Company Man', 43),\n",
       " (2856, 'Parasite', 43),\n",
       " (2857, 'A Tale of Two Cities', 43),\n",
       " (2858, 'Lost (Pilot, Part 1) [Premiere]', 42),\n",
       " (2859, 'Man of Science, Man of Faith (Premiere)', 43),\n",
       " (2860, 'Adrift', 42),\n",
       " (2861, 'Lost (Pilot, Part 2)', 40),\n",
       " (2862, 'The Glass Ballerina', 43),\n",
       " (2863, 'Further Instructions', 42),\n",
       " (2864, 'Orientation', 43),\n",
       " (2865, 'Tabula Rasa', 43),\n",
       " (2866, 'Every Man for Himself', 43),\n",
       " (2867, 'Everybody Hates Hugo', 43),\n",
       " (2868, 'Walkabout', 43),\n",
       " (2869, '...And Found', 42),\n",
       " (2870, 'The Cost of Living', 43),\n",
       " (2871, 'White Rabbit', 42),\n",
       " (2872, 'Abandoned', 43),\n",
       " (2873, 'House of the Rising Sun', 43),\n",
       " (2874, 'I Do', 43),\n",
       " (2875, 'Not In Portland', 43),\n",
       " (2876, 'Not In Portland', 43),\n",
       " (2877, 'The Moth', 43),\n",
       " (2878, 'The Other 48 Days', 43),\n",
       " (2879, 'Collision', 42),\n",
       " (2880, 'Confidence Man', 43),\n",
       " (2881, 'Flashes Before Your Eyes', 43),\n",
       " (2882, 'Lost Survival Guide', 43),\n",
       " (2883, 'Solitary', 43),\n",
       " (2884, 'What Kate Did', 43),\n",
       " (2885, 'Raised By Another', 43),\n",
       " (2886, 'Stranger In a Strange Land', 43),\n",
       " (2887, 'The 23rd Psalm', 43),\n",
       " (2888, 'All the Best Cowboys Have Daddy Issues', 42),\n",
       " (2889, 'The Hunting Party', 43),\n",
       " (2890, 'Tricia Tanaka Is Dead', 43),\n",
       " (2891, 'Enter 77', 43),\n",
       " (2892, 'Fire + Water', 43),\n",
       " (2893, 'Whatever the Case May Be', 43),\n",
       " (2894, 'Hearts and Minds', 43),\n",
       " (2895, 'Par Avion', 43),\n",
       " (2896, 'The Long Con', 44),\n",
       " (2897, 'One of Them', 44),\n",
       " (2898, 'Special', 43),\n",
       " (2899, 'The Man from Tallahassee', 43),\n",
       " (2900, 'Exposé', 43),\n",
       " (2901, 'Homecoming', 41),\n",
       " (2902, 'Maternity Leave', 46),\n",
       " (2903, 'Left Behind', 43),\n",
       " (2904, 'Outlaws', 43),\n",
       " (2905, 'The Whole Truth', 43),\n",
       " (2906, '...In Translation', 43),\n",
       " (2907, 'Lockdown', 43),\n",
       " (2908, 'One of Us', 43),\n",
       " (2909, 'Catch-22', 42),\n",
       " (2910, 'Dave', 47),\n",
       " (2911, 'Numbers', 43),\n",
       " (2912, 'D.O.C.', 43),\n",
       " (2913, 'Deus Ex Machina', 43),\n",
       " (2914, 'S.O.S.', 43),\n",
       " (2915, 'Do No Harm', 43),\n",
       " (2916, 'Two for the Road', 43),\n",
       " (2917, 'The Greater Good', 43),\n",
       " (2918, '\"?\"', 46),\n",
       " (2919, 'Born to Run', 43),\n",
       " (2920, 'Three Minutes', 46),\n",
       " (2921, 'Exodus (Part 1)', 43),\n",
       " (2922, 'Live Together, Die Alone, Pt. 1', 41),\n",
       " (2923, 'Exodus (Part 2) [Season Finale]', 43),\n",
       " (2924, 'Live Together, Die Alone, Pt. 2', 44),\n",
       " (2925, 'Exodus (Part 3) [Season Finale]', 43),\n",
       " (3017, 'All I Want Is You', 9),\n",
       " (3100, 'Year to the Day', 8),\n",
       " (3165, 'The Brig', 43),\n",
       " (3166, '.07%', 43),\n",
       " (3167, 'Five Years Gone', 43),\n",
       " (3168, 'The Hard Part', 43),\n",
       " (3169, 'The Man Behind the Curtain', 43),\n",
       " (3170, 'Greatest Hits', 43),\n",
       " (3171, 'Landslide', 43),\n",
       " (3172, 'The Office: An American Workplace (Pilot)', 23),\n",
       " (3173, 'Diversity Day', 21),\n",
       " (3174, 'Health Care', 22),\n",
       " (3175, 'The Alliance', 21),\n",
       " (3176, 'Basketball', 22),\n",
       " (3177, 'Hot Girl', 22),\n",
       " (3178, 'The Dundies', 20),\n",
       " (3179, 'Sexual Harassment', 21),\n",
       " (3180, 'Office Olympics', 21),\n",
       " (3181, 'The Fire', 21),\n",
       " (3182, 'Halloween', 21),\n",
       " (3183, 'The Fight', 22),\n",
       " (3184, 'The Client', 21),\n",
       " (3185, 'Performance Review', 21),\n",
       " (3186, 'Email Surveillance', 22),\n",
       " (3187, 'Christmas Party', 21),\n",
       " (3188, 'Booze Cruise', 21),\n",
       " (3189, 'The Injury', 21),\n",
       " (3190, 'The Secret', 21),\n",
       " (3191, 'The Carpet', 21),\n",
       " (3192, 'Boys and Girls', 21),\n",
       " (3193, \"Valentine's Day\", 21),\n",
       " (3194, \"Dwight's Speech\", 21),\n",
       " (3195, 'Take Your Daughter to Work Day', 21),\n",
       " (3196, \"Michael's Birthday\", 20),\n",
       " (3197, 'Drug Testing', 21),\n",
       " (3198, 'Conflict Resolution', 21),\n",
       " (3199, 'Casino Night - Season Finale', 28),\n",
       " (3200, 'Gay Witch Hunt', 22),\n",
       " (3201, 'The Convention', 21),\n",
       " (3202, 'The Coup', 21),\n",
       " (3203, 'Grief Counseling', 21),\n",
       " (3204, 'The Initiation', 21),\n",
       " (3205, 'Diwali', 21),\n",
       " (3206, 'Branch Closing', 30),\n",
       " (3207, 'The Merger', 30),\n",
       " (3208, 'The Convict', 21),\n",
       " (3209, 'A Benihana Christmas, Pts. 1 & 2', 41),\n",
       " (3210, 'Back from Vacation', 21),\n",
       " (3211, 'Traveling Salesmen', 21),\n",
       " (3212, \"Producer's Cut: The Return\", 28),\n",
       " (3213, 'Ben Franklin', 21),\n",
       " (3214, \"Phyllis's Wedding\", 21),\n",
       " (3215, 'Business School', 21),\n",
       " (3216, 'Cocktails', 21),\n",
       " (3217, 'The Negotiation', 29),\n",
       " (3218, 'Safety Training', 21),\n",
       " (3219, 'Product Recall', 21),\n",
       " (3220, \"Women's Appreciation\", 28),\n",
       " (3221, 'Beach Games', 27),\n",
       " (3222, 'The Job', 42),\n",
       " (3223, 'How to Stop an Exploding Man', 44),\n",
       " (3224, 'Through a Looking Glass', 84),\n",
       " (3226, 'Battlestar Galactica, Pt. 1', 49),\n",
       " (3227, 'Battlestar Galactica, Pt. 2', 49),\n",
       " (3228, 'Battlestar Galactica, Pt. 3', 48),\n",
       " (3229, 'Lost Planet of the Gods, Pt. 1', 48),\n",
       " (3230, 'Lost Planet of the Gods, Pt. 2', 48),\n",
       " (3231, 'The Lost Warrior', 48),\n",
       " (3232, 'The Long Patrol', 48),\n",
       " (3233, 'The Gun On Ice Planet Zero, Pt. 1', 48),\n",
       " (3234, 'The Gun On Ice Planet Zero, Pt. 2', 48),\n",
       " (3235, 'The Magnificent Warriors', 48),\n",
       " (3236, 'The Young Lords', 47),\n",
       " (3237, 'The Living Legend, Pt. 1', 48),\n",
       " (3238, 'The Living Legend, Pt. 2', 48),\n",
       " (3239, 'Fire In Space', 48),\n",
       " (3240, 'War of the Gods, Pt. 1', 48),\n",
       " (3241, 'War of the Gods, Pt. 2', 48),\n",
       " (3242, 'The Man With Nine Lives', 49),\n",
       " (3243, 'Murder On the Rising Star', 48),\n",
       " (3244, 'Greetings from Earth, Pt. 1', 49),\n",
       " (3245, 'Greetings from Earth, Pt. 2', 48),\n",
       " (3246, \"Baltar's Escape\", 48),\n",
       " (3247, 'Experiment In Terra', 48),\n",
       " (3248, 'Take the Celestra', 48),\n",
       " (3249, 'The Hand of God', 48),\n",
       " (3250, 'Pilot', 41),\n",
       " (3251, 'Through the Looking Glass, Pt. 2', 43),\n",
       " (3252, 'Through the Looking Glass, Pt. 1', 43),\n",
       " (3280, 'War Pigs', 8),\n",
       " (3286, 'Iron Man/Children of the Grave', 9),\n",
       " (3337, 'Past, Present, and Future', 41),\n",
       " (3338, 'The Beginning of the End', 43),\n",
       " (3340, 'LOST In 8:15', 8),\n",
       " (3341, 'Confirmed Dead', 43),\n",
       " (3342, 'The Economist', 43),\n",
       " (3343, 'Eggtown', 43),\n",
       " (3344, 'The Constant', 43),\n",
       " (3345, 'The Other Woman', 43),\n",
       " (3346, 'Ji Yeon', 43),\n",
       " (3347, 'Meet Kevin Johnson', 43),\n",
       " (3348, 'The Shape of Things to Come', 43),\n",
       " (3360, 'Something Nice Back Home', 43),\n",
       " (3361, 'Cabin Fever', 43),\n",
       " (3362, \"There's No Place Like Home, Pt. 1\", 43),\n",
       " (3363, \"There's No Place Like Home, Pt. 2\", 41),\n",
       " (3364, \"There's No Place Like Home, Pt. 3\", 43),\n",
       " (3366, 'Reach Down', 11),\n",
       " (3404, 'Miserere mei, Deus', 8),\n",
       " (3410, 'The Messiah: Behold, I Tell You a Mystery... The Trumpet Shall Sound', 9),\n",
       " (3423, 'Jupiter, the Bringer of Jollity', 8),\n",
       " (3425, 'Adagio for Strings from the String Quartet, Op. 11', 9),\n",
       " (3428, 'Branch Closing', 30),\n",
       " (3429, 'The Return', 28),\n",
       " (3432, \"Scheherazade, Op. 35: I. The Sea and Sindbad's Ship\", 9),\n",
       " (3434, 'Concerto for Piano No. 2 in F Minor, Op. 21: II. Larghetto', 9),\n",
       " (3440, 'Concerto for Cello and Orchestra in E minor, Op. 85: I. Adagio - Moderato', 8),\n",
       " (3445, 'On the Beautiful Blue Danube', 8),\n",
       " (3446, \"Symphonie Fantastique, Op. 14: V. Songe d'une nuit du sabbat\", 9),\n",
       " (3477, 'Amy Amy Amy (Outro)', 11),\n",
       " (3485, 'Symphony No. 3 Op. 36 for Orchestra and Soprano \"Symfonia Piesni Zalosnych\" \\\\ Lento E Largo - Tranquillissimo', 9),\n",
       " (3498, 'Concerto for Violin, Strings and Continuo in G Major, Op. 3, No. 9: I. Allegro', 8)]"
      ]
     },
     "execution_count": 44,
     "metadata": {},
     "output_type": "execute_result"
    }
   ],
   "source": [
    "\"\"\"2.3. С помощью подзапроса покажите идентификатор, название, длительность в минутах трэков в жанре Classical продолжительностью более 8 минут.\"\"\"\n",
    "\n",
    "sq = select(Genre.c.GenreId)\n",
    "sq = sq.where(Genre.c.Name == 'Classical').scalar_subquery()\n",
    "\n",
    "\n",
    "s = select(Track.c.TrackId,Track.c.Name,Track.c.Milliseconds/60000)\n",
    "s = s.where(Genre.c.GenreId == sq)\n",
    "s = s.where(Track.c.Milliseconds > 480000)\n",
    "\n",
    "result = conn.execute(s).fetchall()\n",
    "result"
   ]
  },
  {
   "cell_type": "code",
   "execution_count": null,
   "id": "588fc97d",
   "metadata": {
    "pycharm": {
     "name": "#%%\n"
    }
   },
   "outputs": [],
   "source": [
    "\"\"\"2.4. С помощью подзапроса покажите альбомы, в составе которых более 25 трэков.\"\"\"\n",
    "\n"
   ]
  }
 ],
 "metadata": {
  "kernelspec": {
   "display_name": "Python 3 (ipykernel)",
   "language": "python",
   "name": "python3"
  },
  "language_info": {
   "codemirror_mode": {
    "name": "ipython",
    "version": 3
   },
   "file_extension": ".py",
   "mimetype": "text/x-python",
   "name": "python",
   "nbconvert_exporter": "python",
   "pygments_lexer": "ipython3",
   "version": "3.9.10"
  }
 },
 "nbformat": 4,
 "nbformat_minor": 5
}